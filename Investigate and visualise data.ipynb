{
 "cells": [
  {
   "cell_type": "markdown",
   "metadata": {},
   "source": [
    "### Investigate and visualise data - Population, CO2 and Income"
   ]
  },
  {
   "cell_type": "markdown",
   "metadata": {},
   "source": [
    "Name: <b>Roshan Wahane</b>\n",
    "\n",
    "Date: 13/01/2019\n",
    "\n",
    "In the task, I am going to visualise the relationship between the population in different countries, the income in different countries and the CO2 emissions (tonnes per person) of different countries, and gain insights from how these relations and trends change over time. The data files used in this task were originally downloaded from <a href=\"https://www.gapminder.org/data/\"> Gapminder</a>.\n",
    "\n",
    "Datasets used are: - \n",
    "\n",
    "&#8226; Population.csv: This file contains yearly data regarding the estimated resident population, grouping by countries around the world, between 1800 and 2018.<br>\n",
    "\n",
    "&#8226; co2_emissions_tonnes_per_person.csv: This data file contains yearly data about the Carbon dioxide emissions from the burning of fossil fuels (metric tonnes of CO2 per person) across different countries around the world, for the period between 1800* and 2014.\n",
    "*Some countries’ data only start in recent years, e.g. the data for Timor-Leste only starts in year 2002.<br>\n",
    "\n",
    "&#8226; Income.csv: This data file contains yearly data of income per person adjusted for differences in purchasing power (in international dollars) across different countries around the world, for the period between 1800 and 2018.<br>\n",
    "\n",
    "Environment: Python 3.6.5 and Jupyter notebook Libraries used:\n",
    "\n",
    "- pandas\n",
    "- matplotlib\n",
    "- numpy\n",
    "- motionchart"
   ]
  },
  {
   "cell_type": "markdown",
   "metadata": {},
   "source": [
    "## Task A: Investigating Population, Income and the CO2 Emissions"
   ]
  },
  {
   "cell_type": "markdown",
   "metadata": {},
   "source": [
    "In this we are required to visualise the relationship between the population in different countries, the income in different countries and the CO2 emissions (tonnes per person) of\n",
    "different countries, and gain insights from how these relations and trends change over time."
   ]
  },
  {
   "cell_type": "markdown",
   "metadata": {},
   "source": [
    "## Import required libraries\n"
   ]
  },
  {
   "cell_type": "code",
   "execution_count": 1,
   "metadata": {},
   "outputs": [],
   "source": [
    "import pandas as pd\n",
    "import matplotlib.pyplot as plt\n",
    "%matplotlib inline\n",
    "import numpy as np"
   ]
  },
  {
   "cell_type": "markdown",
   "metadata": {},
   "source": [
    "### Load the data"
   ]
  },
  {
   "cell_type": "code",
   "execution_count": 2,
   "metadata": {},
   "outputs": [],
   "source": [
    "population = r'C:\\Users\\Admin\\Downloads\\Population.csv'"
   ]
  },
  {
   "cell_type": "code",
   "execution_count": 3,
   "metadata": {},
   "outputs": [],
   "source": [
    "income = r'C:\\Users\\Admin\\Downloads\\Income.csv'"
   ]
  },
  {
   "cell_type": "code",
   "execution_count": 4,
   "metadata": {},
   "outputs": [],
   "source": [
    "co2 = r'C:\\Users\\Admin\\Downloads\\co2_emissions_tonnes_per_person.csv'"
   ]
  },
  {
   "cell_type": "code",
   "execution_count": 5,
   "metadata": {},
   "outputs": [],
   "source": [
    "df_pop = pd.read_csv(population) # creating dataframe of the csv file for further investigation and manipulation"
   ]
  },
  {
   "cell_type": "code",
   "execution_count": 6,
   "metadata": {},
   "outputs": [],
   "source": [
    "df_income = pd.read_csv(income) # creating dataframe of the csv file for further investigation and manipulation"
   ]
  },
  {
   "cell_type": "code",
   "execution_count": 7,
   "metadata": {},
   "outputs": [],
   "source": [
    "df_co2 = pd.read_csv(co2) # creating dataframe of the csv file for further investigation and manipulation"
   ]
  },
  {
   "cell_type": "markdown",
   "metadata": {},
   "source": [
    "## A1. Investigating the Population Data"
   ]
  },
  {
   "cell_type": "code",
   "execution_count": 8,
   "metadata": {},
   "outputs": [
    {
     "data": {
      "text/html": [
       "<div>\n",
       "<style scoped>\n",
       "    .dataframe tbody tr th:only-of-type {\n",
       "        vertical-align: middle;\n",
       "    }\n",
       "\n",
       "    .dataframe tbody tr th {\n",
       "        vertical-align: top;\n",
       "    }\n",
       "\n",
       "    .dataframe thead th {\n",
       "        text-align: right;\n",
       "    }\n",
       "</style>\n",
       "<table border=\"1\" class=\"dataframe\">\n",
       "  <thead>\n",
       "    <tr style=\"text-align: right;\">\n",
       "      <th></th>\n",
       "      <th>Year</th>\n",
       "      <th>Afghanistan</th>\n",
       "      <th>Albania</th>\n",
       "      <th>Algeria</th>\n",
       "      <th>Andorra</th>\n",
       "      <th>Angola</th>\n",
       "      <th>Antigua and Barbuda</th>\n",
       "      <th>Argentina</th>\n",
       "      <th>Armenia</th>\n",
       "      <th>Australia</th>\n",
       "      <th>...</th>\n",
       "      <th>United Kingdom</th>\n",
       "      <th>United States</th>\n",
       "      <th>Uruguay</th>\n",
       "      <th>Uzbekistan</th>\n",
       "      <th>Vanuatu</th>\n",
       "      <th>Venezuela</th>\n",
       "      <th>Vietnam</th>\n",
       "      <th>Yemen</th>\n",
       "      <th>Zambia</th>\n",
       "      <th>Zimbabwe</th>\n",
       "    </tr>\n",
       "  </thead>\n",
       "  <tbody>\n",
       "    <tr>\n",
       "      <th>0</th>\n",
       "      <td>1800</td>\n",
       "      <td>3280000</td>\n",
       "      <td>410000</td>\n",
       "      <td>2500000</td>\n",
       "      <td>2650</td>\n",
       "      <td>1570000</td>\n",
       "      <td>37000</td>\n",
       "      <td>534000</td>\n",
       "      <td>413000</td>\n",
       "      <td>351000</td>\n",
       "      <td>...</td>\n",
       "      <td>12300000</td>\n",
       "      <td>6800000</td>\n",
       "      <td>55000</td>\n",
       "      <td>1920000</td>\n",
       "      <td>27800</td>\n",
       "      <td>718000</td>\n",
       "      <td>6550000</td>\n",
       "      <td>2590000</td>\n",
       "      <td>747000</td>\n",
       "      <td>1090000</td>\n",
       "    </tr>\n",
       "    <tr>\n",
       "      <th>1</th>\n",
       "      <td>1801</td>\n",
       "      <td>3280000</td>\n",
       "      <td>412000</td>\n",
       "      <td>2510000</td>\n",
       "      <td>2650</td>\n",
       "      <td>1570000</td>\n",
       "      <td>37000</td>\n",
       "      <td>534000</td>\n",
       "      <td>413000</td>\n",
       "      <td>350000</td>\n",
       "      <td>...</td>\n",
       "      <td>12500000</td>\n",
       "      <td>6930000</td>\n",
       "      <td>55000</td>\n",
       "      <td>1920000</td>\n",
       "      <td>27800</td>\n",
       "      <td>718000</td>\n",
       "      <td>6550000</td>\n",
       "      <td>2590000</td>\n",
       "      <td>747000</td>\n",
       "      <td>1090000</td>\n",
       "    </tr>\n",
       "    <tr>\n",
       "      <th>2</th>\n",
       "      <td>1802</td>\n",
       "      <td>3280000</td>\n",
       "      <td>413000</td>\n",
       "      <td>2520000</td>\n",
       "      <td>2650</td>\n",
       "      <td>1570000</td>\n",
       "      <td>37000</td>\n",
       "      <td>534000</td>\n",
       "      <td>413000</td>\n",
       "      <td>349000</td>\n",
       "      <td>...</td>\n",
       "      <td>12600000</td>\n",
       "      <td>7070000</td>\n",
       "      <td>55000</td>\n",
       "      <td>1920000</td>\n",
       "      <td>27800</td>\n",
       "      <td>718000</td>\n",
       "      <td>6550000</td>\n",
       "      <td>2590000</td>\n",
       "      <td>747000</td>\n",
       "      <td>1090000</td>\n",
       "    </tr>\n",
       "    <tr>\n",
       "      <th>3</th>\n",
       "      <td>1803</td>\n",
       "      <td>3280000</td>\n",
       "      <td>414000</td>\n",
       "      <td>2530000</td>\n",
       "      <td>2650</td>\n",
       "      <td>1570000</td>\n",
       "      <td>37000</td>\n",
       "      <td>534000</td>\n",
       "      <td>413000</td>\n",
       "      <td>348000</td>\n",
       "      <td>...</td>\n",
       "      <td>12800000</td>\n",
       "      <td>7200000</td>\n",
       "      <td>55000</td>\n",
       "      <td>1920000</td>\n",
       "      <td>27800</td>\n",
       "      <td>718000</td>\n",
       "      <td>6550000</td>\n",
       "      <td>2590000</td>\n",
       "      <td>747000</td>\n",
       "      <td>1090000</td>\n",
       "    </tr>\n",
       "    <tr>\n",
       "      <th>4</th>\n",
       "      <td>1804</td>\n",
       "      <td>3280000</td>\n",
       "      <td>416000</td>\n",
       "      <td>2540000</td>\n",
       "      <td>2650</td>\n",
       "      <td>1570000</td>\n",
       "      <td>37000</td>\n",
       "      <td>534000</td>\n",
       "      <td>413000</td>\n",
       "      <td>348000</td>\n",
       "      <td>...</td>\n",
       "      <td>13000000</td>\n",
       "      <td>7340000</td>\n",
       "      <td>55000</td>\n",
       "      <td>1920000</td>\n",
       "      <td>27800</td>\n",
       "      <td>718000</td>\n",
       "      <td>6550000</td>\n",
       "      <td>2590000</td>\n",
       "      <td>747000</td>\n",
       "      <td>1090000</td>\n",
       "    </tr>\n",
       "  </tbody>\n",
       "</table>\n",
       "<p>5 rows × 196 columns</p>\n",
       "</div>"
      ],
      "text/plain": [
       "   Year  Afghanistan  Albania  Algeria  Andorra   Angola  Antigua and Barbuda  \\\n",
       "0  1800      3280000   410000  2500000     2650  1570000                37000   \n",
       "1  1801      3280000   412000  2510000     2650  1570000                37000   \n",
       "2  1802      3280000   413000  2520000     2650  1570000                37000   \n",
       "3  1803      3280000   414000  2530000     2650  1570000                37000   \n",
       "4  1804      3280000   416000  2540000     2650  1570000                37000   \n",
       "\n",
       "   Argentina  Armenia  Australia    ...     United Kingdom  United States  \\\n",
       "0     534000   413000     351000    ...           12300000        6800000   \n",
       "1     534000   413000     350000    ...           12500000        6930000   \n",
       "2     534000   413000     349000    ...           12600000        7070000   \n",
       "3     534000   413000     348000    ...           12800000        7200000   \n",
       "4     534000   413000     348000    ...           13000000        7340000   \n",
       "\n",
       "   Uruguay  Uzbekistan  Vanuatu  Venezuela  Vietnam    Yemen  Zambia  Zimbabwe  \n",
       "0    55000     1920000    27800     718000  6550000  2590000  747000   1090000  \n",
       "1    55000     1920000    27800     718000  6550000  2590000  747000   1090000  \n",
       "2    55000     1920000    27800     718000  6550000  2590000  747000   1090000  \n",
       "3    55000     1920000    27800     718000  6550000  2590000  747000   1090000  \n",
       "4    55000     1920000    27800     718000  6550000  2590000  747000   1090000  \n",
       "\n",
       "[5 rows x 196 columns]"
      ]
     },
     "execution_count": 8,
     "metadata": {},
     "output_type": "execute_result"
    }
   ],
   "source": [
    "df_pop.head() # displaying first five rows of the dataset"
   ]
  },
  {
   "cell_type": "code",
   "execution_count": 9,
   "metadata": {},
   "outputs": [
    {
     "name": "stdout",
     "output_type": "stream",
     "text": [
      "<class 'pandas.core.frame.DataFrame'>\n",
      "RangeIndex: 219 entries, 0 to 218\n",
      "Columns: 196 entries, Year to Zimbabwe\n",
      "dtypes: int64(196)\n",
      "memory usage: 335.4 KB\n"
     ]
    }
   ],
   "source": [
    "df_pop.info()"
   ]
  },
  {
   "cell_type": "code",
   "execution_count": 10,
   "metadata": {},
   "outputs": [
    {
     "data": {
      "text/html": [
       "<div>\n",
       "<style scoped>\n",
       "    .dataframe tbody tr th:only-of-type {\n",
       "        vertical-align: middle;\n",
       "    }\n",
       "\n",
       "    .dataframe tbody tr th {\n",
       "        vertical-align: top;\n",
       "    }\n",
       "\n",
       "    .dataframe thead th {\n",
       "        text-align: right;\n",
       "    }\n",
       "</style>\n",
       "<table border=\"1\" class=\"dataframe\">\n",
       "  <thead>\n",
       "    <tr style=\"text-align: right;\">\n",
       "      <th></th>\n",
       "      <th>Year</th>\n",
       "      <th>Afghanistan</th>\n",
       "      <th>Albania</th>\n",
       "      <th>Algeria</th>\n",
       "      <th>Andorra</th>\n",
       "      <th>Angola</th>\n",
       "      <th>Antigua and Barbuda</th>\n",
       "      <th>Argentina</th>\n",
       "      <th>Armenia</th>\n",
       "      <th>Australia</th>\n",
       "      <th>...</th>\n",
       "      <th>United Kingdom</th>\n",
       "      <th>United States</th>\n",
       "      <th>Uruguay</th>\n",
       "      <th>Uzbekistan</th>\n",
       "      <th>Vanuatu</th>\n",
       "      <th>Venezuela</th>\n",
       "      <th>Vietnam</th>\n",
       "      <th>Yemen</th>\n",
       "      <th>Zambia</th>\n",
       "      <th>Zimbabwe</th>\n",
       "    </tr>\n",
       "  </thead>\n",
       "  <tbody>\n",
       "    <tr>\n",
       "      <th>count</th>\n",
       "      <td>219.000000</td>\n",
       "      <td>2.190000e+02</td>\n",
       "      <td>2.190000e+02</td>\n",
       "      <td>2.190000e+02</td>\n",
       "      <td>219.000000</td>\n",
       "      <td>2.190000e+02</td>\n",
       "      <td>219.000000</td>\n",
       "      <td>2.190000e+02</td>\n",
       "      <td>2.190000e+02</td>\n",
       "      <td>2.190000e+02</td>\n",
       "      <td>...</td>\n",
       "      <td>2.190000e+02</td>\n",
       "      <td>2.190000e+02</td>\n",
       "      <td>2.190000e+02</td>\n",
       "      <td>2.190000e+02</td>\n",
       "      <td>219.000000</td>\n",
       "      <td>2.190000e+02</td>\n",
       "      <td>2.190000e+02</td>\n",
       "      <td>2.190000e+02</td>\n",
       "      <td>2.190000e+02</td>\n",
       "      <td>2.190000e+02</td>\n",
       "    </tr>\n",
       "    <tr>\n",
       "      <th>mean</th>\n",
       "      <td>1909.000000</td>\n",
       "      <td>8.317763e+06</td>\n",
       "      <td>1.276680e+06</td>\n",
       "      <td>1.027073e+07</td>\n",
       "      <td>16866.210046</td>\n",
       "      <td>5.743881e+06</td>\n",
       "      <td>47580.821918</td>\n",
       "      <td>1.262534e+07</td>\n",
       "      <td>1.360260e+06</td>\n",
       "      <td>6.867110e+06</td>\n",
       "      <td>...</td>\n",
       "      <td>3.889224e+07</td>\n",
       "      <td>1.163866e+08</td>\n",
       "      <td>1.404231e+06</td>\n",
       "      <td>8.065114e+06</td>\n",
       "      <td>68136.073059</td>\n",
       "      <td>7.056461e+06</td>\n",
       "      <td>2.753050e+07</td>\n",
       "      <td>6.026484e+06</td>\n",
       "      <td>3.041539e+06</td>\n",
       "      <td>3.896849e+06</td>\n",
       "    </tr>\n",
       "    <tr>\n",
       "      <th>std</th>\n",
       "      <td>63.364028</td>\n",
       "      <td>7.202876e+06</td>\n",
       "      <td>9.490131e+05</td>\n",
       "      <td>1.039960e+07</td>\n",
       "      <td>24153.824146</td>\n",
       "      <td>6.273309e+06</td>\n",
       "      <td>19369.696309</td>\n",
       "      <td>1.347963e+07</td>\n",
       "      <td>1.008680e+06</td>\n",
       "      <td>6.923381e+06</td>\n",
       "      <td>...</td>\n",
       "      <td>1.601492e+07</td>\n",
       "      <td>9.740248e+07</td>\n",
       "      <td>1.220264e+06</td>\n",
       "      <td>8.268030e+06</td>\n",
       "      <td>61916.653991</td>\n",
       "      <td>8.710268e+06</td>\n",
       "      <td>2.593517e+07</td>\n",
       "      <td>6.103643e+06</td>\n",
       "      <td>4.011875e+06</td>\n",
       "      <td>4.069346e+06</td>\n",
       "    </tr>\n",
       "    <tr>\n",
       "      <th>min</th>\n",
       "      <td>1800.000000</td>\n",
       "      <td>3.280000e+06</td>\n",
       "      <td>4.100000e+05</td>\n",
       "      <td>2.500000e+06</td>\n",
       "      <td>2650.000000</td>\n",
       "      <td>1.570000e+06</td>\n",
       "      <td>30000.000000</td>\n",
       "      <td>5.340000e+05</td>\n",
       "      <td>4.130000e+05</td>\n",
       "      <td>3.330000e+05</td>\n",
       "      <td>...</td>\n",
       "      <td>1.230000e+07</td>\n",
       "      <td>6.800000e+06</td>\n",
       "      <td>5.500000e+04</td>\n",
       "      <td>1.920000e+06</td>\n",
       "      <td>27800.000000</td>\n",
       "      <td>7.180000e+05</td>\n",
       "      <td>6.550000e+06</td>\n",
       "      <td>2.590000e+06</td>\n",
       "      <td>7.410000e+05</td>\n",
       "      <td>1.090000e+06</td>\n",
       "    </tr>\n",
       "    <tr>\n",
       "      <th>25%</th>\n",
       "      <td>1854.500000</td>\n",
       "      <td>3.880000e+06</td>\n",
       "      <td>5.255000e+05</td>\n",
       "      <td>3.405000e+06</td>\n",
       "      <td>3320.000000</td>\n",
       "      <td>2.030000e+06</td>\n",
       "      <td>35700.000000</td>\n",
       "      <td>1.245000e+06</td>\n",
       "      <td>5.670000e+05</td>\n",
       "      <td>9.515000e+05</td>\n",
       "      <td>...</td>\n",
       "      <td>2.350000e+07</td>\n",
       "      <td>2.750000e+07</td>\n",
       "      <td>1.725000e+05</td>\n",
       "      <td>2.635000e+06</td>\n",
       "      <td>32050.000000</td>\n",
       "      <td>1.390000e+06</td>\n",
       "      <td>9.025000e+06</td>\n",
       "      <td>2.765000e+06</td>\n",
       "      <td>7.470000e+05</td>\n",
       "      <td>1.385000e+06</td>\n",
       "    </tr>\n",
       "    <tr>\n",
       "      <th>50%</th>\n",
       "      <td>1909.000000</td>\n",
       "      <td>5.320000e+06</td>\n",
       "      <td>8.930000e+05</td>\n",
       "      <td>5.360000e+06</td>\n",
       "      <td>4640.000000</td>\n",
       "      <td>3.230000e+06</td>\n",
       "      <td>37000.000000</td>\n",
       "      <td>6.600000e+06</td>\n",
       "      <td>9.280000e+05</td>\n",
       "      <td>4.300000e+06</td>\n",
       "      <td>...</td>\n",
       "      <td>4.150000e+07</td>\n",
       "      <td>9.240000e+07</td>\n",
       "      <td>1.070000e+06</td>\n",
       "      <td>4.290000e+06</td>\n",
       "      <td>40000.000000</td>\n",
       "      <td>2.980000e+06</td>\n",
       "      <td>1.630000e+07</td>\n",
       "      <td>3.290000e+06</td>\n",
       "      <td>7.920000e+05</td>\n",
       "      <td>2.040000e+06</td>\n",
       "    </tr>\n",
       "    <tr>\n",
       "      <th>75%</th>\n",
       "      <td>1963.500000</td>\n",
       "      <td>9.630000e+06</td>\n",
       "      <td>1.815000e+06</td>\n",
       "      <td>1.215000e+07</td>\n",
       "      <td>16950.000000</td>\n",
       "      <td>6.035000e+06</td>\n",
       "      <td>58900.000000</td>\n",
       "      <td>2.180000e+07</td>\n",
       "      <td>2.110000e+06</td>\n",
       "      <td>1.100000e+07</td>\n",
       "      <td>...</td>\n",
       "      <td>5.375000e+07</td>\n",
       "      <td>1.960000e+08</td>\n",
       "      <td>2.655000e+06</td>\n",
       "      <td>9.620000e+06</td>\n",
       "      <td>71050.000000</td>\n",
       "      <td>9.305000e+06</td>\n",
       "      <td>3.625000e+07</td>\n",
       "      <td>5.495000e+06</td>\n",
       "      <td>3.400000e+06</td>\n",
       "      <td>4.200000e+06</td>\n",
       "    </tr>\n",
       "    <tr>\n",
       "      <th>max</th>\n",
       "      <td>2018.000000</td>\n",
       "      <td>3.640000e+07</td>\n",
       "      <td>3.280000e+06</td>\n",
       "      <td>4.200000e+07</td>\n",
       "      <td>84500.000000</td>\n",
       "      <td>3.080000e+07</td>\n",
       "      <td>103000.000000</td>\n",
       "      <td>4.470000e+07</td>\n",
       "      <td>3.540000e+06</td>\n",
       "      <td>2.480000e+07</td>\n",
       "      <td>...</td>\n",
       "      <td>6.660000e+07</td>\n",
       "      <td>3.270000e+08</td>\n",
       "      <td>3.470000e+06</td>\n",
       "      <td>3.240000e+07</td>\n",
       "      <td>282000.000000</td>\n",
       "      <td>3.240000e+07</td>\n",
       "      <td>9.650000e+07</td>\n",
       "      <td>2.890000e+07</td>\n",
       "      <td>1.760000e+07</td>\n",
       "      <td>1.690000e+07</td>\n",
       "    </tr>\n",
       "  </tbody>\n",
       "</table>\n",
       "<p>8 rows × 196 columns</p>\n",
       "</div>"
      ],
      "text/plain": [
       "              Year   Afghanistan       Albania       Algeria       Andorra  \\\n",
       "count   219.000000  2.190000e+02  2.190000e+02  2.190000e+02    219.000000   \n",
       "mean   1909.000000  8.317763e+06  1.276680e+06  1.027073e+07  16866.210046   \n",
       "std      63.364028  7.202876e+06  9.490131e+05  1.039960e+07  24153.824146   \n",
       "min    1800.000000  3.280000e+06  4.100000e+05  2.500000e+06   2650.000000   \n",
       "25%    1854.500000  3.880000e+06  5.255000e+05  3.405000e+06   3320.000000   \n",
       "50%    1909.000000  5.320000e+06  8.930000e+05  5.360000e+06   4640.000000   \n",
       "75%    1963.500000  9.630000e+06  1.815000e+06  1.215000e+07  16950.000000   \n",
       "max    2018.000000  3.640000e+07  3.280000e+06  4.200000e+07  84500.000000   \n",
       "\n",
       "             Angola  Antigua and Barbuda     Argentina       Armenia  \\\n",
       "count  2.190000e+02           219.000000  2.190000e+02  2.190000e+02   \n",
       "mean   5.743881e+06         47580.821918  1.262534e+07  1.360260e+06   \n",
       "std    6.273309e+06         19369.696309  1.347963e+07  1.008680e+06   \n",
       "min    1.570000e+06         30000.000000  5.340000e+05  4.130000e+05   \n",
       "25%    2.030000e+06         35700.000000  1.245000e+06  5.670000e+05   \n",
       "50%    3.230000e+06         37000.000000  6.600000e+06  9.280000e+05   \n",
       "75%    6.035000e+06         58900.000000  2.180000e+07  2.110000e+06   \n",
       "max    3.080000e+07        103000.000000  4.470000e+07  3.540000e+06   \n",
       "\n",
       "          Australia      ...       United Kingdom  United States  \\\n",
       "count  2.190000e+02      ...         2.190000e+02   2.190000e+02   \n",
       "mean   6.867110e+06      ...         3.889224e+07   1.163866e+08   \n",
       "std    6.923381e+06      ...         1.601492e+07   9.740248e+07   \n",
       "min    3.330000e+05      ...         1.230000e+07   6.800000e+06   \n",
       "25%    9.515000e+05      ...         2.350000e+07   2.750000e+07   \n",
       "50%    4.300000e+06      ...         4.150000e+07   9.240000e+07   \n",
       "75%    1.100000e+07      ...         5.375000e+07   1.960000e+08   \n",
       "max    2.480000e+07      ...         6.660000e+07   3.270000e+08   \n",
       "\n",
       "            Uruguay    Uzbekistan        Vanuatu     Venezuela       Vietnam  \\\n",
       "count  2.190000e+02  2.190000e+02     219.000000  2.190000e+02  2.190000e+02   \n",
       "mean   1.404231e+06  8.065114e+06   68136.073059  7.056461e+06  2.753050e+07   \n",
       "std    1.220264e+06  8.268030e+06   61916.653991  8.710268e+06  2.593517e+07   \n",
       "min    5.500000e+04  1.920000e+06   27800.000000  7.180000e+05  6.550000e+06   \n",
       "25%    1.725000e+05  2.635000e+06   32050.000000  1.390000e+06  9.025000e+06   \n",
       "50%    1.070000e+06  4.290000e+06   40000.000000  2.980000e+06  1.630000e+07   \n",
       "75%    2.655000e+06  9.620000e+06   71050.000000  9.305000e+06  3.625000e+07   \n",
       "max    3.470000e+06  3.240000e+07  282000.000000  3.240000e+07  9.650000e+07   \n",
       "\n",
       "              Yemen        Zambia      Zimbabwe  \n",
       "count  2.190000e+02  2.190000e+02  2.190000e+02  \n",
       "mean   6.026484e+06  3.041539e+06  3.896849e+06  \n",
       "std    6.103643e+06  4.011875e+06  4.069346e+06  \n",
       "min    2.590000e+06  7.410000e+05  1.090000e+06  \n",
       "25%    2.765000e+06  7.470000e+05  1.385000e+06  \n",
       "50%    3.290000e+06  7.920000e+05  2.040000e+06  \n",
       "75%    5.495000e+06  3.400000e+06  4.200000e+06  \n",
       "max    2.890000e+07  1.760000e+07  1.690000e+07  \n",
       "\n",
       "[8 rows x 196 columns]"
      ]
     },
     "execution_count": 10,
     "metadata": {},
     "output_type": "execute_result"
    }
   ],
   "source": [
    "df_pop.describe()"
   ]
  },
  {
   "cell_type": "code",
   "execution_count": 11,
   "metadata": {},
   "outputs": [
    {
     "data": {
      "text/plain": [
       "0"
      ]
     },
     "execution_count": 11,
     "metadata": {},
     "output_type": "execute_result"
    }
   ],
   "source": [
    "df_pop.isnull().sum().sum() # checking to see the total number of null values in the dataset"
   ]
  },
  {
   "cell_type": "markdown",
   "metadata": {},
   "source": [
    "##### 1. In Python plot the population growth of Australia, China and United States over time.<br>\n",
    "o Are the population values increasing or decreasing over time?"
   ]
  },
  {
   "cell_type": "markdown",
   "metadata": {},
   "source": [
    "As we can see it in the below graph, the population values of Australia, China and United States are increasing over time. So, over the years the population of these countries have definitely increased.\n"
   ]
  },
  {
   "cell_type": "code",
   "execution_count": 12,
   "metadata": {},
   "outputs": [
    {
     "data": {
      "image/png": "[encoded data removed]",
      "text/plain": [
       "<Figure size 1080x720 with 1 Axes>"
      ]
     },
     "metadata": {},
     "output_type": "display_data"
    }
   ],
   "source": [
    "plt.figure(figsize=(15,10))\n",
    "plt.plot(df_pop['Year'], df_pop.Australia) # plotting population of the country with respect to year\n",
    "plt.legend()\n",
    "plt.xlabel('Year')\n",
    "plt.ylabel('Population of Australia')\n",
    "plt.show()"
   ]
  },
  {
   "cell_type": "code",
   "execution_count": 13,
   "metadata": {},
   "outputs": [
    {
     "data": {
      "image/png": "[encoded data removed]",
      "text/plain": [
       "<Figure size 1080x720 with 1 Axes>"
      ]
     },
     "metadata": {},
     "output_type": "display_data"
    }
   ],
   "source": [
    "plt.figure(figsize=(15,10))\n",
    "plt.plot(df_pop['Year'], df_pop.China) # plotting population of the country with respect to year\n",
    "plt.legend()\n",
    "plt.xlabel('Year')\n",
    "plt.ylabel('Population of China')\n",
    "plt.show()"
   ]
  },
  {
   "cell_type": "code",
   "execution_count": 14,
   "metadata": {},
   "outputs": [
    {
     "data": {
      "image/png": "[encoded data removed]",
      "text/plain": [
       "<Figure size 1080x720 with 1 Axes>"
      ]
     },
     "metadata": {},
     "output_type": "display_data"
    }
   ],
   "source": [
    "plt.figure(figsize=(15,10))\n",
    "plt.plot(df_pop['Year'], df_pop['United States']) # plotting population of the country with respect to year\n",
    "plt.legend()\n",
    "plt.xlabel('Year')\n",
    "plt.ylabel('Population of United States')\n",
    "plt.show()"
   ]
  },
  {
   "cell_type": "code",
   "execution_count": 15,
   "metadata": {},
   "outputs": [
    {
     "data": {
      "image/png": "[encoded data removed]",
      "text/plain": [
       "<Figure size 1080x720 with 1 Axes>"
      ]
     },
     "metadata": {},
     "output_type": "display_data"
    }
   ],
   "source": [
    "plt.figure(figsize=(15,10))\n",
    "plt.plot(df_pop['Year'], df_pop.Australia, color='red') # plotting population of Australia with respect to year\n",
    "plt.plot(df_pop['Year'], df_pop.China, color='green') # plotting population of China with respect to year \n",
    "plt.plot(df_pop['Year'], df_pop['United States'], color='blue') # plotting population of United States with respect to year\n",
    "plt.legend()\n",
    "plt.xlabel('Year')\n",
    "plt.ylabel('Population')\n",
    "plt.show()"
   ]
  },
  {
   "cell_type": "code",
   "execution_count": null,
   "metadata": {},
   "outputs": [],
   "source": []
  },
  {
   "cell_type": "markdown",
   "metadata": {},
   "source": [
    "<b>2. Fit a linear regression using Python to the Chinese population data and plot the linear fit.<br></b>\n",
    "o Does the linear fit look good?<br>\n",
    "o Use the linear fit to predict the resident population in China in 2020 and 2100.<br>\n",
    "o Instead of fitting the linear regression to all of the data, try fitting it to just the most\n",
    "recent data points (say from 1960 onwards). How is the fit? Which model would give\n",
    "better predictions of future population in China do you think?"
   ]
  },
  {
   "cell_type": "code",
   "execution_count": 16,
   "metadata": {},
   "outputs": [],
   "source": [
    "from scipy.stats import linregress"
   ]
  },
  {
   "cell_type": "code",
   "execution_count": 17,
   "metadata": {},
   "outputs": [],
   "source": [
    "slope, intercept, r_value, p_value, std_err = linregress(df_pop['Year'], df_pop['China'])"
   ]
  },
  {
   "cell_type": "code",
   "execution_count": 18,
   "metadata": {},
   "outputs": [],
   "source": [
    "line = [slope*xi + intercept for xi in df_pop['Year']]"
   ]
  },
  {
   "cell_type": "code",
   "execution_count": 19,
   "metadata": {},
   "outputs": [],
   "source": [
    "# Does the linear fit look good?"
   ]
  },
  {
   "cell_type": "code",
   "execution_count": 20,
   "metadata": {},
   "outputs": [
    {
     "data": {
      "image/png": "[encoded data removed]",
      "text/plain": [
       "<Figure size 1080x720 with 1 Axes>"
      ]
     },
     "metadata": {},
     "output_type": "display_data"
    },
    {
     "name": "stdout",
     "output_type": "stream",
     "text": [
      "The r_value is: 0.8446245854164944\n"
     ]
    }
   ],
   "source": [
    "plt.figure(figsize=(15,10))\n",
    "plt.plot(df_pop['Year'], line,'r-', linewidth=5) # plotting linear line regression\n",
    "plt.scatter(df_pop['Year'], df_pop['China']) # plotting population of China\n",
    "plt.legend()\n",
    "plt.xlabel('Year')\n",
    "plt.ylabel('Population')\n",
    "plt.show()\n",
    "print(\"The r_value is:\", r_value) # printing r_value"
   ]
  },
  {
   "cell_type": "code",
   "execution_count": 21,
   "metadata": {},
   "outputs": [],
   "source": [
    "# Use the linear fit to predict the resident population in China in 2020 and 2100."
   ]
  },
  {
   "cell_type": "code",
   "execution_count": 22,
   "metadata": {},
   "outputs": [
    {
     "name": "stdout",
     "output_type": "stream",
     "text": [
      "Population prediction for year 2020 is: 1095698498\n",
      "Population prediction for year 2100 is: 1448594862\n"
     ]
    }
   ],
   "source": [
    "for i in [2020,2100]:\n",
    "    print(\"Population prediction for year\", i, \"is:\", int(slope*i+intercept)) # predicting population of China"
   ]
  },
  {
   "cell_type": "code",
   "execution_count": 23,
   "metadata": {},
   "outputs": [],
   "source": [
    "# Instead of fitting the linear regression to all of the data, try fitting it to just the most recent data points \n",
    "# (say from 1960 onwards). How is the fit? Which model would give better predictions of future population in China \n",
    "# do you think?"
   ]
  },
  {
   "cell_type": "code",
   "execution_count": 24,
   "metadata": {},
   "outputs": [],
   "source": [
    "pop_1960 = df_pop[160:] # creating a separate dataframe of population for year 1960 onwards"
   ]
  },
  {
   "cell_type": "code",
   "execution_count": 25,
   "metadata": {},
   "outputs": [
    {
     "data": {
      "text/html": [
       "<div>\n",
       "<style scoped>\n",
       "    .dataframe tbody tr th:only-of-type {\n",
       "        vertical-align: middle;\n",
       "    }\n",
       "\n",
       "    .dataframe tbody tr th {\n",
       "        vertical-align: top;\n",
       "    }\n",
       "\n",
       "    .dataframe thead th {\n",
       "        text-align: right;\n",
       "    }\n",
       "</style>\n",
       "<table border=\"1\" class=\"dataframe\">\n",
       "  <thead>\n",
       "    <tr style=\"text-align: right;\">\n",
       "      <th></th>\n",
       "      <th>Year</th>\n",
       "      <th>Afghanistan</th>\n",
       "      <th>Albania</th>\n",
       "      <th>Algeria</th>\n",
       "      <th>Andorra</th>\n",
       "      <th>Angola</th>\n",
       "      <th>Antigua and Barbuda</th>\n",
       "      <th>Argentina</th>\n",
       "      <th>Armenia</th>\n",
       "      <th>Australia</th>\n",
       "      <th>...</th>\n",
       "      <th>United Kingdom</th>\n",
       "      <th>United States</th>\n",
       "      <th>Uruguay</th>\n",
       "      <th>Uzbekistan</th>\n",
       "      <th>Vanuatu</th>\n",
       "      <th>Venezuela</th>\n",
       "      <th>Vietnam</th>\n",
       "      <th>Yemen</th>\n",
       "      <th>Zambia</th>\n",
       "      <th>Zimbabwe</th>\n",
       "    </tr>\n",
       "  </thead>\n",
       "  <tbody>\n",
       "    <tr>\n",
       "      <th>160</th>\n",
       "      <td>1960</td>\n",
       "      <td>9000000</td>\n",
       "      <td>1640000</td>\n",
       "      <td>11100000</td>\n",
       "      <td>13400</td>\n",
       "      <td>5640000</td>\n",
       "      <td>55300</td>\n",
       "      <td>20600000</td>\n",
       "      <td>1870000</td>\n",
       "      <td>10300000</td>\n",
       "      <td>...</td>\n",
       "      <td>52400000</td>\n",
       "      <td>187000000</td>\n",
       "      <td>2540000</td>\n",
       "      <td>8550000</td>\n",
       "      <td>63700</td>\n",
       "      <td>8150000</td>\n",
       "      <td>32700000</td>\n",
       "      <td>5170000</td>\n",
       "      <td>3040000</td>\n",
       "      <td>3750000</td>\n",
       "    </tr>\n",
       "    <tr>\n",
       "      <th>161</th>\n",
       "      <td>1961</td>\n",
       "      <td>9170000</td>\n",
       "      <td>1690000</td>\n",
       "      <td>11400000</td>\n",
       "      <td>14400</td>\n",
       "      <td>5750000</td>\n",
       "      <td>56100</td>\n",
       "      <td>21000000</td>\n",
       "      <td>1940000</td>\n",
       "      <td>10500000</td>\n",
       "      <td>...</td>\n",
       "      <td>52800000</td>\n",
       "      <td>190000000</td>\n",
       "      <td>2570000</td>\n",
       "      <td>8840000</td>\n",
       "      <td>65700</td>\n",
       "      <td>8460000</td>\n",
       "      <td>33700000</td>\n",
       "      <td>5260000</td>\n",
       "      <td>3140000</td>\n",
       "      <td>3870000</td>\n",
       "    </tr>\n",
       "    <tr>\n",
       "      <th>162</th>\n",
       "      <td>1962</td>\n",
       "      <td>9350000</td>\n",
       "      <td>1740000</td>\n",
       "      <td>11700000</td>\n",
       "      <td>15400</td>\n",
       "      <td>5870000</td>\n",
       "      <td>57100</td>\n",
       "      <td>21300000</td>\n",
       "      <td>2010000</td>\n",
       "      <td>10700000</td>\n",
       "      <td>...</td>\n",
       "      <td>53200000</td>\n",
       "      <td>192000000</td>\n",
       "      <td>2600000</td>\n",
       "      <td>9140000</td>\n",
       "      <td>67800</td>\n",
       "      <td>8790000</td>\n",
       "      <td>34700000</td>\n",
       "      <td>5350000</td>\n",
       "      <td>3240000</td>\n",
       "      <td>4000000</td>\n",
       "    </tr>\n",
       "    <tr>\n",
       "      <th>163</th>\n",
       "      <td>1963</td>\n",
       "      <td>9530000</td>\n",
       "      <td>1790000</td>\n",
       "      <td>12000000</td>\n",
       "      <td>16400</td>\n",
       "      <td>5980000</td>\n",
       "      <td>58300</td>\n",
       "      <td>21600000</td>\n",
       "      <td>2080000</td>\n",
       "      <td>10900000</td>\n",
       "      <td>...</td>\n",
       "      <td>53600000</td>\n",
       "      <td>195000000</td>\n",
       "      <td>2640000</td>\n",
       "      <td>9450000</td>\n",
       "      <td>70000</td>\n",
       "      <td>9130000</td>\n",
       "      <td>35700000</td>\n",
       "      <td>5450000</td>\n",
       "      <td>3350000</td>\n",
       "      <td>4130000</td>\n",
       "    </tr>\n",
       "    <tr>\n",
       "      <th>164</th>\n",
       "      <td>1964</td>\n",
       "      <td>9730000</td>\n",
       "      <td>1840000</td>\n",
       "      <td>12300000</td>\n",
       "      <td>17500</td>\n",
       "      <td>6090000</td>\n",
       "      <td>59500</td>\n",
       "      <td>22000000</td>\n",
       "      <td>2140000</td>\n",
       "      <td>11100000</td>\n",
       "      <td>...</td>\n",
       "      <td>53900000</td>\n",
       "      <td>197000000</td>\n",
       "      <td>2670000</td>\n",
       "      <td>9790000</td>\n",
       "      <td>72100</td>\n",
       "      <td>9480000</td>\n",
       "      <td>36800000</td>\n",
       "      <td>5540000</td>\n",
       "      <td>3450000</td>\n",
       "      <td>4270000</td>\n",
       "    </tr>\n",
       "  </tbody>\n",
       "</table>\n",
       "<p>5 rows × 196 columns</p>\n",
       "</div>"
      ],
      "text/plain": [
       "     Year  Afghanistan  Albania   Algeria  Andorra   Angola  \\\n",
       "160  1960      9000000  1640000  11100000    13400  5640000   \n",
       "161  1961      9170000  1690000  11400000    14400  5750000   \n",
       "162  1962      9350000  1740000  11700000    15400  5870000   \n",
       "163  1963      9530000  1790000  12000000    16400  5980000   \n",
       "164  1964      9730000  1840000  12300000    17500  6090000   \n",
       "\n",
       "     Antigua and Barbuda  Argentina  Armenia  Australia    ...     \\\n",
       "160                55300   20600000  1870000   10300000    ...      \n",
       "161                56100   21000000  1940000   10500000    ...      \n",
       "162                57100   21300000  2010000   10700000    ...      \n",
       "163                58300   21600000  2080000   10900000    ...      \n",
       "164                59500   22000000  2140000   11100000    ...      \n",
       "\n",
       "     United Kingdom  United States  Uruguay  Uzbekistan  Vanuatu  Venezuela  \\\n",
       "160        52400000      187000000  2540000     8550000    63700    8150000   \n",
       "161        52800000      190000000  2570000     8840000    65700    8460000   \n",
       "162        53200000      192000000  2600000     9140000    67800    8790000   \n",
       "163        53600000      195000000  2640000     9450000    70000    9130000   \n",
       "164        53900000      197000000  2670000     9790000    72100    9480000   \n",
       "\n",
       "      Vietnam    Yemen   Zambia  Zimbabwe  \n",
       "160  32700000  5170000  3040000   3750000  \n",
       "161  33700000  5260000  3140000   3870000  \n",
       "162  34700000  5350000  3240000   4000000  \n",
       "163  35700000  5450000  3350000   4130000  \n",
       "164  36800000  5540000  3450000   4270000  \n",
       "\n",
       "[5 rows x 196 columns]"
      ]
     },
     "execution_count": 25,
     "metadata": {},
     "output_type": "execute_result"
    }
   ],
   "source": [
    "pop_1960.head()"
   ]
  },
  {
   "cell_type": "code",
   "execution_count": 26,
   "metadata": {},
   "outputs": [],
   "source": [
    "slope, intercept, r_value, p_value, std_err = linregress(pop_1960['Year'], pop_1960['China'])"
   ]
  },
  {
   "cell_type": "code",
   "execution_count": 27,
   "metadata": {},
   "outputs": [],
   "source": [
    "line = [slope*xi + intercept for xi in pop_1960['Year']]"
   ]
  },
  {
   "cell_type": "code",
   "execution_count": 28,
   "metadata": {},
   "outputs": [
    {
     "data": {
      "image/png": "[encoded data removed]",
      "text/plain": [
       "<Figure size 1080x720 with 1 Axes>"
      ]
     },
     "metadata": {},
     "output_type": "display_data"
    },
    {
     "name": "stdout",
     "output_type": "stream",
     "text": [
      "The r_value is: 0.9859174756201918\n",
      "Population prediction for year 2020 is: 1525489479\n",
      "Population prediction for year 2100 is: 2621339859\n"
     ]
    }
   ],
   "source": [
    "plt.figure(figsize=(15,10))\n",
    "plt.plot(pop_1960['Year'], line,'r-', linewidth=5) # plotting linear line regression\n",
    "plt.scatter(pop_1960['Year'], pop_1960['China']) # plotting population of China\n",
    "plt.legend()\n",
    "plt.xlabel('Year')\n",
    "plt.ylabel('Population')\n",
    "plt.show()\n",
    "print(\"The r_value is:\", r_value) # printing r_value\n",
    "for i in [2020,2100]:\n",
    "    print(\"Population prediction for year\", i, \"is:\", int(slope*i+intercept)) # predicting population of China"
   ]
  },
  {
   "cell_type": "code",
   "execution_count": null,
   "metadata": {},
   "outputs": [],
   "source": []
  },
  {
   "cell_type": "markdown",
   "metadata": {},
   "source": [
    "## <b>A2. Investigating the CO2 emissions Data"
   ]
  },
  {
   "cell_type": "markdown",
   "metadata": {},
   "source": [
    "<b>1. Use Python to plot the CO2 emissions (tonnes per person) for Australia, China and United\n",
    "States over time.</b><br>\n",
    "o How do you compare the trend in CO2 emissions for these three countries over the\n",
    "time period? Are these countries having similar growth trend? What are the maximum\n",
    "values for CO2 emissions (tonnes per person) for Australia, China and United States\n",
    "respectively?"
   ]
  },
  {
   "cell_type": "code",
   "execution_count": 29,
   "metadata": {},
   "outputs": [
    {
     "data": {
      "text/html": [
       "<div>\n",
       "<style scoped>\n",
       "    .dataframe tbody tr th:only-of-type {\n",
       "        vertical-align: middle;\n",
       "    }\n",
       "\n",
       "    .dataframe tbody tr th {\n",
       "        vertical-align: top;\n",
       "    }\n",
       "\n",
       "    .dataframe thead th {\n",
       "        text-align: right;\n",
       "    }\n",
       "</style>\n",
       "<table border=\"1\" class=\"dataframe\">\n",
       "  <thead>\n",
       "    <tr style=\"text-align: right;\">\n",
       "      <th></th>\n",
       "      <th>country</th>\n",
       "      <th>1800</th>\n",
       "      <th>1801</th>\n",
       "      <th>1802</th>\n",
       "      <th>1803</th>\n",
       "      <th>1804</th>\n",
       "      <th>1805</th>\n",
       "      <th>1806</th>\n",
       "      <th>1807</th>\n",
       "      <th>1808</th>\n",
       "      <th>...</th>\n",
       "      <th>2005</th>\n",
       "      <th>2006</th>\n",
       "      <th>2007</th>\n",
       "      <th>2008</th>\n",
       "      <th>2009</th>\n",
       "      <th>2010</th>\n",
       "      <th>2011</th>\n",
       "      <th>2012</th>\n",
       "      <th>2013</th>\n",
       "      <th>2014</th>\n",
       "    </tr>\n",
       "  </thead>\n",
       "  <tbody>\n",
       "    <tr>\n",
       "      <th>0</th>\n",
       "      <td>Afghanistan</td>\n",
       "      <td>NaN</td>\n",
       "      <td>NaN</td>\n",
       "      <td>NaN</td>\n",
       "      <td>NaN</td>\n",
       "      <td>NaN</td>\n",
       "      <td>NaN</td>\n",
       "      <td>NaN</td>\n",
       "      <td>NaN</td>\n",
       "      <td>NaN</td>\n",
       "      <td>...</td>\n",
       "      <td>0.0529</td>\n",
       "      <td>0.0637</td>\n",
       "      <td>0.0854</td>\n",
       "      <td>0.154</td>\n",
       "      <td>0.242</td>\n",
       "      <td>0.294</td>\n",
       "      <td>0.412</td>\n",
       "      <td>0.35</td>\n",
       "      <td>0.316</td>\n",
       "      <td>0.299</td>\n",
       "    </tr>\n",
       "    <tr>\n",
       "      <th>1</th>\n",
       "      <td>Albania</td>\n",
       "      <td>NaN</td>\n",
       "      <td>NaN</td>\n",
       "      <td>NaN</td>\n",
       "      <td>NaN</td>\n",
       "      <td>NaN</td>\n",
       "      <td>NaN</td>\n",
       "      <td>NaN</td>\n",
       "      <td>NaN</td>\n",
       "      <td>NaN</td>\n",
       "      <td>...</td>\n",
       "      <td>1.3800</td>\n",
       "      <td>1.2800</td>\n",
       "      <td>1.3000</td>\n",
       "      <td>1.460</td>\n",
       "      <td>1.480</td>\n",
       "      <td>1.560</td>\n",
       "      <td>1.790</td>\n",
       "      <td>1.68</td>\n",
       "      <td>1.730</td>\n",
       "      <td>1.960</td>\n",
       "    </tr>\n",
       "    <tr>\n",
       "      <th>2</th>\n",
       "      <td>Algeria</td>\n",
       "      <td>NaN</td>\n",
       "      <td>NaN</td>\n",
       "      <td>NaN</td>\n",
       "      <td>NaN</td>\n",
       "      <td>NaN</td>\n",
       "      <td>NaN</td>\n",
       "      <td>NaN</td>\n",
       "      <td>NaN</td>\n",
       "      <td>NaN</td>\n",
       "      <td>...</td>\n",
       "      <td>3.2200</td>\n",
       "      <td>2.9900</td>\n",
       "      <td>3.1900</td>\n",
       "      <td>3.160</td>\n",
       "      <td>3.420</td>\n",
       "      <td>3.300</td>\n",
       "      <td>3.290</td>\n",
       "      <td>3.46</td>\n",
       "      <td>3.510</td>\n",
       "      <td>3.720</td>\n",
       "    </tr>\n",
       "    <tr>\n",
       "      <th>3</th>\n",
       "      <td>Andorra</td>\n",
       "      <td>NaN</td>\n",
       "      <td>NaN</td>\n",
       "      <td>NaN</td>\n",
       "      <td>NaN</td>\n",
       "      <td>NaN</td>\n",
       "      <td>NaN</td>\n",
       "      <td>NaN</td>\n",
       "      <td>NaN</td>\n",
       "      <td>NaN</td>\n",
       "      <td>...</td>\n",
       "      <td>7.3000</td>\n",
       "      <td>6.7500</td>\n",
       "      <td>6.5200</td>\n",
       "      <td>6.430</td>\n",
       "      <td>6.120</td>\n",
       "      <td>6.120</td>\n",
       "      <td>5.870</td>\n",
       "      <td>5.92</td>\n",
       "      <td>5.900</td>\n",
       "      <td>5.830</td>\n",
       "    </tr>\n",
       "    <tr>\n",
       "      <th>4</th>\n",
       "      <td>Angola</td>\n",
       "      <td>NaN</td>\n",
       "      <td>NaN</td>\n",
       "      <td>NaN</td>\n",
       "      <td>NaN</td>\n",
       "      <td>NaN</td>\n",
       "      <td>NaN</td>\n",
       "      <td>NaN</td>\n",
       "      <td>NaN</td>\n",
       "      <td>NaN</td>\n",
       "      <td>...</td>\n",
       "      <td>0.9800</td>\n",
       "      <td>1.1000</td>\n",
       "      <td>1.2000</td>\n",
       "      <td>1.180</td>\n",
       "      <td>1.230</td>\n",
       "      <td>1.240</td>\n",
       "      <td>1.250</td>\n",
       "      <td>1.33</td>\n",
       "      <td>1.250</td>\n",
       "      <td>1.290</td>\n",
       "    </tr>\n",
       "  </tbody>\n",
       "</table>\n",
       "<p>5 rows × 216 columns</p>\n",
       "</div>"
      ],
      "text/plain": [
       "       country  1800  1801  1802  1803  1804  1805  1806  1807  1808  ...    \\\n",
       "0  Afghanistan   NaN   NaN   NaN   NaN   NaN   NaN   NaN   NaN   NaN  ...     \n",
       "1      Albania   NaN   NaN   NaN   NaN   NaN   NaN   NaN   NaN   NaN  ...     \n",
       "2      Algeria   NaN   NaN   NaN   NaN   NaN   NaN   NaN   NaN   NaN  ...     \n",
       "3      Andorra   NaN   NaN   NaN   NaN   NaN   NaN   NaN   NaN   NaN  ...     \n",
       "4       Angola   NaN   NaN   NaN   NaN   NaN   NaN   NaN   NaN   NaN  ...     \n",
       "\n",
       "     2005    2006    2007   2008   2009   2010   2011  2012   2013   2014  \n",
       "0  0.0529  0.0637  0.0854  0.154  0.242  0.294  0.412  0.35  0.316  0.299  \n",
       "1  1.3800  1.2800  1.3000  1.460  1.480  1.560  1.790  1.68  1.730  1.960  \n",
       "2  3.2200  2.9900  3.1900  3.160  3.420  3.300  3.290  3.46  3.510  3.720  \n",
       "3  7.3000  6.7500  6.5200  6.430  6.120  6.120  5.870  5.92  5.900  5.830  \n",
       "4  0.9800  1.1000  1.2000  1.180  1.230  1.240  1.250  1.33  1.250  1.290  \n",
       "\n",
       "[5 rows x 216 columns]"
      ]
     },
     "execution_count": 29,
     "metadata": {},
     "output_type": "execute_result"
    }
   ],
   "source": [
    "df_co2.head()"
   ]
  },
  {
   "cell_type": "code",
   "execution_count": 30,
   "metadata": {},
   "outputs": [
    {
     "name": "stdout",
     "output_type": "stream",
     "text": [
      "<class 'pandas.core.frame.DataFrame'>\n",
      "RangeIndex: 192 entries, 0 to 191\n",
      "Columns: 216 entries, country to 2014\n",
      "dtypes: float64(215), object(1)\n",
      "memory usage: 324.1+ KB\n"
     ]
    }
   ],
   "source": [
    "df_co2.info()"
   ]
  },
  {
   "cell_type": "code",
   "execution_count": 31,
   "metadata": {},
   "outputs": [],
   "source": [
    "dfcot = df_co2.T"
   ]
  },
  {
   "cell_type": "code",
   "execution_count": 32,
   "metadata": {},
   "outputs": [
    {
     "data": {
      "text/html": [
       "<div>\n",
       "<style scoped>\n",
       "    .dataframe tbody tr th:only-of-type {\n",
       "        vertical-align: middle;\n",
       "    }\n",
       "\n",
       "    .dataframe tbody tr th {\n",
       "        vertical-align: top;\n",
       "    }\n",
       "\n",
       "    .dataframe thead th {\n",
       "        text-align: right;\n",
       "    }\n",
       "</style>\n",
       "<table border=\"1\" class=\"dataframe\">\n",
       "  <thead>\n",
       "    <tr style=\"text-align: right;\">\n",
       "      <th></th>\n",
       "      <th>0</th>\n",
       "      <th>1</th>\n",
       "      <th>2</th>\n",
       "      <th>3</th>\n",
       "      <th>4</th>\n",
       "      <th>5</th>\n",
       "      <th>6</th>\n",
       "      <th>7</th>\n",
       "      <th>8</th>\n",
       "      <th>9</th>\n",
       "      <th>...</th>\n",
       "      <th>182</th>\n",
       "      <th>183</th>\n",
       "      <th>184</th>\n",
       "      <th>185</th>\n",
       "      <th>186</th>\n",
       "      <th>187</th>\n",
       "      <th>188</th>\n",
       "      <th>189</th>\n",
       "      <th>190</th>\n",
       "      <th>191</th>\n",
       "    </tr>\n",
       "  </thead>\n",
       "  <tbody>\n",
       "    <tr>\n",
       "      <th>country</th>\n",
       "      <td>Afghanistan</td>\n",
       "      <td>Albania</td>\n",
       "      <td>Algeria</td>\n",
       "      <td>Andorra</td>\n",
       "      <td>Angola</td>\n",
       "      <td>Antigua and Barbuda</td>\n",
       "      <td>Argentina</td>\n",
       "      <td>Armenia</td>\n",
       "      <td>Australia</td>\n",
       "      <td>Austria</td>\n",
       "      <td>...</td>\n",
       "      <td>United Kingdom</td>\n",
       "      <td>United States</td>\n",
       "      <td>Uruguay</td>\n",
       "      <td>Uzbekistan</td>\n",
       "      <td>Vanuatu</td>\n",
       "      <td>Venezuela</td>\n",
       "      <td>Vietnam</td>\n",
       "      <td>Yemen</td>\n",
       "      <td>Zambia</td>\n",
       "      <td>Zimbabwe</td>\n",
       "    </tr>\n",
       "    <tr>\n",
       "      <th>1800</th>\n",
       "      <td>NaN</td>\n",
       "      <td>NaN</td>\n",
       "      <td>NaN</td>\n",
       "      <td>NaN</td>\n",
       "      <td>NaN</td>\n",
       "      <td>NaN</td>\n",
       "      <td>NaN</td>\n",
       "      <td>NaN</td>\n",
       "      <td>NaN</td>\n",
       "      <td>NaN</td>\n",
       "      <td>...</td>\n",
       "      <td>2.16</td>\n",
       "      <td>0.0372</td>\n",
       "      <td>NaN</td>\n",
       "      <td>NaN</td>\n",
       "      <td>NaN</td>\n",
       "      <td>NaN</td>\n",
       "      <td>NaN</td>\n",
       "      <td>NaN</td>\n",
       "      <td>NaN</td>\n",
       "      <td>NaN</td>\n",
       "    </tr>\n",
       "    <tr>\n",
       "      <th>1801</th>\n",
       "      <td>NaN</td>\n",
       "      <td>NaN</td>\n",
       "      <td>NaN</td>\n",
       "      <td>NaN</td>\n",
       "      <td>NaN</td>\n",
       "      <td>NaN</td>\n",
       "      <td>NaN</td>\n",
       "      <td>NaN</td>\n",
       "      <td>NaN</td>\n",
       "      <td>NaN</td>\n",
       "      <td>...</td>\n",
       "      <td>2.14</td>\n",
       "      <td>0.0386</td>\n",
       "      <td>NaN</td>\n",
       "      <td>NaN</td>\n",
       "      <td>NaN</td>\n",
       "      <td>NaN</td>\n",
       "      <td>NaN</td>\n",
       "      <td>NaN</td>\n",
       "      <td>NaN</td>\n",
       "      <td>NaN</td>\n",
       "    </tr>\n",
       "    <tr>\n",
       "      <th>1802</th>\n",
       "      <td>NaN</td>\n",
       "      <td>NaN</td>\n",
       "      <td>NaN</td>\n",
       "      <td>NaN</td>\n",
       "      <td>NaN</td>\n",
       "      <td>NaN</td>\n",
       "      <td>NaN</td>\n",
       "      <td>NaN</td>\n",
       "      <td>NaN</td>\n",
       "      <td>NaN</td>\n",
       "      <td>...</td>\n",
       "      <td>2.13</td>\n",
       "      <td>0.041</td>\n",
       "      <td>NaN</td>\n",
       "      <td>NaN</td>\n",
       "      <td>NaN</td>\n",
       "      <td>NaN</td>\n",
       "      <td>NaN</td>\n",
       "      <td>NaN</td>\n",
       "      <td>NaN</td>\n",
       "      <td>NaN</td>\n",
       "    </tr>\n",
       "    <tr>\n",
       "      <th>1803</th>\n",
       "      <td>NaN</td>\n",
       "      <td>NaN</td>\n",
       "      <td>NaN</td>\n",
       "      <td>NaN</td>\n",
       "      <td>NaN</td>\n",
       "      <td>NaN</td>\n",
       "      <td>NaN</td>\n",
       "      <td>NaN</td>\n",
       "      <td>NaN</td>\n",
       "      <td>NaN</td>\n",
       "      <td>...</td>\n",
       "      <td>2.36</td>\n",
       "      <td>0.0412</td>\n",
       "      <td>NaN</td>\n",
       "      <td>NaN</td>\n",
       "      <td>NaN</td>\n",
       "      <td>NaN</td>\n",
       "      <td>NaN</td>\n",
       "      <td>NaN</td>\n",
       "      <td>NaN</td>\n",
       "      <td>NaN</td>\n",
       "    </tr>\n",
       "  </tbody>\n",
       "</table>\n",
       "<p>5 rows × 192 columns</p>\n",
       "</div>"
      ],
      "text/plain": [
       "                 0        1        2        3       4                    5    \\\n",
       "country  Afghanistan  Albania  Algeria  Andorra  Angola  Antigua and Barbuda   \n",
       "1800             NaN      NaN      NaN      NaN     NaN                  NaN   \n",
       "1801             NaN      NaN      NaN      NaN     NaN                  NaN   \n",
       "1802             NaN      NaN      NaN      NaN     NaN                  NaN   \n",
       "1803             NaN      NaN      NaN      NaN     NaN                  NaN   \n",
       "\n",
       "               6        7          8        9      ...                182  \\\n",
       "country  Argentina  Armenia  Australia  Austria    ...     United Kingdom   \n",
       "1800           NaN      NaN        NaN      NaN    ...               2.16   \n",
       "1801           NaN      NaN        NaN      NaN    ...               2.14   \n",
       "1802           NaN      NaN        NaN      NaN    ...               2.13   \n",
       "1803           NaN      NaN        NaN      NaN    ...               2.36   \n",
       "\n",
       "                   183      184         185      186        187      188  \\\n",
       "country  United States  Uruguay  Uzbekistan  Vanuatu  Venezuela  Vietnam   \n",
       "1800            0.0372      NaN         NaN      NaN        NaN      NaN   \n",
       "1801            0.0386      NaN         NaN      NaN        NaN      NaN   \n",
       "1802             0.041      NaN         NaN      NaN        NaN      NaN   \n",
       "1803            0.0412      NaN         NaN      NaN        NaN      NaN   \n",
       "\n",
       "           189     190       191  \n",
       "country  Yemen  Zambia  Zimbabwe  \n",
       "1800       NaN     NaN       NaN  \n",
       "1801       NaN     NaN       NaN  \n",
       "1802       NaN     NaN       NaN  \n",
       "1803       NaN     NaN       NaN  \n",
       "\n",
       "[5 rows x 192 columns]"
      ]
     },
     "execution_count": 32,
     "metadata": {},
     "output_type": "execute_result"
    }
   ],
   "source": [
    "dfcot.head()"
   ]
  },
  {
   "cell_type": "code",
   "execution_count": 33,
   "metadata": {},
   "outputs": [],
   "source": [
    "dfcot.columns = dfcot.iloc[0]"
   ]
  },
  {
   "cell_type": "code",
   "execution_count": 34,
   "metadata": {},
   "outputs": [],
   "source": [
    "dfcot = dfcot.reset_index()"
   ]
  },
  {
   "cell_type": "code",
   "execution_count": 35,
   "metadata": {},
   "outputs": [
    {
     "data": {
      "text/html": [
       "<div>\n",
       "<style scoped>\n",
       "    .dataframe tbody tr th:only-of-type {\n",
       "        vertical-align: middle;\n",
       "    }\n",
       "\n",
       "    .dataframe tbody tr th {\n",
       "        vertical-align: top;\n",
       "    }\n",
       "\n",
       "    .dataframe thead th {\n",
       "        text-align: right;\n",
       "    }\n",
       "</style>\n",
       "<table border=\"1\" class=\"dataframe\">\n",
       "  <thead>\n",
       "    <tr style=\"text-align: right;\">\n",
       "      <th>country</th>\n",
       "      <th>index</th>\n",
       "      <th>Afghanistan</th>\n",
       "      <th>Albania</th>\n",
       "      <th>Algeria</th>\n",
       "      <th>Andorra</th>\n",
       "      <th>Angola</th>\n",
       "      <th>Antigua and Barbuda</th>\n",
       "      <th>Argentina</th>\n",
       "      <th>Armenia</th>\n",
       "      <th>Australia</th>\n",
       "      <th>...</th>\n",
       "      <th>United Kingdom</th>\n",
       "      <th>United States</th>\n",
       "      <th>Uruguay</th>\n",
       "      <th>Uzbekistan</th>\n",
       "      <th>Vanuatu</th>\n",
       "      <th>Venezuela</th>\n",
       "      <th>Vietnam</th>\n",
       "      <th>Yemen</th>\n",
       "      <th>Zambia</th>\n",
       "      <th>Zimbabwe</th>\n",
       "    </tr>\n",
       "  </thead>\n",
       "  <tbody>\n",
       "    <tr>\n",
       "      <th>0</th>\n",
       "      <td>country</td>\n",
       "      <td>Afghanistan</td>\n",
       "      <td>Albania</td>\n",
       "      <td>Algeria</td>\n",
       "      <td>Andorra</td>\n",
       "      <td>Angola</td>\n",
       "      <td>Antigua and Barbuda</td>\n",
       "      <td>Argentina</td>\n",
       "      <td>Armenia</td>\n",
       "      <td>Australia</td>\n",
       "      <td>...</td>\n",
       "      <td>United Kingdom</td>\n",
       "      <td>United States</td>\n",
       "      <td>Uruguay</td>\n",
       "      <td>Uzbekistan</td>\n",
       "      <td>Vanuatu</td>\n",
       "      <td>Venezuela</td>\n",
       "      <td>Vietnam</td>\n",
       "      <td>Yemen</td>\n",
       "      <td>Zambia</td>\n",
       "      <td>Zimbabwe</td>\n",
       "    </tr>\n",
       "    <tr>\n",
       "      <th>1</th>\n",
       "      <td>1800</td>\n",
       "      <td>NaN</td>\n",
       "      <td>NaN</td>\n",
       "      <td>NaN</td>\n",
       "      <td>NaN</td>\n",
       "      <td>NaN</td>\n",
       "      <td>NaN</td>\n",
       "      <td>NaN</td>\n",
       "      <td>NaN</td>\n",
       "      <td>NaN</td>\n",
       "      <td>...</td>\n",
       "      <td>2.16</td>\n",
       "      <td>0.0372</td>\n",
       "      <td>NaN</td>\n",
       "      <td>NaN</td>\n",
       "      <td>NaN</td>\n",
       "      <td>NaN</td>\n",
       "      <td>NaN</td>\n",
       "      <td>NaN</td>\n",
       "      <td>NaN</td>\n",
       "      <td>NaN</td>\n",
       "    </tr>\n",
       "    <tr>\n",
       "      <th>2</th>\n",
       "      <td>1801</td>\n",
       "      <td>NaN</td>\n",
       "      <td>NaN</td>\n",
       "      <td>NaN</td>\n",
       "      <td>NaN</td>\n",
       "      <td>NaN</td>\n",
       "      <td>NaN</td>\n",
       "      <td>NaN</td>\n",
       "      <td>NaN</td>\n",
       "      <td>NaN</td>\n",
       "      <td>...</td>\n",
       "      <td>2.14</td>\n",
       "      <td>0.0386</td>\n",
       "      <td>NaN</td>\n",
       "      <td>NaN</td>\n",
       "      <td>NaN</td>\n",
       "      <td>NaN</td>\n",
       "      <td>NaN</td>\n",
       "      <td>NaN</td>\n",
       "      <td>NaN</td>\n",
       "      <td>NaN</td>\n",
       "    </tr>\n",
       "    <tr>\n",
       "      <th>3</th>\n",
       "      <td>1802</td>\n",
       "      <td>NaN</td>\n",
       "      <td>NaN</td>\n",
       "      <td>NaN</td>\n",
       "      <td>NaN</td>\n",
       "      <td>NaN</td>\n",
       "      <td>NaN</td>\n",
       "      <td>NaN</td>\n",
       "      <td>NaN</td>\n",
       "      <td>NaN</td>\n",
       "      <td>...</td>\n",
       "      <td>2.13</td>\n",
       "      <td>0.041</td>\n",
       "      <td>NaN</td>\n",
       "      <td>NaN</td>\n",
       "      <td>NaN</td>\n",
       "      <td>NaN</td>\n",
       "      <td>NaN</td>\n",
       "      <td>NaN</td>\n",
       "      <td>NaN</td>\n",
       "      <td>NaN</td>\n",
       "    </tr>\n",
       "    <tr>\n",
       "      <th>4</th>\n",
       "      <td>1803</td>\n",
       "      <td>NaN</td>\n",
       "      <td>NaN</td>\n",
       "      <td>NaN</td>\n",
       "      <td>NaN</td>\n",
       "      <td>NaN</td>\n",
       "      <td>NaN</td>\n",
       "      <td>NaN</td>\n",
       "      <td>NaN</td>\n",
       "      <td>NaN</td>\n",
       "      <td>...</td>\n",
       "      <td>2.36</td>\n",
       "      <td>0.0412</td>\n",
       "      <td>NaN</td>\n",
       "      <td>NaN</td>\n",
       "      <td>NaN</td>\n",
       "      <td>NaN</td>\n",
       "      <td>NaN</td>\n",
       "      <td>NaN</td>\n",
       "      <td>NaN</td>\n",
       "      <td>NaN</td>\n",
       "    </tr>\n",
       "  </tbody>\n",
       "</table>\n",
       "<p>5 rows × 193 columns</p>\n",
       "</div>"
      ],
      "text/plain": [
       "country    index  Afghanistan  Albania  Algeria  Andorra  Angola  \\\n",
       "0        country  Afghanistan  Albania  Algeria  Andorra  Angola   \n",
       "1           1800          NaN      NaN      NaN      NaN     NaN   \n",
       "2           1801          NaN      NaN      NaN      NaN     NaN   \n",
       "3           1802          NaN      NaN      NaN      NaN     NaN   \n",
       "4           1803          NaN      NaN      NaN      NaN     NaN   \n",
       "\n",
       "country  Antigua and Barbuda  Argentina  Armenia  Australia    ...     \\\n",
       "0        Antigua and Barbuda  Argentina  Armenia  Australia    ...      \n",
       "1                        NaN        NaN      NaN        NaN    ...      \n",
       "2                        NaN        NaN      NaN        NaN    ...      \n",
       "3                        NaN        NaN      NaN        NaN    ...      \n",
       "4                        NaN        NaN      NaN        NaN    ...      \n",
       "\n",
       "country  United Kingdom  United States  Uruguay  Uzbekistan  Vanuatu  \\\n",
       "0        United Kingdom  United States  Uruguay  Uzbekistan  Vanuatu   \n",
       "1                  2.16         0.0372      NaN         NaN      NaN   \n",
       "2                  2.14         0.0386      NaN         NaN      NaN   \n",
       "3                  2.13          0.041      NaN         NaN      NaN   \n",
       "4                  2.36         0.0412      NaN         NaN      NaN   \n",
       "\n",
       "country  Venezuela  Vietnam  Yemen  Zambia  Zimbabwe  \n",
       "0        Venezuela  Vietnam  Yemen  Zambia  Zimbabwe  \n",
       "1              NaN      NaN    NaN     NaN       NaN  \n",
       "2              NaN      NaN    NaN     NaN       NaN  \n",
       "3              NaN      NaN    NaN     NaN       NaN  \n",
       "4              NaN      NaN    NaN     NaN       NaN  \n",
       "\n",
       "[5 rows x 193 columns]"
      ]
     },
     "execution_count": 35,
     "metadata": {},
     "output_type": "execute_result"
    }
   ],
   "source": [
    "dfcot.head()"
   ]
  },
  {
   "cell_type": "code",
   "execution_count": 36,
   "metadata": {},
   "outputs": [],
   "source": [
    "dfcot = dfcot.drop(dfcot.index[0])"
   ]
  },
  {
   "cell_type": "code",
   "execution_count": 37,
   "metadata": {},
   "outputs": [
    {
     "data": {
      "text/html": [
       "<div>\n",
       "<style scoped>\n",
       "    .dataframe tbody tr th:only-of-type {\n",
       "        vertical-align: middle;\n",
       "    }\n",
       "\n",
       "    .dataframe tbody tr th {\n",
       "        vertical-align: top;\n",
       "    }\n",
       "\n",
       "    .dataframe thead th {\n",
       "        text-align: right;\n",
       "    }\n",
       "</style>\n",
       "<table border=\"1\" class=\"dataframe\">\n",
       "  <thead>\n",
       "    <tr style=\"text-align: right;\">\n",
       "      <th>country</th>\n",
       "      <th>index</th>\n",
       "      <th>Afghanistan</th>\n",
       "      <th>Albania</th>\n",
       "      <th>Algeria</th>\n",
       "      <th>Andorra</th>\n",
       "      <th>Angola</th>\n",
       "      <th>Antigua and Barbuda</th>\n",
       "      <th>Argentina</th>\n",
       "      <th>Armenia</th>\n",
       "      <th>Australia</th>\n",
       "      <th>...</th>\n",
       "      <th>United Kingdom</th>\n",
       "      <th>United States</th>\n",
       "      <th>Uruguay</th>\n",
       "      <th>Uzbekistan</th>\n",
       "      <th>Vanuatu</th>\n",
       "      <th>Venezuela</th>\n",
       "      <th>Vietnam</th>\n",
       "      <th>Yemen</th>\n",
       "      <th>Zambia</th>\n",
       "      <th>Zimbabwe</th>\n",
       "    </tr>\n",
       "  </thead>\n",
       "  <tbody>\n",
       "    <tr>\n",
       "      <th>1</th>\n",
       "      <td>1800</td>\n",
       "      <td>NaN</td>\n",
       "      <td>NaN</td>\n",
       "      <td>NaN</td>\n",
       "      <td>NaN</td>\n",
       "      <td>NaN</td>\n",
       "      <td>NaN</td>\n",
       "      <td>NaN</td>\n",
       "      <td>NaN</td>\n",
       "      <td>NaN</td>\n",
       "      <td>...</td>\n",
       "      <td>2.16</td>\n",
       "      <td>0.0372</td>\n",
       "      <td>NaN</td>\n",
       "      <td>NaN</td>\n",
       "      <td>NaN</td>\n",
       "      <td>NaN</td>\n",
       "      <td>NaN</td>\n",
       "      <td>NaN</td>\n",
       "      <td>NaN</td>\n",
       "      <td>NaN</td>\n",
       "    </tr>\n",
       "    <tr>\n",
       "      <th>2</th>\n",
       "      <td>1801</td>\n",
       "      <td>NaN</td>\n",
       "      <td>NaN</td>\n",
       "      <td>NaN</td>\n",
       "      <td>NaN</td>\n",
       "      <td>NaN</td>\n",
       "      <td>NaN</td>\n",
       "      <td>NaN</td>\n",
       "      <td>NaN</td>\n",
       "      <td>NaN</td>\n",
       "      <td>...</td>\n",
       "      <td>2.14</td>\n",
       "      <td>0.0386</td>\n",
       "      <td>NaN</td>\n",
       "      <td>NaN</td>\n",
       "      <td>NaN</td>\n",
       "      <td>NaN</td>\n",
       "      <td>NaN</td>\n",
       "      <td>NaN</td>\n",
       "      <td>NaN</td>\n",
       "      <td>NaN</td>\n",
       "    </tr>\n",
       "    <tr>\n",
       "      <th>3</th>\n",
       "      <td>1802</td>\n",
       "      <td>NaN</td>\n",
       "      <td>NaN</td>\n",
       "      <td>NaN</td>\n",
       "      <td>NaN</td>\n",
       "      <td>NaN</td>\n",
       "      <td>NaN</td>\n",
       "      <td>NaN</td>\n",
       "      <td>NaN</td>\n",
       "      <td>NaN</td>\n",
       "      <td>...</td>\n",
       "      <td>2.13</td>\n",
       "      <td>0.041</td>\n",
       "      <td>NaN</td>\n",
       "      <td>NaN</td>\n",
       "      <td>NaN</td>\n",
       "      <td>NaN</td>\n",
       "      <td>NaN</td>\n",
       "      <td>NaN</td>\n",
       "      <td>NaN</td>\n",
       "      <td>NaN</td>\n",
       "    </tr>\n",
       "    <tr>\n",
       "      <th>4</th>\n",
       "      <td>1803</td>\n",
       "      <td>NaN</td>\n",
       "      <td>NaN</td>\n",
       "      <td>NaN</td>\n",
       "      <td>NaN</td>\n",
       "      <td>NaN</td>\n",
       "      <td>NaN</td>\n",
       "      <td>NaN</td>\n",
       "      <td>NaN</td>\n",
       "      <td>NaN</td>\n",
       "      <td>...</td>\n",
       "      <td>2.36</td>\n",
       "      <td>0.0412</td>\n",
       "      <td>NaN</td>\n",
       "      <td>NaN</td>\n",
       "      <td>NaN</td>\n",
       "      <td>NaN</td>\n",
       "      <td>NaN</td>\n",
       "      <td>NaN</td>\n",
       "      <td>NaN</td>\n",
       "      <td>NaN</td>\n",
       "    </tr>\n",
       "    <tr>\n",
       "      <th>5</th>\n",
       "      <td>1804</td>\n",
       "      <td>NaN</td>\n",
       "      <td>NaN</td>\n",
       "      <td>NaN</td>\n",
       "      <td>NaN</td>\n",
       "      <td>NaN</td>\n",
       "      <td>NaN</td>\n",
       "      <td>NaN</td>\n",
       "      <td>NaN</td>\n",
       "      <td>NaN</td>\n",
       "      <td>...</td>\n",
       "      <td>2.34</td>\n",
       "      <td>0.0454</td>\n",
       "      <td>NaN</td>\n",
       "      <td>NaN</td>\n",
       "      <td>NaN</td>\n",
       "      <td>NaN</td>\n",
       "      <td>NaN</td>\n",
       "      <td>NaN</td>\n",
       "      <td>NaN</td>\n",
       "      <td>NaN</td>\n",
       "    </tr>\n",
       "  </tbody>\n",
       "</table>\n",
       "<p>5 rows × 193 columns</p>\n",
       "</div>"
      ],
      "text/plain": [
       "country index Afghanistan Albania Algeria Andorra Angola Antigua and Barbuda  \\\n",
       "1        1800         NaN     NaN     NaN     NaN    NaN                 NaN   \n",
       "2        1801         NaN     NaN     NaN     NaN    NaN                 NaN   \n",
       "3        1802         NaN     NaN     NaN     NaN    NaN                 NaN   \n",
       "4        1803         NaN     NaN     NaN     NaN    NaN                 NaN   \n",
       "5        1804         NaN     NaN     NaN     NaN    NaN                 NaN   \n",
       "\n",
       "country Argentina Armenia Australia   ...    United Kingdom United States  \\\n",
       "1             NaN     NaN       NaN   ...              2.16        0.0372   \n",
       "2             NaN     NaN       NaN   ...              2.14        0.0386   \n",
       "3             NaN     NaN       NaN   ...              2.13         0.041   \n",
       "4             NaN     NaN       NaN   ...              2.36        0.0412   \n",
       "5             NaN     NaN       NaN   ...              2.34        0.0454   \n",
       "\n",
       "country Uruguay Uzbekistan Vanuatu Venezuela Vietnam Yemen Zambia Zimbabwe  \n",
       "1           NaN        NaN     NaN       NaN     NaN   NaN    NaN      NaN  \n",
       "2           NaN        NaN     NaN       NaN     NaN   NaN    NaN      NaN  \n",
       "3           NaN        NaN     NaN       NaN     NaN   NaN    NaN      NaN  \n",
       "4           NaN        NaN     NaN       NaN     NaN   NaN    NaN      NaN  \n",
       "5           NaN        NaN     NaN       NaN     NaN   NaN    NaN      NaN  \n",
       "\n",
       "[5 rows x 193 columns]"
      ]
     },
     "execution_count": 37,
     "metadata": {},
     "output_type": "execute_result"
    }
   ],
   "source": [
    "dfcot.head()"
   ]
  },
  {
   "cell_type": "code",
   "execution_count": 38,
   "metadata": {},
   "outputs": [],
   "source": [
    "#dfcot = dfcot.reset_index()"
   ]
  },
  {
   "cell_type": "code",
   "execution_count": 39,
   "metadata": {},
   "outputs": [],
   "source": [
    "#dfcot = dfcot.reset_index().rename(columns={dfcot.index.name:'bar'})"
   ]
  },
  {
   "cell_type": "code",
   "execution_count": 40,
   "metadata": {},
   "outputs": [],
   "source": [
    "dfcot.rename(columns={'index':'Year'}, inplace=True)"
   ]
  },
  {
   "cell_type": "code",
   "execution_count": 41,
   "metadata": {},
   "outputs": [
    {
     "data": {
      "text/html": [
       "<div>\n",
       "<style scoped>\n",
       "    .dataframe tbody tr th:only-of-type {\n",
       "        vertical-align: middle;\n",
       "    }\n",
       "\n",
       "    .dataframe tbody tr th {\n",
       "        vertical-align: top;\n",
       "    }\n",
       "\n",
       "    .dataframe thead th {\n",
       "        text-align: right;\n",
       "    }\n",
       "</style>\n",
       "<table border=\"1\" class=\"dataframe\">\n",
       "  <thead>\n",
       "    <tr style=\"text-align: right;\">\n",
       "      <th>country</th>\n",
       "      <th>Year</th>\n",
       "      <th>Afghanistan</th>\n",
       "      <th>Albania</th>\n",
       "      <th>Algeria</th>\n",
       "      <th>Andorra</th>\n",
       "      <th>Angola</th>\n",
       "      <th>Antigua and Barbuda</th>\n",
       "      <th>Argentina</th>\n",
       "      <th>Armenia</th>\n",
       "      <th>Australia</th>\n",
       "      <th>...</th>\n",
       "      <th>United Kingdom</th>\n",
       "      <th>United States</th>\n",
       "      <th>Uruguay</th>\n",
       "      <th>Uzbekistan</th>\n",
       "      <th>Vanuatu</th>\n",
       "      <th>Venezuela</th>\n",
       "      <th>Vietnam</th>\n",
       "      <th>Yemen</th>\n",
       "      <th>Zambia</th>\n",
       "      <th>Zimbabwe</th>\n",
       "    </tr>\n",
       "  </thead>\n",
       "  <tbody>\n",
       "    <tr>\n",
       "      <th>1</th>\n",
       "      <td>1800</td>\n",
       "      <td>NaN</td>\n",
       "      <td>NaN</td>\n",
       "      <td>NaN</td>\n",
       "      <td>NaN</td>\n",
       "      <td>NaN</td>\n",
       "      <td>NaN</td>\n",
       "      <td>NaN</td>\n",
       "      <td>NaN</td>\n",
       "      <td>NaN</td>\n",
       "      <td>...</td>\n",
       "      <td>2.16</td>\n",
       "      <td>0.0372</td>\n",
       "      <td>NaN</td>\n",
       "      <td>NaN</td>\n",
       "      <td>NaN</td>\n",
       "      <td>NaN</td>\n",
       "      <td>NaN</td>\n",
       "      <td>NaN</td>\n",
       "      <td>NaN</td>\n",
       "      <td>NaN</td>\n",
       "    </tr>\n",
       "    <tr>\n",
       "      <th>2</th>\n",
       "      <td>1801</td>\n",
       "      <td>NaN</td>\n",
       "      <td>NaN</td>\n",
       "      <td>NaN</td>\n",
       "      <td>NaN</td>\n",
       "      <td>NaN</td>\n",
       "      <td>NaN</td>\n",
       "      <td>NaN</td>\n",
       "      <td>NaN</td>\n",
       "      <td>NaN</td>\n",
       "      <td>...</td>\n",
       "      <td>2.14</td>\n",
       "      <td>0.0386</td>\n",
       "      <td>NaN</td>\n",
       "      <td>NaN</td>\n",
       "      <td>NaN</td>\n",
       "      <td>NaN</td>\n",
       "      <td>NaN</td>\n",
       "      <td>NaN</td>\n",
       "      <td>NaN</td>\n",
       "      <td>NaN</td>\n",
       "    </tr>\n",
       "    <tr>\n",
       "      <th>3</th>\n",
       "      <td>1802</td>\n",
       "      <td>NaN</td>\n",
       "      <td>NaN</td>\n",
       "      <td>NaN</td>\n",
       "      <td>NaN</td>\n",
       "      <td>NaN</td>\n",
       "      <td>NaN</td>\n",
       "      <td>NaN</td>\n",
       "      <td>NaN</td>\n",
       "      <td>NaN</td>\n",
       "      <td>...</td>\n",
       "      <td>2.13</td>\n",
       "      <td>0.041</td>\n",
       "      <td>NaN</td>\n",
       "      <td>NaN</td>\n",
       "      <td>NaN</td>\n",
       "      <td>NaN</td>\n",
       "      <td>NaN</td>\n",
       "      <td>NaN</td>\n",
       "      <td>NaN</td>\n",
       "      <td>NaN</td>\n",
       "    </tr>\n",
       "    <tr>\n",
       "      <th>4</th>\n",
       "      <td>1803</td>\n",
       "      <td>NaN</td>\n",
       "      <td>NaN</td>\n",
       "      <td>NaN</td>\n",
       "      <td>NaN</td>\n",
       "      <td>NaN</td>\n",
       "      <td>NaN</td>\n",
       "      <td>NaN</td>\n",
       "      <td>NaN</td>\n",
       "      <td>NaN</td>\n",
       "      <td>...</td>\n",
       "      <td>2.36</td>\n",
       "      <td>0.0412</td>\n",
       "      <td>NaN</td>\n",
       "      <td>NaN</td>\n",
       "      <td>NaN</td>\n",
       "      <td>NaN</td>\n",
       "      <td>NaN</td>\n",
       "      <td>NaN</td>\n",
       "      <td>NaN</td>\n",
       "      <td>NaN</td>\n",
       "    </tr>\n",
       "    <tr>\n",
       "      <th>5</th>\n",
       "      <td>1804</td>\n",
       "      <td>NaN</td>\n",
       "      <td>NaN</td>\n",
       "      <td>NaN</td>\n",
       "      <td>NaN</td>\n",
       "      <td>NaN</td>\n",
       "      <td>NaN</td>\n",
       "      <td>NaN</td>\n",
       "      <td>NaN</td>\n",
       "      <td>NaN</td>\n",
       "      <td>...</td>\n",
       "      <td>2.34</td>\n",
       "      <td>0.0454</td>\n",
       "      <td>NaN</td>\n",
       "      <td>NaN</td>\n",
       "      <td>NaN</td>\n",
       "      <td>NaN</td>\n",
       "      <td>NaN</td>\n",
       "      <td>NaN</td>\n",
       "      <td>NaN</td>\n",
       "      <td>NaN</td>\n",
       "    </tr>\n",
       "  </tbody>\n",
       "</table>\n",
       "<p>5 rows × 193 columns</p>\n",
       "</div>"
      ],
      "text/plain": [
       "country  Year Afghanistan Albania Algeria Andorra Angola Antigua and Barbuda  \\\n",
       "1        1800         NaN     NaN     NaN     NaN    NaN                 NaN   \n",
       "2        1801         NaN     NaN     NaN     NaN    NaN                 NaN   \n",
       "3        1802         NaN     NaN     NaN     NaN    NaN                 NaN   \n",
       "4        1803         NaN     NaN     NaN     NaN    NaN                 NaN   \n",
       "5        1804         NaN     NaN     NaN     NaN    NaN                 NaN   \n",
       "\n",
       "country Argentina Armenia Australia   ...    United Kingdom United States  \\\n",
       "1             NaN     NaN       NaN   ...              2.16        0.0372   \n",
       "2             NaN     NaN       NaN   ...              2.14        0.0386   \n",
       "3             NaN     NaN       NaN   ...              2.13         0.041   \n",
       "4             NaN     NaN       NaN   ...              2.36        0.0412   \n",
       "5             NaN     NaN       NaN   ...              2.34        0.0454   \n",
       "\n",
       "country Uruguay Uzbekistan Vanuatu Venezuela Vietnam Yemen Zambia Zimbabwe  \n",
       "1           NaN        NaN     NaN       NaN     NaN   NaN    NaN      NaN  \n",
       "2           NaN        NaN     NaN       NaN     NaN   NaN    NaN      NaN  \n",
       "3           NaN        NaN     NaN       NaN     NaN   NaN    NaN      NaN  \n",
       "4           NaN        NaN     NaN       NaN     NaN   NaN    NaN      NaN  \n",
       "5           NaN        NaN     NaN       NaN     NaN   NaN    NaN      NaN  \n",
       "\n",
       "[5 rows x 193 columns]"
      ]
     },
     "execution_count": 41,
     "metadata": {},
     "output_type": "execute_result"
    }
   ],
   "source": [
    "dfcot.head()"
   ]
  },
  {
   "cell_type": "code",
   "execution_count": 42,
   "metadata": {},
   "outputs": [
    {
     "data": {
      "image/png": "[encoded data removed]",
      "text/plain": [
       "<Figure size 1080x720 with 1 Axes>"
      ]
     },
     "metadata": {},
     "output_type": "display_data"
    }
   ],
   "source": [
    "plt.figure(figsize=(15,10))\n",
    "plt.plot(dfcot['Year'], dfcot.Australia, color='red')\n",
    "plt.plot(dfcot['Year'], dfcot.China, color='green')\n",
    "plt.plot(dfcot['Year'], dfcot['United States'], color='blue')\n",
    "plt.legend()\n",
    "plt.xlabel('Year')\n",
    "plt.ylabel('CO2 emission(tonnes per person)')\n",
    "plt.show()"
   ]
  },
  {
   "cell_type": "code",
   "execution_count": 43,
   "metadata": {},
   "outputs": [],
   "source": [
    "dfcoacus = dfcot.loc[:, ['Year', 'Australia', 'China', 'United States']]"
   ]
  },
  {
   "cell_type": "code",
   "execution_count": 44,
   "metadata": {},
   "outputs": [
    {
     "name": "stdout",
     "output_type": "stream",
     "text": [
      "Maximum CO2 emission for Australia is: 18.2\n"
     ]
    }
   ],
   "source": [
    "print(\"Maximum CO2 emission for Australia is:\", np.max(dfcoacus['Australia']))"
   ]
  },
  {
   "cell_type": "code",
   "execution_count": 45,
   "metadata": {},
   "outputs": [
    {
     "name": "stdout",
     "output_type": "stream",
     "text": [
      "Maximum CO2 emission for China is: 7.42\n"
     ]
    }
   ],
   "source": [
    "print(\"Maximum CO2 emission for China is:\",np.max(dfcoacus['China']))"
   ]
  },
  {
   "cell_type": "code",
   "execution_count": 46,
   "metadata": {},
   "outputs": [
    {
     "name": "stdout",
     "output_type": "stream",
     "text": [
      "Maximum CO2 emission for US is: 22.2\n"
     ]
    }
   ],
   "source": [
    "print(\"Maximum CO2 emission for US is:\", np.max(dfcoacus['United States']))"
   ]
  },
  {
   "cell_type": "code",
   "execution_count": null,
   "metadata": {},
   "outputs": [],
   "source": []
  },
  {
   "cell_type": "markdown",
   "metadata": {},
   "source": [
    "<b>2. Fit a linear regression to the CO2 emissions in United States and plot it.<br></b>\n",
    "o Does it look like a good fit to you? Would you believe the predictions of the linear\n",
    "model going forward?"
   ]
  },
  {
   "cell_type": "code",
   "execution_count": 47,
   "metadata": {},
   "outputs": [],
   "source": [
    "dfcous = dfcot.loc[:,['Year', 'United States']]"
   ]
  },
  {
   "cell_type": "code",
   "execution_count": 48,
   "metadata": {},
   "outputs": [
    {
     "data": {
      "text/html": [
       "<div>\n",
       "<style scoped>\n",
       "    .dataframe tbody tr th:only-of-type {\n",
       "        vertical-align: middle;\n",
       "    }\n",
       "\n",
       "    .dataframe tbody tr th {\n",
       "        vertical-align: top;\n",
       "    }\n",
       "\n",
       "    .dataframe thead th {\n",
       "        text-align: right;\n",
       "    }\n",
       "</style>\n",
       "<table border=\"1\" class=\"dataframe\">\n",
       "  <thead>\n",
       "    <tr style=\"text-align: right;\">\n",
       "      <th>country</th>\n",
       "      <th>Year</th>\n",
       "      <th>United States</th>\n",
       "    </tr>\n",
       "  </thead>\n",
       "  <tbody>\n",
       "    <tr>\n",
       "      <th>1</th>\n",
       "      <td>1800</td>\n",
       "      <td>0.0372</td>\n",
       "    </tr>\n",
       "    <tr>\n",
       "      <th>2</th>\n",
       "      <td>1801</td>\n",
       "      <td>0.0386</td>\n",
       "    </tr>\n",
       "    <tr>\n",
       "      <th>3</th>\n",
       "      <td>1802</td>\n",
       "      <td>0.041</td>\n",
       "    </tr>\n",
       "    <tr>\n",
       "      <th>4</th>\n",
       "      <td>1803</td>\n",
       "      <td>0.0412</td>\n",
       "    </tr>\n",
       "    <tr>\n",
       "      <th>5</th>\n",
       "      <td>1804</td>\n",
       "      <td>0.0454</td>\n",
       "    </tr>\n",
       "  </tbody>\n",
       "</table>\n",
       "</div>"
      ],
      "text/plain": [
       "country  Year United States\n",
       "1        1800        0.0372\n",
       "2        1801        0.0386\n",
       "3        1802         0.041\n",
       "4        1803        0.0412\n",
       "5        1804        0.0454"
      ]
     },
     "execution_count": 48,
     "metadata": {},
     "output_type": "execute_result"
    }
   ],
   "source": [
    "dfcous.head()"
   ]
  },
  {
   "cell_type": "code",
   "execution_count": 49,
   "metadata": {},
   "outputs": [],
   "source": [
    "# https://stackoverflow.com/questions/15891038/change-data-type-of-columns-in-pandas\n",
    "dfcous[[\"Year\", \"United States\"]] = dfcous[[\"Year\", \"United States\"]].apply(pd.to_numeric)"
   ]
  },
  {
   "cell_type": "code",
   "execution_count": 50,
   "metadata": {},
   "outputs": [
    {
     "data": {
      "text/plain": [
       "country\n",
       "Year               int64\n",
       "United States    float64\n",
       "dtype: object"
      ]
     },
     "execution_count": 50,
     "metadata": {},
     "output_type": "execute_result"
    }
   ],
   "source": [
    "dfcous.dtypes"
   ]
  },
  {
   "cell_type": "code",
   "execution_count": 51,
   "metadata": {},
   "outputs": [],
   "source": [
    "slope, intercept, r_value, p_value, std_err = linregress(dfcous['Year'], dfcous['United States'])"
   ]
  },
  {
   "cell_type": "code",
   "execution_count": 52,
   "metadata": {},
   "outputs": [],
   "source": [
    "line = [slope*xi + intercept for xi in dfcous['Year']]"
   ]
  },
  {
   "cell_type": "code",
   "execution_count": 53,
   "metadata": {},
   "outputs": [
    {
     "data": {
      "image/png": "[encoded data removed]",
      "text/plain": [
       "<Figure size 1080x720 with 1 Axes>"
      ]
     },
     "metadata": {},
     "output_type": "display_data"
    },
    {
     "name": "stdout",
     "output_type": "stream",
     "text": [
      "The r_value is: 0.9553765920353117\n"
     ]
    }
   ],
   "source": [
    "plt.figure(figsize=(15,10))\n",
    "plt.plot(dfcous['Year'], line,'r-', linewidth=5) # plotting linear line regression\n",
    "plt.scatter(dfcous['Year'], dfcous['United States']) # plotting population of US\n",
    "plt.legend()\n",
    "plt.xlabel('Year')\n",
    "plt.ylabel('Population')\n",
    "plt.show()\n",
    "print(\"The r_value is:\", r_value) # printing r_value"
   ]
  },
  {
   "cell_type": "code",
   "execution_count": null,
   "metadata": {},
   "outputs": [],
   "source": []
  },
  {
   "cell_type": "code",
   "execution_count": null,
   "metadata": {},
   "outputs": [],
   "source": []
  },
  {
   "cell_type": "markdown",
   "metadata": {},
   "source": [
    "## A3. Investigating the Income Data"
   ]
  },
  {
   "cell_type": "markdown",
   "metadata": {},
   "source": [
    "<b>1. Use Python to plot the Income Australia, China and United States over time.<br></b>\n",
    "• What was the minimum income in China recorded in the dataset and when did that\n",
    "occur? What was the income in Australia in the same year?"
   ]
  },
  {
   "cell_type": "code",
   "execution_count": 54,
   "metadata": {},
   "outputs": [
    {
     "data": {
      "text/html": [
       "<div>\n",
       "<style scoped>\n",
       "    .dataframe tbody tr th:only-of-type {\n",
       "        vertical-align: middle;\n",
       "    }\n",
       "\n",
       "    .dataframe tbody tr th {\n",
       "        vertical-align: top;\n",
       "    }\n",
       "\n",
       "    .dataframe thead th {\n",
       "        text-align: right;\n",
       "    }\n",
       "</style>\n",
       "<table border=\"1\" class=\"dataframe\">\n",
       "  <thead>\n",
       "    <tr style=\"text-align: right;\">\n",
       "      <th></th>\n",
       "      <th>Year</th>\n",
       "      <th>Afghanistan</th>\n",
       "      <th>Albania</th>\n",
       "      <th>Algeria</th>\n",
       "      <th>Andorra</th>\n",
       "      <th>Angola</th>\n",
       "      <th>Antigua and Barbuda</th>\n",
       "      <th>Argentina</th>\n",
       "      <th>Armenia</th>\n",
       "      <th>Australia</th>\n",
       "      <th>...</th>\n",
       "      <th>United Kingdom</th>\n",
       "      <th>United States</th>\n",
       "      <th>Uruguay</th>\n",
       "      <th>Uzbekistan</th>\n",
       "      <th>Vanuatu</th>\n",
       "      <th>Venezuela</th>\n",
       "      <th>Vietnam</th>\n",
       "      <th>Yemen</th>\n",
       "      <th>Zambia</th>\n",
       "      <th>Zimbabwe</th>\n",
       "    </tr>\n",
       "  </thead>\n",
       "  <tbody>\n",
       "    <tr>\n",
       "      <th>0</th>\n",
       "      <td>1800</td>\n",
       "      <td>603</td>\n",
       "      <td>667</td>\n",
       "      <td>715</td>\n",
       "      <td>1200</td>\n",
       "      <td>618</td>\n",
       "      <td>757</td>\n",
       "      <td>1510</td>\n",
       "      <td>514</td>\n",
       "      <td>814</td>\n",
       "      <td>...</td>\n",
       "      <td>3430</td>\n",
       "      <td>2130</td>\n",
       "      <td>1760</td>\n",
       "      <td>502</td>\n",
       "      <td>585</td>\n",
       "      <td>682</td>\n",
       "      <td>861</td>\n",
       "      <td>877</td>\n",
       "      <td>663</td>\n",
       "      <td>869</td>\n",
       "    </tr>\n",
       "    <tr>\n",
       "      <th>1</th>\n",
       "      <td>1801</td>\n",
       "      <td>603</td>\n",
       "      <td>667</td>\n",
       "      <td>716</td>\n",
       "      <td>1200</td>\n",
       "      <td>620</td>\n",
       "      <td>757</td>\n",
       "      <td>1510</td>\n",
       "      <td>514</td>\n",
       "      <td>816</td>\n",
       "      <td>...</td>\n",
       "      <td>3440</td>\n",
       "      <td>2170</td>\n",
       "      <td>1760</td>\n",
       "      <td>502</td>\n",
       "      <td>586</td>\n",
       "      <td>682</td>\n",
       "      <td>861</td>\n",
       "      <td>879</td>\n",
       "      <td>665</td>\n",
       "      <td>870</td>\n",
       "    </tr>\n",
       "    <tr>\n",
       "      <th>2</th>\n",
       "      <td>1802</td>\n",
       "      <td>603</td>\n",
       "      <td>667</td>\n",
       "      <td>717</td>\n",
       "      <td>1200</td>\n",
       "      <td>623</td>\n",
       "      <td>757</td>\n",
       "      <td>1510</td>\n",
       "      <td>514</td>\n",
       "      <td>818</td>\n",
       "      <td>...</td>\n",
       "      <td>3450</td>\n",
       "      <td>2200</td>\n",
       "      <td>1760</td>\n",
       "      <td>502</td>\n",
       "      <td>586</td>\n",
       "      <td>682</td>\n",
       "      <td>861</td>\n",
       "      <td>882</td>\n",
       "      <td>667</td>\n",
       "      <td>871</td>\n",
       "    </tr>\n",
       "    <tr>\n",
       "      <th>3</th>\n",
       "      <td>1803</td>\n",
       "      <td>603</td>\n",
       "      <td>667</td>\n",
       "      <td>718</td>\n",
       "      <td>1200</td>\n",
       "      <td>626</td>\n",
       "      <td>757</td>\n",
       "      <td>1510</td>\n",
       "      <td>514</td>\n",
       "      <td>820</td>\n",
       "      <td>...</td>\n",
       "      <td>3340</td>\n",
       "      <td>2170</td>\n",
       "      <td>1760</td>\n",
       "      <td>502</td>\n",
       "      <td>586</td>\n",
       "      <td>682</td>\n",
       "      <td>861</td>\n",
       "      <td>884</td>\n",
       "      <td>668</td>\n",
       "      <td>872</td>\n",
       "    </tr>\n",
       "    <tr>\n",
       "      <th>4</th>\n",
       "      <td>1804</td>\n",
       "      <td>603</td>\n",
       "      <td>667</td>\n",
       "      <td>719</td>\n",
       "      <td>1210</td>\n",
       "      <td>628</td>\n",
       "      <td>757</td>\n",
       "      <td>1510</td>\n",
       "      <td>514</td>\n",
       "      <td>822</td>\n",
       "      <td>...</td>\n",
       "      <td>3290</td>\n",
       "      <td>2170</td>\n",
       "      <td>1760</td>\n",
       "      <td>503</td>\n",
       "      <td>586</td>\n",
       "      <td>682</td>\n",
       "      <td>861</td>\n",
       "      <td>887</td>\n",
       "      <td>670</td>\n",
       "      <td>873</td>\n",
       "    </tr>\n",
       "  </tbody>\n",
       "</table>\n",
       "<p>5 rows × 194 columns</p>\n",
       "</div>"
      ],
      "text/plain": [
       "   Year  Afghanistan  Albania  Algeria  Andorra  Angola  Antigua and Barbuda  \\\n",
       "0  1800          603      667      715     1200     618                  757   \n",
       "1  1801          603      667      716     1200     620                  757   \n",
       "2  1802          603      667      717     1200     623                  757   \n",
       "3  1803          603      667      718     1200     626                  757   \n",
       "4  1804          603      667      719     1210     628                  757   \n",
       "\n",
       "   Argentina  Armenia  Australia    ...     United Kingdom  United States  \\\n",
       "0       1510      514        814    ...               3430           2130   \n",
       "1       1510      514        816    ...               3440           2170   \n",
       "2       1510      514        818    ...               3450           2200   \n",
       "3       1510      514        820    ...               3340           2170   \n",
       "4       1510      514        822    ...               3290           2170   \n",
       "\n",
       "   Uruguay  Uzbekistan  Vanuatu  Venezuela  Vietnam  Yemen  Zambia  Zimbabwe  \n",
       "0     1760         502      585        682      861    877     663       869  \n",
       "1     1760         502      586        682      861    879     665       870  \n",
       "2     1760         502      586        682      861    882     667       871  \n",
       "3     1760         502      586        682      861    884     668       872  \n",
       "4     1760         503      586        682      861    887     670       873  \n",
       "\n",
       "[5 rows x 194 columns]"
      ]
     },
     "execution_count": 54,
     "metadata": {},
     "output_type": "execute_result"
    }
   ],
   "source": [
    "df_income.head()"
   ]
  },
  {
   "cell_type": "code",
   "execution_count": 55,
   "metadata": {},
   "outputs": [],
   "source": [
    "# creating a separate income dataframe for China, Australia and US\n",
    "df_inc = df_income.loc[:, ['Year', 'China', 'Australia', 'United States']]"
   ]
  },
  {
   "cell_type": "code",
   "execution_count": 56,
   "metadata": {},
   "outputs": [
    {
     "data": {
      "text/html": [
       "<div>\n",
       "<style scoped>\n",
       "    .dataframe tbody tr th:only-of-type {\n",
       "        vertical-align: middle;\n",
       "    }\n",
       "\n",
       "    .dataframe tbody tr th {\n",
       "        vertical-align: top;\n",
       "    }\n",
       "\n",
       "    .dataframe thead th {\n",
       "        text-align: right;\n",
       "    }\n",
       "</style>\n",
       "<table border=\"1\" class=\"dataframe\">\n",
       "  <thead>\n",
       "    <tr style=\"text-align: right;\">\n",
       "      <th></th>\n",
       "      <th>Year</th>\n",
       "      <th>China</th>\n",
       "      <th>Australia</th>\n",
       "      <th>United States</th>\n",
       "    </tr>\n",
       "  </thead>\n",
       "  <tbody>\n",
       "    <tr>\n",
       "      <th>0</th>\n",
       "      <td>1800</td>\n",
       "      <td>984</td>\n",
       "      <td>814</td>\n",
       "      <td>2130</td>\n",
       "    </tr>\n",
       "    <tr>\n",
       "      <th>1</th>\n",
       "      <td>1801</td>\n",
       "      <td>984</td>\n",
       "      <td>816</td>\n",
       "      <td>2170</td>\n",
       "    </tr>\n",
       "    <tr>\n",
       "      <th>2</th>\n",
       "      <td>1802</td>\n",
       "      <td>984</td>\n",
       "      <td>818</td>\n",
       "      <td>2200</td>\n",
       "    </tr>\n",
       "    <tr>\n",
       "      <th>3</th>\n",
       "      <td>1803</td>\n",
       "      <td>984</td>\n",
       "      <td>820</td>\n",
       "      <td>2170</td>\n",
       "    </tr>\n",
       "    <tr>\n",
       "      <th>4</th>\n",
       "      <td>1804</td>\n",
       "      <td>984</td>\n",
       "      <td>822</td>\n",
       "      <td>2170</td>\n",
       "    </tr>\n",
       "  </tbody>\n",
       "</table>\n",
       "</div>"
      ],
      "text/plain": [
       "   Year  China  Australia  United States\n",
       "0  1800    984        814           2130\n",
       "1  1801    984        816           2170\n",
       "2  1802    984        818           2200\n",
       "3  1803    984        820           2170\n",
       "4  1804    984        822           2170"
      ]
     },
     "execution_count": 56,
     "metadata": {},
     "output_type": "execute_result"
    }
   ],
   "source": [
    "df_inc.head()"
   ]
  },
  {
   "cell_type": "code",
   "execution_count": 57,
   "metadata": {},
   "outputs": [
    {
     "data": {
      "image/png": "[encoded data removed]",
      "text/plain": [
       "<Figure size 1080x720 with 1 Axes>"
      ]
     },
     "metadata": {},
     "output_type": "display_data"
    }
   ],
   "source": [
    "plt.figure(figsize=(15,10))\n",
    "plt.plot(df_inc['Year'], df_inc['Australia'], color='red')\n",
    "plt.plot(df_inc['Year'], df_inc['China'], color='green')\n",
    "plt.plot(df_inc['Year'], df_inc['United States'], color='blue')\n",
    "plt.legend()\n",
    "plt.xlabel('Year')\n",
    "plt.ylabel('Income per country')\n",
    "plt.show()"
   ]
  },
  {
   "cell_type": "code",
   "execution_count": 58,
   "metadata": {},
   "outputs": [],
   "source": [
    "# https://stackoverflow.com/questions/15741759/find-maximum-value-of-a-column-and-return-the-corresponding-row-values-using-pan"
   ]
  },
  {
   "cell_type": "code",
   "execution_count": 59,
   "metadata": {},
   "outputs": [
    {
     "data": {
      "text/plain": [
       "Year              1949\n",
       "China              530\n",
       "Australia        11800\n",
       "United States    14300\n",
       "Name: 149, dtype: int64"
      ]
     },
     "execution_count": 59,
     "metadata": {},
     "output_type": "execute_result"
    }
   ],
   "source": [
    "df_inc.loc[df_inc['China'].idxmin()] "
   ]
  },
  {
   "cell_type": "code",
   "execution_count": null,
   "metadata": {},
   "outputs": [],
   "source": []
  },
  {
   "cell_type": "markdown",
   "metadata": {},
   "source": [
    "## A4. Visualising the Relationship between CO2 emissions, Income and Population"
   ]
  },
  {
   "cell_type": "markdown",
   "metadata": {},
   "source": [
    "1. Use Python to combine the data from the different files into a single table. The table\n",
    "should contain population values, income and CO2 emissions for the different years and\n",
    "different countries.<br>\n",
    "What is the first year and last year for the combined data?"
   ]
  },
  {
   "cell_type": "code",
   "execution_count": 60,
   "metadata": {},
   "outputs": [
    {
     "data": {
      "text/html": [
       "<div>\n",
       "<style scoped>\n",
       "    .dataframe tbody tr th:only-of-type {\n",
       "        vertical-align: middle;\n",
       "    }\n",
       "\n",
       "    .dataframe tbody tr th {\n",
       "        vertical-align: top;\n",
       "    }\n",
       "\n",
       "    .dataframe thead th {\n",
       "        text-align: right;\n",
       "    }\n",
       "</style>\n",
       "<table border=\"1\" class=\"dataframe\">\n",
       "  <thead>\n",
       "    <tr style=\"text-align: right;\">\n",
       "      <th>country</th>\n",
       "      <th>Year</th>\n",
       "      <th>Afghanistan</th>\n",
       "      <th>Albania</th>\n",
       "      <th>Algeria</th>\n",
       "      <th>Andorra</th>\n",
       "      <th>Angola</th>\n",
       "      <th>Antigua and Barbuda</th>\n",
       "      <th>Argentina</th>\n",
       "      <th>Armenia</th>\n",
       "      <th>Australia</th>\n",
       "      <th>...</th>\n",
       "      <th>United Kingdom</th>\n",
       "      <th>United States</th>\n",
       "      <th>Uruguay</th>\n",
       "      <th>Uzbekistan</th>\n",
       "      <th>Vanuatu</th>\n",
       "      <th>Venezuela</th>\n",
       "      <th>Vietnam</th>\n",
       "      <th>Yemen</th>\n",
       "      <th>Zambia</th>\n",
       "      <th>Zimbabwe</th>\n",
       "    </tr>\n",
       "  </thead>\n",
       "  <tbody>\n",
       "    <tr>\n",
       "      <th>1</th>\n",
       "      <td>1800</td>\n",
       "      <td>NaN</td>\n",
       "      <td>NaN</td>\n",
       "      <td>NaN</td>\n",
       "      <td>NaN</td>\n",
       "      <td>NaN</td>\n",
       "      <td>NaN</td>\n",
       "      <td>NaN</td>\n",
       "      <td>NaN</td>\n",
       "      <td>NaN</td>\n",
       "      <td>...</td>\n",
       "      <td>2.16</td>\n",
       "      <td>0.0372</td>\n",
       "      <td>NaN</td>\n",
       "      <td>NaN</td>\n",
       "      <td>NaN</td>\n",
       "      <td>NaN</td>\n",
       "      <td>NaN</td>\n",
       "      <td>NaN</td>\n",
       "      <td>NaN</td>\n",
       "      <td>NaN</td>\n",
       "    </tr>\n",
       "    <tr>\n",
       "      <th>2</th>\n",
       "      <td>1801</td>\n",
       "      <td>NaN</td>\n",
       "      <td>NaN</td>\n",
       "      <td>NaN</td>\n",
       "      <td>NaN</td>\n",
       "      <td>NaN</td>\n",
       "      <td>NaN</td>\n",
       "      <td>NaN</td>\n",
       "      <td>NaN</td>\n",
       "      <td>NaN</td>\n",
       "      <td>...</td>\n",
       "      <td>2.14</td>\n",
       "      <td>0.0386</td>\n",
       "      <td>NaN</td>\n",
       "      <td>NaN</td>\n",
       "      <td>NaN</td>\n",
       "      <td>NaN</td>\n",
       "      <td>NaN</td>\n",
       "      <td>NaN</td>\n",
       "      <td>NaN</td>\n",
       "      <td>NaN</td>\n",
       "    </tr>\n",
       "    <tr>\n",
       "      <th>3</th>\n",
       "      <td>1802</td>\n",
       "      <td>NaN</td>\n",
       "      <td>NaN</td>\n",
       "      <td>NaN</td>\n",
       "      <td>NaN</td>\n",
       "      <td>NaN</td>\n",
       "      <td>NaN</td>\n",
       "      <td>NaN</td>\n",
       "      <td>NaN</td>\n",
       "      <td>NaN</td>\n",
       "      <td>...</td>\n",
       "      <td>2.13</td>\n",
       "      <td>0.041</td>\n",
       "      <td>NaN</td>\n",
       "      <td>NaN</td>\n",
       "      <td>NaN</td>\n",
       "      <td>NaN</td>\n",
       "      <td>NaN</td>\n",
       "      <td>NaN</td>\n",
       "      <td>NaN</td>\n",
       "      <td>NaN</td>\n",
       "    </tr>\n",
       "    <tr>\n",
       "      <th>4</th>\n",
       "      <td>1803</td>\n",
       "      <td>NaN</td>\n",
       "      <td>NaN</td>\n",
       "      <td>NaN</td>\n",
       "      <td>NaN</td>\n",
       "      <td>NaN</td>\n",
       "      <td>NaN</td>\n",
       "      <td>NaN</td>\n",
       "      <td>NaN</td>\n",
       "      <td>NaN</td>\n",
       "      <td>...</td>\n",
       "      <td>2.36</td>\n",
       "      <td>0.0412</td>\n",
       "      <td>NaN</td>\n",
       "      <td>NaN</td>\n",
       "      <td>NaN</td>\n",
       "      <td>NaN</td>\n",
       "      <td>NaN</td>\n",
       "      <td>NaN</td>\n",
       "      <td>NaN</td>\n",
       "      <td>NaN</td>\n",
       "    </tr>\n",
       "    <tr>\n",
       "      <th>5</th>\n",
       "      <td>1804</td>\n",
       "      <td>NaN</td>\n",
       "      <td>NaN</td>\n",
       "      <td>NaN</td>\n",
       "      <td>NaN</td>\n",
       "      <td>NaN</td>\n",
       "      <td>NaN</td>\n",
       "      <td>NaN</td>\n",
       "      <td>NaN</td>\n",
       "      <td>NaN</td>\n",
       "      <td>...</td>\n",
       "      <td>2.34</td>\n",
       "      <td>0.0454</td>\n",
       "      <td>NaN</td>\n",
       "      <td>NaN</td>\n",
       "      <td>NaN</td>\n",
       "      <td>NaN</td>\n",
       "      <td>NaN</td>\n",
       "      <td>NaN</td>\n",
       "      <td>NaN</td>\n",
       "      <td>NaN</td>\n",
       "    </tr>\n",
       "  </tbody>\n",
       "</table>\n",
       "<p>5 rows × 193 columns</p>\n",
       "</div>"
      ],
      "text/plain": [
       "country  Year Afghanistan Albania Algeria Andorra Angola Antigua and Barbuda  \\\n",
       "1        1800         NaN     NaN     NaN     NaN    NaN                 NaN   \n",
       "2        1801         NaN     NaN     NaN     NaN    NaN                 NaN   \n",
       "3        1802         NaN     NaN     NaN     NaN    NaN                 NaN   \n",
       "4        1803         NaN     NaN     NaN     NaN    NaN                 NaN   \n",
       "5        1804         NaN     NaN     NaN     NaN    NaN                 NaN   \n",
       "\n",
       "country Argentina Armenia Australia   ...    United Kingdom United States  \\\n",
       "1             NaN     NaN       NaN   ...              2.16        0.0372   \n",
       "2             NaN     NaN       NaN   ...              2.14        0.0386   \n",
       "3             NaN     NaN       NaN   ...              2.13         0.041   \n",
       "4             NaN     NaN       NaN   ...              2.36        0.0412   \n",
       "5             NaN     NaN       NaN   ...              2.34        0.0454   \n",
       "\n",
       "country Uruguay Uzbekistan Vanuatu Venezuela Vietnam Yemen Zambia Zimbabwe  \n",
       "1           NaN        NaN     NaN       NaN     NaN   NaN    NaN      NaN  \n",
       "2           NaN        NaN     NaN       NaN     NaN   NaN    NaN      NaN  \n",
       "3           NaN        NaN     NaN       NaN     NaN   NaN    NaN      NaN  \n",
       "4           NaN        NaN     NaN       NaN     NaN   NaN    NaN      NaN  \n",
       "5           NaN        NaN     NaN       NaN     NaN   NaN    NaN      NaN  \n",
       "\n",
       "[5 rows x 193 columns]"
      ]
     },
     "execution_count": 60,
     "metadata": {},
     "output_type": "execute_result"
    }
   ],
   "source": [
    "dfcot.head()"
   ]
  },
  {
   "cell_type": "code",
   "execution_count": 61,
   "metadata": {},
   "outputs": [],
   "source": [
    "# result = pd.merge(left, right, on='key')"
   ]
  },
  {
   "cell_type": "code",
   "execution_count": 62,
   "metadata": {},
   "outputs": [],
   "source": [
    "# https://pandas.pydata.org/pandas-docs/stable/generated/pandas.melt.html\n",
    "pop_melt = pd.melt(df_pop, id_vars=['Year'], var_name='Country', value_name='Population')"
   ]
  },
  {
   "cell_type": "code",
   "execution_count": 63,
   "metadata": {},
   "outputs": [
    {
     "data": {
      "text/html": [
       "<div>\n",
       "<style scoped>\n",
       "    .dataframe tbody tr th:only-of-type {\n",
       "        vertical-align: middle;\n",
       "    }\n",
       "\n",
       "    .dataframe tbody tr th {\n",
       "        vertical-align: top;\n",
       "    }\n",
       "\n",
       "    .dataframe thead th {\n",
       "        text-align: right;\n",
       "    }\n",
       "</style>\n",
       "<table border=\"1\" class=\"dataframe\">\n",
       "  <thead>\n",
       "    <tr style=\"text-align: right;\">\n",
       "      <th></th>\n",
       "      <th>Year</th>\n",
       "      <th>Country</th>\n",
       "      <th>Population</th>\n",
       "    </tr>\n",
       "  </thead>\n",
       "  <tbody>\n",
       "    <tr>\n",
       "      <th>0</th>\n",
       "      <td>1800</td>\n",
       "      <td>Afghanistan</td>\n",
       "      <td>3280000</td>\n",
       "    </tr>\n",
       "    <tr>\n",
       "      <th>1</th>\n",
       "      <td>1801</td>\n",
       "      <td>Afghanistan</td>\n",
       "      <td>3280000</td>\n",
       "    </tr>\n",
       "    <tr>\n",
       "      <th>2</th>\n",
       "      <td>1802</td>\n",
       "      <td>Afghanistan</td>\n",
       "      <td>3280000</td>\n",
       "    </tr>\n",
       "    <tr>\n",
       "      <th>3</th>\n",
       "      <td>1803</td>\n",
       "      <td>Afghanistan</td>\n",
       "      <td>3280000</td>\n",
       "    </tr>\n",
       "    <tr>\n",
       "      <th>4</th>\n",
       "      <td>1804</td>\n",
       "      <td>Afghanistan</td>\n",
       "      <td>3280000</td>\n",
       "    </tr>\n",
       "  </tbody>\n",
       "</table>\n",
       "</div>"
      ],
      "text/plain": [
       "   Year      Country  Population\n",
       "0  1800  Afghanistan     3280000\n",
       "1  1801  Afghanistan     3280000\n",
       "2  1802  Afghanistan     3280000\n",
       "3  1803  Afghanistan     3280000\n",
       "4  1804  Afghanistan     3280000"
      ]
     },
     "execution_count": 63,
     "metadata": {},
     "output_type": "execute_result"
    }
   ],
   "source": [
    "pop_melt.head()"
   ]
  },
  {
   "cell_type": "code",
   "execution_count": 64,
   "metadata": {},
   "outputs": [],
   "source": [
    "income_melt = pd.melt(df_income, id_vars=['Year'], var_name='Country', value_name='Income')"
   ]
  },
  {
   "cell_type": "code",
   "execution_count": 65,
   "metadata": {},
   "outputs": [],
   "source": [
    "co2_melt = pd.melt(dfcot, id_vars=['Year'], var_name='Country', value_name='CO2')"
   ]
  },
  {
   "cell_type": "code",
   "execution_count": 66,
   "metadata": {},
   "outputs": [
    {
     "data": {
      "text/html": [
       "<div>\n",
       "<style scoped>\n",
       "    .dataframe tbody tr th:only-of-type {\n",
       "        vertical-align: middle;\n",
       "    }\n",
       "\n",
       "    .dataframe tbody tr th {\n",
       "        vertical-align: top;\n",
       "    }\n",
       "\n",
       "    .dataframe thead th {\n",
       "        text-align: right;\n",
       "    }\n",
       "</style>\n",
       "<table border=\"1\" class=\"dataframe\">\n",
       "  <thead>\n",
       "    <tr style=\"text-align: right;\">\n",
       "      <th>country</th>\n",
       "      <th>Year</th>\n",
       "      <th>Afghanistan</th>\n",
       "      <th>Albania</th>\n",
       "      <th>Algeria</th>\n",
       "      <th>Andorra</th>\n",
       "      <th>Angola</th>\n",
       "      <th>Antigua and Barbuda</th>\n",
       "      <th>Argentina</th>\n",
       "      <th>Armenia</th>\n",
       "      <th>Australia</th>\n",
       "      <th>...</th>\n",
       "      <th>United Kingdom</th>\n",
       "      <th>United States</th>\n",
       "      <th>Uruguay</th>\n",
       "      <th>Uzbekistan</th>\n",
       "      <th>Vanuatu</th>\n",
       "      <th>Venezuela</th>\n",
       "      <th>Vietnam</th>\n",
       "      <th>Yemen</th>\n",
       "      <th>Zambia</th>\n",
       "      <th>Zimbabwe</th>\n",
       "    </tr>\n",
       "  </thead>\n",
       "  <tbody>\n",
       "    <tr>\n",
       "      <th>1</th>\n",
       "      <td>1800</td>\n",
       "      <td>NaN</td>\n",
       "      <td>NaN</td>\n",
       "      <td>NaN</td>\n",
       "      <td>NaN</td>\n",
       "      <td>NaN</td>\n",
       "      <td>NaN</td>\n",
       "      <td>NaN</td>\n",
       "      <td>NaN</td>\n",
       "      <td>NaN</td>\n",
       "      <td>...</td>\n",
       "      <td>2.16</td>\n",
       "      <td>0.0372</td>\n",
       "      <td>NaN</td>\n",
       "      <td>NaN</td>\n",
       "      <td>NaN</td>\n",
       "      <td>NaN</td>\n",
       "      <td>NaN</td>\n",
       "      <td>NaN</td>\n",
       "      <td>NaN</td>\n",
       "      <td>NaN</td>\n",
       "    </tr>\n",
       "    <tr>\n",
       "      <th>2</th>\n",
       "      <td>1801</td>\n",
       "      <td>NaN</td>\n",
       "      <td>NaN</td>\n",
       "      <td>NaN</td>\n",
       "      <td>NaN</td>\n",
       "      <td>NaN</td>\n",
       "      <td>NaN</td>\n",
       "      <td>NaN</td>\n",
       "      <td>NaN</td>\n",
       "      <td>NaN</td>\n",
       "      <td>...</td>\n",
       "      <td>2.14</td>\n",
       "      <td>0.0386</td>\n",
       "      <td>NaN</td>\n",
       "      <td>NaN</td>\n",
       "      <td>NaN</td>\n",
       "      <td>NaN</td>\n",
       "      <td>NaN</td>\n",
       "      <td>NaN</td>\n",
       "      <td>NaN</td>\n",
       "      <td>NaN</td>\n",
       "    </tr>\n",
       "    <tr>\n",
       "      <th>3</th>\n",
       "      <td>1802</td>\n",
       "      <td>NaN</td>\n",
       "      <td>NaN</td>\n",
       "      <td>NaN</td>\n",
       "      <td>NaN</td>\n",
       "      <td>NaN</td>\n",
       "      <td>NaN</td>\n",
       "      <td>NaN</td>\n",
       "      <td>NaN</td>\n",
       "      <td>NaN</td>\n",
       "      <td>...</td>\n",
       "      <td>2.13</td>\n",
       "      <td>0.041</td>\n",
       "      <td>NaN</td>\n",
       "      <td>NaN</td>\n",
       "      <td>NaN</td>\n",
       "      <td>NaN</td>\n",
       "      <td>NaN</td>\n",
       "      <td>NaN</td>\n",
       "      <td>NaN</td>\n",
       "      <td>NaN</td>\n",
       "    </tr>\n",
       "    <tr>\n",
       "      <th>4</th>\n",
       "      <td>1803</td>\n",
       "      <td>NaN</td>\n",
       "      <td>NaN</td>\n",
       "      <td>NaN</td>\n",
       "      <td>NaN</td>\n",
       "      <td>NaN</td>\n",
       "      <td>NaN</td>\n",
       "      <td>NaN</td>\n",
       "      <td>NaN</td>\n",
       "      <td>NaN</td>\n",
       "      <td>...</td>\n",
       "      <td>2.36</td>\n",
       "      <td>0.0412</td>\n",
       "      <td>NaN</td>\n",
       "      <td>NaN</td>\n",
       "      <td>NaN</td>\n",
       "      <td>NaN</td>\n",
       "      <td>NaN</td>\n",
       "      <td>NaN</td>\n",
       "      <td>NaN</td>\n",
       "      <td>NaN</td>\n",
       "    </tr>\n",
       "    <tr>\n",
       "      <th>5</th>\n",
       "      <td>1804</td>\n",
       "      <td>NaN</td>\n",
       "      <td>NaN</td>\n",
       "      <td>NaN</td>\n",
       "      <td>NaN</td>\n",
       "      <td>NaN</td>\n",
       "      <td>NaN</td>\n",
       "      <td>NaN</td>\n",
       "      <td>NaN</td>\n",
       "      <td>NaN</td>\n",
       "      <td>...</td>\n",
       "      <td>2.34</td>\n",
       "      <td>0.0454</td>\n",
       "      <td>NaN</td>\n",
       "      <td>NaN</td>\n",
       "      <td>NaN</td>\n",
       "      <td>NaN</td>\n",
       "      <td>NaN</td>\n",
       "      <td>NaN</td>\n",
       "      <td>NaN</td>\n",
       "      <td>NaN</td>\n",
       "    </tr>\n",
       "  </tbody>\n",
       "</table>\n",
       "<p>5 rows × 193 columns</p>\n",
       "</div>"
      ],
      "text/plain": [
       "country  Year Afghanistan Albania Algeria Andorra Angola Antigua and Barbuda  \\\n",
       "1        1800         NaN     NaN     NaN     NaN    NaN                 NaN   \n",
       "2        1801         NaN     NaN     NaN     NaN    NaN                 NaN   \n",
       "3        1802         NaN     NaN     NaN     NaN    NaN                 NaN   \n",
       "4        1803         NaN     NaN     NaN     NaN    NaN                 NaN   \n",
       "5        1804         NaN     NaN     NaN     NaN    NaN                 NaN   \n",
       "\n",
       "country Argentina Armenia Australia   ...    United Kingdom United States  \\\n",
       "1             NaN     NaN       NaN   ...              2.16        0.0372   \n",
       "2             NaN     NaN       NaN   ...              2.14        0.0386   \n",
       "3             NaN     NaN       NaN   ...              2.13         0.041   \n",
       "4             NaN     NaN       NaN   ...              2.36        0.0412   \n",
       "5             NaN     NaN       NaN   ...              2.34        0.0454   \n",
       "\n",
       "country Uruguay Uzbekistan Vanuatu Venezuela Vietnam Yemen Zambia Zimbabwe  \n",
       "1           NaN        NaN     NaN       NaN     NaN   NaN    NaN      NaN  \n",
       "2           NaN        NaN     NaN       NaN     NaN   NaN    NaN      NaN  \n",
       "3           NaN        NaN     NaN       NaN     NaN   NaN    NaN      NaN  \n",
       "4           NaN        NaN     NaN       NaN     NaN   NaN    NaN      NaN  \n",
       "5           NaN        NaN     NaN       NaN     NaN   NaN    NaN      NaN  \n",
       "\n",
       "[5 rows x 193 columns]"
      ]
     },
     "execution_count": 66,
     "metadata": {},
     "output_type": "execute_result"
    }
   ],
   "source": [
    "dfcot.head()"
   ]
  },
  {
   "cell_type": "code",
   "execution_count": 67,
   "metadata": {},
   "outputs": [],
   "source": [
    "co2_melt[[\"Year\", \"CO2\"]] = co2_melt[[\"Year\", \"CO2\"]].apply(pd.to_numeric)"
   ]
  },
  {
   "cell_type": "code",
   "execution_count": 68,
   "metadata": {},
   "outputs": [
    {
     "data": {
      "text/html": [
       "<div>\n",
       "<style scoped>\n",
       "    .dataframe tbody tr th:only-of-type {\n",
       "        vertical-align: middle;\n",
       "    }\n",
       "\n",
       "    .dataframe tbody tr th {\n",
       "        vertical-align: top;\n",
       "    }\n",
       "\n",
       "    .dataframe thead th {\n",
       "        text-align: right;\n",
       "    }\n",
       "</style>\n",
       "<table border=\"1\" class=\"dataframe\">\n",
       "  <thead>\n",
       "    <tr style=\"text-align: right;\">\n",
       "      <th></th>\n",
       "      <th>Year</th>\n",
       "      <th>Country</th>\n",
       "      <th>CO2</th>\n",
       "    </tr>\n",
       "  </thead>\n",
       "  <tbody>\n",
       "    <tr>\n",
       "      <th>0</th>\n",
       "      <td>1800</td>\n",
       "      <td>Afghanistan</td>\n",
       "      <td>NaN</td>\n",
       "    </tr>\n",
       "    <tr>\n",
       "      <th>1</th>\n",
       "      <td>1801</td>\n",
       "      <td>Afghanistan</td>\n",
       "      <td>NaN</td>\n",
       "    </tr>\n",
       "    <tr>\n",
       "      <th>2</th>\n",
       "      <td>1802</td>\n",
       "      <td>Afghanistan</td>\n",
       "      <td>NaN</td>\n",
       "    </tr>\n",
       "    <tr>\n",
       "      <th>3</th>\n",
       "      <td>1803</td>\n",
       "      <td>Afghanistan</td>\n",
       "      <td>NaN</td>\n",
       "    </tr>\n",
       "    <tr>\n",
       "      <th>4</th>\n",
       "      <td>1804</td>\n",
       "      <td>Afghanistan</td>\n",
       "      <td>NaN</td>\n",
       "    </tr>\n",
       "  </tbody>\n",
       "</table>\n",
       "</div>"
      ],
      "text/plain": [
       "   Year      Country  CO2\n",
       "0  1800  Afghanistan  NaN\n",
       "1  1801  Afghanistan  NaN\n",
       "2  1802  Afghanistan  NaN\n",
       "3  1803  Afghanistan  NaN\n",
       "4  1804  Afghanistan  NaN"
      ]
     },
     "execution_count": 68,
     "metadata": {},
     "output_type": "execute_result"
    }
   ],
   "source": [
    "co2_melt.head()"
   ]
  },
  {
   "cell_type": "code",
   "execution_count": 69,
   "metadata": {},
   "outputs": [],
   "source": [
    "pop_inc = pd.merge(pop_melt, income_melt, on=['Year','Country'], how='left')"
   ]
  },
  {
   "cell_type": "code",
   "execution_count": 70,
   "metadata": {},
   "outputs": [
    {
     "data": {
      "text/html": [
       "<div>\n",
       "<style scoped>\n",
       "    .dataframe tbody tr th:only-of-type {\n",
       "        vertical-align: middle;\n",
       "    }\n",
       "\n",
       "    .dataframe tbody tr th {\n",
       "        vertical-align: top;\n",
       "    }\n",
       "\n",
       "    .dataframe thead th {\n",
       "        text-align: right;\n",
       "    }\n",
       "</style>\n",
       "<table border=\"1\" class=\"dataframe\">\n",
       "  <thead>\n",
       "    <tr style=\"text-align: right;\">\n",
       "      <th></th>\n",
       "      <th>Year</th>\n",
       "      <th>Country</th>\n",
       "      <th>Population</th>\n",
       "      <th>Income</th>\n",
       "    </tr>\n",
       "  </thead>\n",
       "  <tbody>\n",
       "    <tr>\n",
       "      <th>42700</th>\n",
       "      <td>2014</td>\n",
       "      <td>Zimbabwe</td>\n",
       "      <td>15400000</td>\n",
       "      <td>1910.0</td>\n",
       "    </tr>\n",
       "    <tr>\n",
       "      <th>42701</th>\n",
       "      <td>2015</td>\n",
       "      <td>Zimbabwe</td>\n",
       "      <td>15800000</td>\n",
       "      <td>1890.0</td>\n",
       "    </tr>\n",
       "    <tr>\n",
       "      <th>42702</th>\n",
       "      <td>2016</td>\n",
       "      <td>Zimbabwe</td>\n",
       "      <td>16200000</td>\n",
       "      <td>1860.0</td>\n",
       "    </tr>\n",
       "    <tr>\n",
       "      <th>42703</th>\n",
       "      <td>2017</td>\n",
       "      <td>Zimbabwe</td>\n",
       "      <td>16500000</td>\n",
       "      <td>1910.0</td>\n",
       "    </tr>\n",
       "    <tr>\n",
       "      <th>42704</th>\n",
       "      <td>2018</td>\n",
       "      <td>Zimbabwe</td>\n",
       "      <td>16900000</td>\n",
       "      <td>1950.0</td>\n",
       "    </tr>\n",
       "  </tbody>\n",
       "</table>\n",
       "</div>"
      ],
      "text/plain": [
       "       Year   Country  Population  Income\n",
       "42700  2014  Zimbabwe    15400000  1910.0\n",
       "42701  2015  Zimbabwe    15800000  1890.0\n",
       "42702  2016  Zimbabwe    16200000  1860.0\n",
       "42703  2017  Zimbabwe    16500000  1910.0\n",
       "42704  2018  Zimbabwe    16900000  1950.0"
      ]
     },
     "execution_count": 70,
     "metadata": {},
     "output_type": "execute_result"
    }
   ],
   "source": [
    "pop_inc.tail()"
   ]
  },
  {
   "cell_type": "code",
   "execution_count": 71,
   "metadata": {},
   "outputs": [],
   "source": [
    "df_pop_inc_co2 = pd.merge(pop_inc, co2_melt, on=['Year', 'Country'], how='left')"
   ]
  },
  {
   "cell_type": "code",
   "execution_count": 72,
   "metadata": {},
   "outputs": [
    {
     "data": {
      "text/html": [
       "<div>\n",
       "<style scoped>\n",
       "    .dataframe tbody tr th:only-of-type {\n",
       "        vertical-align: middle;\n",
       "    }\n",
       "\n",
       "    .dataframe tbody tr th {\n",
       "        vertical-align: top;\n",
       "    }\n",
       "\n",
       "    .dataframe thead th {\n",
       "        text-align: right;\n",
       "    }\n",
       "</style>\n",
       "<table border=\"1\" class=\"dataframe\">\n",
       "  <thead>\n",
       "    <tr style=\"text-align: right;\">\n",
       "      <th></th>\n",
       "      <th>Year</th>\n",
       "      <th>Country</th>\n",
       "      <th>Population</th>\n",
       "      <th>Income</th>\n",
       "      <th>CO2</th>\n",
       "    </tr>\n",
       "  </thead>\n",
       "  <tbody>\n",
       "    <tr>\n",
       "      <th>0</th>\n",
       "      <td>1800</td>\n",
       "      <td>Afghanistan</td>\n",
       "      <td>3280000</td>\n",
       "      <td>603.0</td>\n",
       "      <td>NaN</td>\n",
       "    </tr>\n",
       "    <tr>\n",
       "      <th>1</th>\n",
       "      <td>1801</td>\n",
       "      <td>Afghanistan</td>\n",
       "      <td>3280000</td>\n",
       "      <td>603.0</td>\n",
       "      <td>NaN</td>\n",
       "    </tr>\n",
       "    <tr>\n",
       "      <th>2</th>\n",
       "      <td>1802</td>\n",
       "      <td>Afghanistan</td>\n",
       "      <td>3280000</td>\n",
       "      <td>603.0</td>\n",
       "      <td>NaN</td>\n",
       "    </tr>\n",
       "    <tr>\n",
       "      <th>3</th>\n",
       "      <td>1803</td>\n",
       "      <td>Afghanistan</td>\n",
       "      <td>3280000</td>\n",
       "      <td>603.0</td>\n",
       "      <td>NaN</td>\n",
       "    </tr>\n",
       "    <tr>\n",
       "      <th>4</th>\n",
       "      <td>1804</td>\n",
       "      <td>Afghanistan</td>\n",
       "      <td>3280000</td>\n",
       "      <td>603.0</td>\n",
       "      <td>NaN</td>\n",
       "    </tr>\n",
       "  </tbody>\n",
       "</table>\n",
       "</div>"
      ],
      "text/plain": [
       "   Year      Country  Population  Income  CO2\n",
       "0  1800  Afghanistan     3280000   603.0  NaN\n",
       "1  1801  Afghanistan     3280000   603.0  NaN\n",
       "2  1802  Afghanistan     3280000   603.0  NaN\n",
       "3  1803  Afghanistan     3280000   603.0  NaN\n",
       "4  1804  Afghanistan     3280000   603.0  NaN"
      ]
     },
     "execution_count": 72,
     "metadata": {},
     "output_type": "execute_result"
    }
   ],
   "source": [
    "df_pop_inc_co2.head()"
   ]
  },
  {
   "cell_type": "code",
   "execution_count": 73,
   "metadata": {},
   "outputs": [
    {
     "data": {
      "text/html": [
       "<div>\n",
       "<style scoped>\n",
       "    .dataframe tbody tr th:only-of-type {\n",
       "        vertical-align: middle;\n",
       "    }\n",
       "\n",
       "    .dataframe tbody tr th {\n",
       "        vertical-align: top;\n",
       "    }\n",
       "\n",
       "    .dataframe thead th {\n",
       "        text-align: right;\n",
       "    }\n",
       "</style>\n",
       "<table border=\"1\" class=\"dataframe\">\n",
       "  <thead>\n",
       "    <tr style=\"text-align: right;\">\n",
       "      <th></th>\n",
       "      <th>Year</th>\n",
       "      <th>Country</th>\n",
       "      <th>Population</th>\n",
       "      <th>Income</th>\n",
       "      <th>CO2</th>\n",
       "    </tr>\n",
       "  </thead>\n",
       "  <tbody>\n",
       "    <tr>\n",
       "      <th>42700</th>\n",
       "      <td>2014</td>\n",
       "      <td>Zimbabwe</td>\n",
       "      <td>15400000</td>\n",
       "      <td>1910.0</td>\n",
       "      <td>0.78</td>\n",
       "    </tr>\n",
       "    <tr>\n",
       "      <th>42701</th>\n",
       "      <td>2015</td>\n",
       "      <td>Zimbabwe</td>\n",
       "      <td>15800000</td>\n",
       "      <td>1890.0</td>\n",
       "      <td>NaN</td>\n",
       "    </tr>\n",
       "    <tr>\n",
       "      <th>42702</th>\n",
       "      <td>2016</td>\n",
       "      <td>Zimbabwe</td>\n",
       "      <td>16200000</td>\n",
       "      <td>1860.0</td>\n",
       "      <td>NaN</td>\n",
       "    </tr>\n",
       "    <tr>\n",
       "      <th>42703</th>\n",
       "      <td>2017</td>\n",
       "      <td>Zimbabwe</td>\n",
       "      <td>16500000</td>\n",
       "      <td>1910.0</td>\n",
       "      <td>NaN</td>\n",
       "    </tr>\n",
       "    <tr>\n",
       "      <th>42704</th>\n",
       "      <td>2018</td>\n",
       "      <td>Zimbabwe</td>\n",
       "      <td>16900000</td>\n",
       "      <td>1950.0</td>\n",
       "      <td>NaN</td>\n",
       "    </tr>\n",
       "  </tbody>\n",
       "</table>\n",
       "</div>"
      ],
      "text/plain": [
       "       Year   Country  Population  Income   CO2\n",
       "42700  2014  Zimbabwe    15400000  1910.0  0.78\n",
       "42701  2015  Zimbabwe    15800000  1890.0   NaN\n",
       "42702  2016  Zimbabwe    16200000  1860.0   NaN\n",
       "42703  2017  Zimbabwe    16500000  1910.0   NaN\n",
       "42704  2018  Zimbabwe    16900000  1950.0   NaN"
      ]
     },
     "execution_count": 73,
     "metadata": {},
     "output_type": "execute_result"
    }
   ],
   "source": [
    "df_pop_inc_co2.tail()"
   ]
  },
  {
   "cell_type": "code",
   "execution_count": 74,
   "metadata": {},
   "outputs": [
    {
     "name": "stdout",
     "output_type": "stream",
     "text": [
      "First year in the dataframe is: 1800\n"
     ]
    }
   ],
   "source": [
    "print(\"First year in the dataframe is:\", np.min(df_pop_inc_co2['Year']))"
   ]
  },
  {
   "cell_type": "code",
   "execution_count": 75,
   "metadata": {},
   "outputs": [
    {
     "name": "stdout",
     "output_type": "stream",
     "text": [
      "Last year in the dataframe is: 2018\n"
     ]
    }
   ],
   "source": [
    "print(\"Last year in the dataframe is:\", np.max(df_pop_inc_co2['Year']))"
   ]
  },
  {
   "cell_type": "code",
   "execution_count": null,
   "metadata": {},
   "outputs": [],
   "source": []
  },
  {
   "cell_type": "markdown",
   "metadata": {},
   "source": [
    "<b>2. Now that you have the data combined, we can see whether there is a relationship between\n",
    "CO2 emissions and the population. Plot the values against each other.<br></b>\n",
    "o Can you see a relationship there?"
   ]
  },
  {
   "cell_type": "code",
   "execution_count": 76,
   "metadata": {},
   "outputs": [
    {
     "data": {
      "image/png": "[encoded data removed]",
      "text/plain": [
       "<Figure size 1080x720 with 1 Axes>"
      ]
     },
     "metadata": {},
     "output_type": "display_data"
    }
   ],
   "source": [
    "plt.figure(figsize=(15,10))\n",
    "plt.plot(df_pop_inc_co2['Population'], df_pop_inc_co2['CO2'], color='red')\n",
    "plt.legend()\n",
    "plt.xlabel('Population')\n",
    "plt.ylabel('CO2 emission')\n",
    "plt.show()"
   ]
  },
  {
   "cell_type": "code",
   "execution_count": null,
   "metadata": {},
   "outputs": [],
   "source": []
  },
  {
   "cell_type": "markdown",
   "metadata": {},
   "source": [
    "<b>3. Try selecting and plotting only the data for Australia, China and United States.</b><br>\n",
    "o Can you see a relationship now? If so, what relationship is there?"
   ]
  },
  {
   "cell_type": "code",
   "execution_count": 77,
   "metadata": {},
   "outputs": [],
   "source": [
    "df_pic_auchus = df_pop_inc_co2[df_pop_inc_co2['Country'].isin(['Australia', 'China','United States'])]"
   ]
  },
  {
   "cell_type": "code",
   "execution_count": 78,
   "metadata": {},
   "outputs": [
    {
     "data": {
      "text/html": [
       "<div>\n",
       "<style scoped>\n",
       "    .dataframe tbody tr th:only-of-type {\n",
       "        vertical-align: middle;\n",
       "    }\n",
       "\n",
       "    .dataframe tbody tr th {\n",
       "        vertical-align: top;\n",
       "    }\n",
       "\n",
       "    .dataframe thead th {\n",
       "        text-align: right;\n",
       "    }\n",
       "</style>\n",
       "<table border=\"1\" class=\"dataframe\">\n",
       "  <thead>\n",
       "    <tr style=\"text-align: right;\">\n",
       "      <th></th>\n",
       "      <th>Year</th>\n",
       "      <th>Country</th>\n",
       "      <th>Population</th>\n",
       "      <th>Income</th>\n",
       "      <th>CO2</th>\n",
       "    </tr>\n",
       "  </thead>\n",
       "  <tbody>\n",
       "    <tr>\n",
       "      <th>40948</th>\n",
       "      <td>2014</td>\n",
       "      <td>United States</td>\n",
       "      <td>318000000</td>\n",
       "      <td>51800.0</td>\n",
       "      <td>16.5</td>\n",
       "    </tr>\n",
       "    <tr>\n",
       "      <th>40949</th>\n",
       "      <td>2015</td>\n",
       "      <td>United States</td>\n",
       "      <td>320000000</td>\n",
       "      <td>52800.0</td>\n",
       "      <td>NaN</td>\n",
       "    </tr>\n",
       "    <tr>\n",
       "      <th>40950</th>\n",
       "      <td>2016</td>\n",
       "      <td>United States</td>\n",
       "      <td>322000000</td>\n",
       "      <td>53300.0</td>\n",
       "      <td>NaN</td>\n",
       "    </tr>\n",
       "    <tr>\n",
       "      <th>40951</th>\n",
       "      <td>2017</td>\n",
       "      <td>United States</td>\n",
       "      <td>324000000</td>\n",
       "      <td>54200.0</td>\n",
       "      <td>NaN</td>\n",
       "    </tr>\n",
       "    <tr>\n",
       "      <th>40952</th>\n",
       "      <td>2018</td>\n",
       "      <td>United States</td>\n",
       "      <td>327000000</td>\n",
       "      <td>54900.0</td>\n",
       "      <td>NaN</td>\n",
       "    </tr>\n",
       "  </tbody>\n",
       "</table>\n",
       "</div>"
      ],
      "text/plain": [
       "       Year        Country  Population   Income   CO2\n",
       "40948  2014  United States   318000000  51800.0  16.5\n",
       "40949  2015  United States   320000000  52800.0   NaN\n",
       "40950  2016  United States   322000000  53300.0   NaN\n",
       "40951  2017  United States   324000000  54200.0   NaN\n",
       "40952  2018  United States   327000000  54900.0   NaN"
      ]
     },
     "execution_count": 78,
     "metadata": {},
     "output_type": "execute_result"
    }
   ],
   "source": [
    "df_pic_auchus.tail()"
   ]
  },
  {
   "cell_type": "code",
   "execution_count": 79,
   "metadata": {},
   "outputs": [],
   "source": [
    "# df_pic_auchus.groupby('Country').plot(kind='line',x='Population', y='CO2')"
   ]
  },
  {
   "cell_type": "code",
   "execution_count": 80,
   "metadata": {},
   "outputs": [
    {
     "data": {
      "text/plain": [
       "Country\n",
       "Australia        AxesSubplot(0.125,0.125;0.775x0.755)\n",
       "China            AxesSubplot(0.125,0.125;0.775x0.755)\n",
       "United States    AxesSubplot(0.125,0.125;0.775x0.755)\n",
       "dtype: object"
      ]
     },
     "execution_count": 80,
     "metadata": {},
     "output_type": "execute_result"
    },
    {
     "data": {
      "image/png": "[encoded data removed]",
      "text/plain": [
       "<Figure size 432x288 with 1 Axes>"
      ]
     },
     "metadata": {},
     "output_type": "display_data"
    },
    {
     "data": {
      "image/png": "[encoded data removed]",
      "text/plain": [
       "<Figure size 432x288 with 1 Axes>"
      ]
     },
     "metadata": {},
     "output_type": "display_data"
    },
    {
     "data": {
      "image/png": "[encoded data removed]",
      "text/plain": [
       "<Figure size 432x288 with 1 Axes>"
      ]
     },
     "metadata": {},
     "output_type": "display_data"
    }
   ],
   "source": [
    "#fig, ax = plt.subplots(figsize=(8,6))\n",
    "# bp = df_pic_auchus.groupby('Country').plot(kind='kde', y='CO2', ax=ax)\n",
    "df_pic_auchus.groupby('Country').plot(kind='line',x='Population', y='CO2')#, ax=ax)\n",
    "# fig, ax = plt.subplots(figsize=(15,7))\n",
    "# df_pic_auchus.groupby('Country').count().plot(ax=ax)"
   ]
  },
  {
   "cell_type": "code",
   "execution_count": 81,
   "metadata": {},
   "outputs": [
    {
     "data": {
      "text/html": [
       "<div>\n",
       "<style scoped>\n",
       "    .dataframe tbody tr th:only-of-type {\n",
       "        vertical-align: middle;\n",
       "    }\n",
       "\n",
       "    .dataframe tbody tr th {\n",
       "        vertical-align: top;\n",
       "    }\n",
       "\n",
       "    .dataframe thead th {\n",
       "        text-align: right;\n",
       "    }\n",
       "</style>\n",
       "<table border=\"1\" class=\"dataframe\">\n",
       "  <thead>\n",
       "    <tr style=\"text-align: right;\">\n",
       "      <th></th>\n",
       "      <th>Year</th>\n",
       "      <th>Country</th>\n",
       "      <th>Population</th>\n",
       "      <th>Income</th>\n",
       "      <th>CO2</th>\n",
       "    </tr>\n",
       "  </thead>\n",
       "  <tbody>\n",
       "    <tr>\n",
       "      <th>1752</th>\n",
       "      <td>1800</td>\n",
       "      <td>Australia</td>\n",
       "      <td>351000</td>\n",
       "      <td>814.0</td>\n",
       "      <td>NaN</td>\n",
       "    </tr>\n",
       "    <tr>\n",
       "      <th>1753</th>\n",
       "      <td>1801</td>\n",
       "      <td>Australia</td>\n",
       "      <td>350000</td>\n",
       "      <td>816.0</td>\n",
       "      <td>NaN</td>\n",
       "    </tr>\n",
       "    <tr>\n",
       "      <th>1754</th>\n",
       "      <td>1802</td>\n",
       "      <td>Australia</td>\n",
       "      <td>349000</td>\n",
       "      <td>818.0</td>\n",
       "      <td>NaN</td>\n",
       "    </tr>\n",
       "    <tr>\n",
       "      <th>1755</th>\n",
       "      <td>1803</td>\n",
       "      <td>Australia</td>\n",
       "      <td>348000</td>\n",
       "      <td>820.0</td>\n",
       "      <td>NaN</td>\n",
       "    </tr>\n",
       "    <tr>\n",
       "      <th>1756</th>\n",
       "      <td>1804</td>\n",
       "      <td>Australia</td>\n",
       "      <td>348000</td>\n",
       "      <td>822.0</td>\n",
       "      <td>NaN</td>\n",
       "    </tr>\n",
       "  </tbody>\n",
       "</table>\n",
       "</div>"
      ],
      "text/plain": [
       "      Year    Country  Population  Income  CO2\n",
       "1752  1800  Australia      351000   814.0  NaN\n",
       "1753  1801  Australia      350000   816.0  NaN\n",
       "1754  1802  Australia      349000   818.0  NaN\n",
       "1755  1803  Australia      348000   820.0  NaN\n",
       "1756  1804  Australia      348000   822.0  NaN"
      ]
     },
     "execution_count": 81,
     "metadata": {},
     "output_type": "execute_result"
    }
   ],
   "source": [
    "df_pic_auchus.head()"
   ]
  },
  {
   "cell_type": "markdown",
   "metadata": {},
   "source": [
    "## A5. Visualising the Relationship over Time"
   ]
  },
  {
   "cell_type": "markdown",
   "metadata": {},
   "source": [
    "<b>1. Use Python to build a motion chart comparing the CO2 emissions, the income, and the\n",
    "population of each country over time. The motion chart should show the CO2 emissions on\n",
    "the x-axis, the income on the y-axis, and the bubble size should depend on the population.</b>"
   ]
  },
  {
   "cell_type": "code",
   "execution_count": 82,
   "metadata": {},
   "outputs": [
    {
     "name": "stdout",
     "output_type": "stream",
     "text": [
      "Requirement already satisfied: motionchart in c:\\users\\admin\\anaconda3\\lib\\site-packages (0.3)\n"
     ]
    },
    {
     "name": "stderr",
     "output_type": "stream",
     "text": [
      "distributed 1.21.8 requires msgpack, which is not installed.\n",
      "You are using pip version 10.0.1, however version 18.1 is available.\n",
      "You should consider upgrading via the 'python -m pip install --upgrade pip' command.\n"
     ]
    }
   ],
   "source": [
    "!pip install motionchart"
   ]
  },
  {
   "cell_type": "code",
   "execution_count": 83,
   "metadata": {},
   "outputs": [
    {
     "name": "stdout",
     "output_type": "stream",
     "text": [
      "Requirement already satisfied: pyperclip in c:\\users\\admin\\anaconda3\\lib\\site-packages (1.7.0)\n"
     ]
    },
    {
     "name": "stderr",
     "output_type": "stream",
     "text": [
      "distributed 1.21.8 requires msgpack, which is not installed.\n",
      "You are using pip version 10.0.1, however version 18.1 is available.\n",
      "You should consider upgrading via the 'python -m pip install --upgrade pip' command.\n"
     ]
    }
   ],
   "source": [
    "!pip install pyperclip"
   ]
  },
  {
   "cell_type": "code",
   "execution_count": 84,
   "metadata": {},
   "outputs": [],
   "source": [
    "from motionchart.motionchart import MotionChart"
   ]
  },
  {
   "cell_type": "markdown",
   "metadata": {},
   "source": [
    "In the following, we pass our data to MotionChart to make them animate and show thier changes.<br>\n",
    "The following html code block is just to make sure that you will see the entire motion chart nicely in the output cell."
   ]
  },
  {
   "cell_type": "code",
   "execution_count": 85,
   "metadata": {},
   "outputs": [
    {
     "data": {
      "text/html": [
       "<style>\n",
       ".output_wrapper, .output {\n",
       "    height:auto !important;\n",
       "    max-height:1000px;  /* your desired max-height here */\n",
       "}\n",
       ".output_scroll {\n",
       "    box-shadow:none !important;\n",
       "    webkit-box-shadow:none !important;\n",
       "}\n",
       "</style>"
      ],
      "text/plain": [
       "<IPython.core.display.HTML object>"
      ]
     },
     "metadata": {},
     "output_type": "display_data"
    }
   ],
   "source": [
    "%%html\n",
    "<style>\n",
    ".output_wrapper, .output {\n",
    "    height:auto !important;\n",
    "    max-height:1000px;  /* your desired max-height here */\n",
    "}\n",
    ".output_scroll {\n",
    "    box-shadow:none !important;\n",
    "    webkit-box-shadow:none !important;\n",
    "}\n",
    "</style>"
   ]
  },
  {
   "cell_type": "code",
   "execution_count": 86,
   "metadata": {},
   "outputs": [
    {
     "data": {
      "text/html": [
       "\n",
       "        <iframe\n",
       "            width=\"900\"\n",
       "            height=\"700\"\n",
       "            src=\"mc_temp.html\"\n",
       "            frameborder=\"0\"\n",
       "            allowfullscreen\n",
       "        ></iframe>\n",
       "        "
      ],
      "text/plain": [
       "<IPython.lib.display.IFrame at 0x18b0ac0e588>"
      ]
     },
     "metadata": {},
     "output_type": "display_data"
    }
   ],
   "source": [
    "mchart1 = MotionChart(df_pop_inc_co2, key='Year', x='CO2', y='Income', xscale='linear', yscale='linear', size='Population', color='Country', category='Country')\n",
    "\n",
    "mchart1.to_notebook()"
   ]
  },
  {
   "cell_type": "markdown",
   "metadata": {},
   "source": [
    "<b>2. Run the visualisation from start to finish. Briefly describe any pattern\n",
    "on the data you observed.</b>"
   ]
  },
  {
   "cell_type": "markdown",
   "metadata": {},
   "source": [
    "o Is there generally a relationship between the amount of income and CO2 emissions in all\n",
    "countries during the whole period of time? What kind of relationship? Explain your\n",
    "answer."
   ]
  },
  {
   "cell_type": "markdown",
   "metadata": {},
   "source": [
    "- Linear relationship. With income co2 is increasing for most countries especially in middle-eat, europe, americas and asia"
   ]
  },
  {
   "cell_type": "markdown",
   "metadata": {},
   "source": [
    "o Is the CO2 emissions generally increasing or decreasing during the whole period of time?\n",
    "How about income? Explain your answer."
   ]
  },
  {
   "cell_type": "markdown",
   "metadata": {},
   "source": [
    "- The co2 emission is generally increasing during the whole period of time. The income is also increasing in general during the whole period of time. From the motion chart, we can observe this increase in income and co2 emission and it has generally increased compared to previous years."
   ]
  },
  {
   "cell_type": "markdown",
   "metadata": {},
   "source": [
    "o Which country generally have the lowest CO2 emissions?"
   ]
  },
  {
   "cell_type": "code",
   "execution_count": 87,
   "metadata": {},
   "outputs": [
    {
     "data": {
      "text/html": [
       "<div>\n",
       "<style scoped>\n",
       "    .dataframe tbody tr th:only-of-type {\n",
       "        vertical-align: middle;\n",
       "    }\n",
       "\n",
       "    .dataframe tbody tr th {\n",
       "        vertical-align: top;\n",
       "    }\n",
       "\n",
       "    .dataframe thead th {\n",
       "        text-align: right;\n",
       "    }\n",
       "</style>\n",
       "<table border=\"1\" class=\"dataframe\">\n",
       "  <thead>\n",
       "    <tr style=\"text-align: right;\">\n",
       "      <th></th>\n",
       "      <th>Year</th>\n",
       "      <th>Country</th>\n",
       "      <th>Population</th>\n",
       "      <th>Income</th>\n",
       "      <th>CO2</th>\n",
       "    </tr>\n",
       "  </thead>\n",
       "  <tbody>\n",
       "    <tr>\n",
       "      <th>0</th>\n",
       "      <td>1800</td>\n",
       "      <td>Afghanistan</td>\n",
       "      <td>3280000</td>\n",
       "      <td>603.0</td>\n",
       "      <td>NaN</td>\n",
       "    </tr>\n",
       "    <tr>\n",
       "      <th>1</th>\n",
       "      <td>1801</td>\n",
       "      <td>Afghanistan</td>\n",
       "      <td>3280000</td>\n",
       "      <td>603.0</td>\n",
       "      <td>NaN</td>\n",
       "    </tr>\n",
       "    <tr>\n",
       "      <th>2</th>\n",
       "      <td>1802</td>\n",
       "      <td>Afghanistan</td>\n",
       "      <td>3280000</td>\n",
       "      <td>603.0</td>\n",
       "      <td>NaN</td>\n",
       "    </tr>\n",
       "    <tr>\n",
       "      <th>3</th>\n",
       "      <td>1803</td>\n",
       "      <td>Afghanistan</td>\n",
       "      <td>3280000</td>\n",
       "      <td>603.0</td>\n",
       "      <td>NaN</td>\n",
       "    </tr>\n",
       "    <tr>\n",
       "      <th>4</th>\n",
       "      <td>1804</td>\n",
       "      <td>Afghanistan</td>\n",
       "      <td>3280000</td>\n",
       "      <td>603.0</td>\n",
       "      <td>NaN</td>\n",
       "    </tr>\n",
       "  </tbody>\n",
       "</table>\n",
       "</div>"
      ],
      "text/plain": [
       "   Year      Country  Population  Income  CO2\n",
       "0  1800  Afghanistan     3280000   603.0  NaN\n",
       "1  1801  Afghanistan     3280000   603.0  NaN\n",
       "2  1802  Afghanistan     3280000   603.0  NaN\n",
       "3  1803  Afghanistan     3280000   603.0  NaN\n",
       "4  1804  Afghanistan     3280000   603.0  NaN"
      ]
     },
     "execution_count": 87,
     "metadata": {},
     "output_type": "execute_result"
    }
   ],
   "source": [
    "df_pop_inc_co2.head() "
   ]
  },
  {
   "cell_type": "code",
   "execution_count": 88,
   "metadata": {},
   "outputs": [],
   "source": [
    "df_pop_inc_co2min = df_pop_inc_co2[(df_pop_inc_co2['CO2']<=2)] #df_pop_inc_co2.groupby(['Country'])['CO2']"
   ]
  },
  {
   "cell_type": "code",
   "execution_count": 89,
   "metadata": {},
   "outputs": [
    {
     "data": {
      "text/html": [
       "\n",
       "        <iframe\n",
       "            width=\"900\"\n",
       "            height=\"700\"\n",
       "            src=\"mc_temp.html\"\n",
       "            frameborder=\"0\"\n",
       "            allowfullscreen\n",
       "        ></iframe>\n",
       "        "
      ],
      "text/plain": [
       "<IPython.lib.display.IFrame at 0x18b0ac0eb38>"
      ]
     },
     "metadata": {},
     "output_type": "display_data"
    }
   ],
   "source": [
    "mchart5 = MotionChart(df_pop_inc_co2min, key='Year', x='CO2', y='Income', xscale='linear', yscale='linear', size='Population', color='Country', category='Country')\n",
    "\n",
    "mchart5.to_notebook()"
   ]
  },
  {
   "cell_type": "code",
   "execution_count": 90,
   "metadata": {},
   "outputs": [],
   "source": [
    "tot_co2 = df_pop_inc_co2.groupby(['Country'])['CO2'] # s.sort_values(ascending=True)"
   ]
  },
  {
   "cell_type": "code",
   "execution_count": 91,
   "metadata": {},
   "outputs": [],
   "source": [
    "tot_co2 = tot_co2.sum()"
   ]
  },
  {
   "cell_type": "code",
   "execution_count": 92,
   "metadata": {},
   "outputs": [
    {
     "data": {
      "text/plain": [
       "Country\n",
       "Holy See                       0.00000\n",
       "Monaco                         0.00000\n",
       "San Marino                     0.00000\n",
       "South Sudan                    0.38300\n",
       "Burundi                        1.63010\n",
       "Chad                           1.84520\n",
       "Timor-Leste                    2.87100\n",
       "Mali                           2.91106\n",
       "Ethiopia                       3.09471\n",
       "Rwanda                         3.20960\n",
       "Central African Republic       3.70400\n",
       "Burkina Faso                   3.71153\n",
       "Eritrea                        3.91396\n",
       "Nepal                          4.05609\n",
       "Niger                          4.10635\n",
       "Malawi                         4.38490\n",
       "Somalia                        4.40080\n",
       "Uganda                         4.53730\n",
       "Madagascar                     6.83573\n",
       "Lao                            6.83700\n",
       "Cambodia                       7.20731\n",
       "Tanzania                       7.28530\n",
       "Congo, Dem. Rep.               7.61376\n",
       "Guinea-Bissau                  7.92424\n",
       "Comoros                        7.99930\n",
       "Haiti                          8.28030\n",
       "Afghanistan                    8.33161\n",
       "Sierra Leone                   9.27200\n",
       "Bangladesh                     9.36053\n",
       "Guinea                        10.54840\n",
       "                               ...    \n",
       "Sweden                       608.10400\n",
       "New Zealand                  621.11600\n",
       "Ukraine                      634.81262\n",
       "Norway                       641.22020\n",
       "South Africa                 656.52708\n",
       "Austria                      707.00900\n",
       "Bahamas                      708.18800\n",
       "Saudi Arabia                 724.18685\n",
       "France                       734.10450\n",
       "Turkmenistan                 742.31243\n",
       "Poland                       794.43620\n",
       "Russia                       817.17188\n",
       "Denmark                      824.37850\n",
       "Slovak Republic              848.53200\n",
       "Netherlands                  915.19900\n",
       "Kazakhstan                  1024.69053\n",
       "Australia                   1109.69200\n",
       "Czech Republic              1188.39880\n",
       "Germany                     1213.74140\n",
       "Trinidad and Tobago         1333.91590\n",
       "Belgium                     1389.39000\n",
       "Canada                      1449.52359\n",
       "Bahrain                     1631.47200\n",
       "Kuwait                      1670.03300\n",
       "United Arab Emirates        1675.50000\n",
       "United Kingdom              1729.54000\n",
       "Luxembourg                  1838.94250\n",
       "Brunei                      2020.40300\n",
       "United States               2061.09050\n",
       "Qatar                       3100.97000\n",
       "Name: CO2, Length: 195, dtype: float64"
      ]
     },
     "execution_count": 92,
     "metadata": {},
     "output_type": "execute_result"
    }
   ],
   "source": [
    "tot_co2.sort_values(ascending=True)"
   ]
  },
  {
   "cell_type": "markdown",
   "metadata": {},
   "source": [
    "South Sudan                    0.38300"
   ]
  },
  {
   "cell_type": "markdown",
   "metadata": {},
   "source": [
    "o Which country has the highest CO2 emissions during the whole period of time?"
   ]
  },
  {
   "cell_type": "markdown",
   "metadata": {},
   "source": [
    "Qatar                       3100.97000"
   ]
  },
  {
   "cell_type": "code",
   "execution_count": null,
   "metadata": {},
   "outputs": [],
   "source": []
  },
  {
   "cell_type": "markdown",
   "metadata": {},
   "source": [
    "<b>3. Some countries’ data only start in recent years, e.g. the data for Timor-Leste only starts in year 2002. Discuss how this might affect your observations.</b>"
   ]
  },
  {
   "cell_type": "markdown",
   "metadata": {},
   "source": [
    "Missing or incomplete data can definately affect the analysis and observations. In above case however, even though data for countries like Timor-Leste only starts in year 2002 it does not affect the overall analysis or observation. Timor-Leste's total contribution towards world CO2 emission is 2.87100, which is on the lower end of the scale. And even though Timor-Leste's data is available from year 2002 onwards we can still do individual observation on that country. If the total contribution of countries like Timor-Leste was at the higher end then it would have definately affected our observation."
   ]
  },
  {
   "cell_type": "code",
   "execution_count": null,
   "metadata": {},
   "outputs": [],
   "source": []
  },
  {
   "cell_type": "markdown",
   "metadata": {},
   "source": [
    "<b>4. Now filter the data, use data from year 1990 to 2014 and choose only the countries Australia, China and United States. Run the motion chart again and discuss your finding.</b>"
   ]
  },
  {
   "cell_type": "code",
   "execution_count": 93,
   "metadata": {},
   "outputs": [
    {
     "data": {
      "text/html": [
       "<div>\n",
       "<style scoped>\n",
       "    .dataframe tbody tr th:only-of-type {\n",
       "        vertical-align: middle;\n",
       "    }\n",
       "\n",
       "    .dataframe tbody tr th {\n",
       "        vertical-align: top;\n",
       "    }\n",
       "\n",
       "    .dataframe thead th {\n",
       "        text-align: right;\n",
       "    }\n",
       "</style>\n",
       "<table border=\"1\" class=\"dataframe\">\n",
       "  <thead>\n",
       "    <tr style=\"text-align: right;\">\n",
       "      <th></th>\n",
       "      <th>Year</th>\n",
       "      <th>Country</th>\n",
       "      <th>Population</th>\n",
       "      <th>Income</th>\n",
       "      <th>CO2</th>\n",
       "    </tr>\n",
       "  </thead>\n",
       "  <tbody>\n",
       "    <tr>\n",
       "      <th>40948</th>\n",
       "      <td>2014</td>\n",
       "      <td>United States</td>\n",
       "      <td>318000000</td>\n",
       "      <td>51800.0</td>\n",
       "      <td>16.5</td>\n",
       "    </tr>\n",
       "    <tr>\n",
       "      <th>40949</th>\n",
       "      <td>2015</td>\n",
       "      <td>United States</td>\n",
       "      <td>320000000</td>\n",
       "      <td>52800.0</td>\n",
       "      <td>NaN</td>\n",
       "    </tr>\n",
       "    <tr>\n",
       "      <th>40950</th>\n",
       "      <td>2016</td>\n",
       "      <td>United States</td>\n",
       "      <td>322000000</td>\n",
       "      <td>53300.0</td>\n",
       "      <td>NaN</td>\n",
       "    </tr>\n",
       "    <tr>\n",
       "      <th>40951</th>\n",
       "      <td>2017</td>\n",
       "      <td>United States</td>\n",
       "      <td>324000000</td>\n",
       "      <td>54200.0</td>\n",
       "      <td>NaN</td>\n",
       "    </tr>\n",
       "    <tr>\n",
       "      <th>40952</th>\n",
       "      <td>2018</td>\n",
       "      <td>United States</td>\n",
       "      <td>327000000</td>\n",
       "      <td>54900.0</td>\n",
       "      <td>NaN</td>\n",
       "    </tr>\n",
       "  </tbody>\n",
       "</table>\n",
       "</div>"
      ],
      "text/plain": [
       "       Year        Country  Population   Income   CO2\n",
       "40948  2014  United States   318000000  51800.0  16.5\n",
       "40949  2015  United States   320000000  52800.0   NaN\n",
       "40950  2016  United States   322000000  53300.0   NaN\n",
       "40951  2017  United States   324000000  54200.0   NaN\n",
       "40952  2018  United States   327000000  54900.0   NaN"
      ]
     },
     "execution_count": 93,
     "metadata": {},
     "output_type": "execute_result"
    }
   ],
   "source": [
    "df_pic_auchus.tail()"
   ]
  },
  {
   "cell_type": "code",
   "execution_count": 94,
   "metadata": {},
   "outputs": [],
   "source": [
    "auchus = df_pic_auchus[(df_pic_auchus['Year']>=1990) & (df_pic_auchus['Year']<=2014)]"
   ]
  },
  {
   "cell_type": "code",
   "execution_count": 95,
   "metadata": {},
   "outputs": [],
   "source": [
    "auchus = auchus[(auchus['Country']).isin(['Australia', 'China','United States'])]"
   ]
  },
  {
   "cell_type": "code",
   "execution_count": 96,
   "metadata": {},
   "outputs": [
    {
     "data": {
      "text/html": [
       "<div>\n",
       "<style scoped>\n",
       "    .dataframe tbody tr th:only-of-type {\n",
       "        vertical-align: middle;\n",
       "    }\n",
       "\n",
       "    .dataframe tbody tr th {\n",
       "        vertical-align: top;\n",
       "    }\n",
       "\n",
       "    .dataframe thead th {\n",
       "        text-align: right;\n",
       "    }\n",
       "</style>\n",
       "<table border=\"1\" class=\"dataframe\">\n",
       "  <thead>\n",
       "    <tr style=\"text-align: right;\">\n",
       "      <th></th>\n",
       "      <th>Year</th>\n",
       "      <th>Country</th>\n",
       "      <th>Population</th>\n",
       "      <th>Income</th>\n",
       "      <th>CO2</th>\n",
       "    </tr>\n",
       "  </thead>\n",
       "  <tbody>\n",
       "    <tr>\n",
       "      <th>1942</th>\n",
       "      <td>1990</td>\n",
       "      <td>Australia</td>\n",
       "      <td>17000000</td>\n",
       "      <td>28600.0</td>\n",
       "      <td>15.5</td>\n",
       "    </tr>\n",
       "    <tr>\n",
       "      <th>1943</th>\n",
       "      <td>1991</td>\n",
       "      <td>Australia</td>\n",
       "      <td>17300000</td>\n",
       "      <td>28100.0</td>\n",
       "      <td>15.1</td>\n",
       "    </tr>\n",
       "    <tr>\n",
       "      <th>1944</th>\n",
       "      <td>1992</td>\n",
       "      <td>Australia</td>\n",
       "      <td>17500000</td>\n",
       "      <td>27900.0</td>\n",
       "      <td>15.3</td>\n",
       "    </tr>\n",
       "    <tr>\n",
       "      <th>1945</th>\n",
       "      <td>1993</td>\n",
       "      <td>Australia</td>\n",
       "      <td>17700000</td>\n",
       "      <td>28700.0</td>\n",
       "      <td>15.7</td>\n",
       "    </tr>\n",
       "    <tr>\n",
       "      <th>1946</th>\n",
       "      <td>1994</td>\n",
       "      <td>Australia</td>\n",
       "      <td>17900000</td>\n",
       "      <td>29600.0</td>\n",
       "      <td>15.6</td>\n",
       "    </tr>\n",
       "  </tbody>\n",
       "</table>\n",
       "</div>"
      ],
      "text/plain": [
       "      Year    Country  Population   Income   CO2\n",
       "1942  1990  Australia    17000000  28600.0  15.5\n",
       "1943  1991  Australia    17300000  28100.0  15.1\n",
       "1944  1992  Australia    17500000  27900.0  15.3\n",
       "1945  1993  Australia    17700000  28700.0  15.7\n",
       "1946  1994  Australia    17900000  29600.0  15.6"
      ]
     },
     "execution_count": 96,
     "metadata": {},
     "output_type": "execute_result"
    }
   ],
   "source": [
    "auchus.head()"
   ]
  },
  {
   "cell_type": "code",
   "execution_count": 97,
   "metadata": {
    "scrolled": true
   },
   "outputs": [
    {
     "data": {
      "text/html": [
       "\n",
       "        <iframe\n",
       "            width=\"900\"\n",
       "            height=\"700\"\n",
       "            src=\"mc_temp.html\"\n",
       "            frameborder=\"0\"\n",
       "            allowfullscreen\n",
       "        ></iframe>\n",
       "        "
      ],
      "text/plain": [
       "<IPython.lib.display.IFrame at 0x18b0ac18588>"
      ]
     },
     "metadata": {},
     "output_type": "display_data"
    }
   ],
   "source": [
    "mchart2 = MotionChart(auchus, key='Year', x='CO2', y='Income', xscale='linear', yscale='linear', size='Population', color='Country', category='Country')\n",
    "\n",
    "mchart2.to_notebook()"
   ]
  },
  {
   "cell_type": "markdown",
   "metadata": {},
   "source": [
    "## Task B: Exploratory Analysis on Other Data"
   ]
  },
  {
   "cell_type": "markdown",
   "metadata": {},
   "source": [
    "### Life Expectancy\n",
    "\n",
    "<b>Description</b> - The average number of years a newborn child would live if current mortality patterns were to stay the same. Years 1800-2018"
   ]
  },
  {
   "cell_type": "markdown",
   "metadata": {},
   "source": [
    "https://www.gapminder.org/data/documentation/gd004/"
   ]
  },
  {
   "cell_type": "code",
   "execution_count": 98,
   "metadata": {},
   "outputs": [],
   "source": [
    "all_life = r'C:\\Users\\Admin\\Downloads\\life_expectancy_years.csv'"
   ]
  },
  {
   "cell_type": "code",
   "execution_count": 99,
   "metadata": {},
   "outputs": [],
   "source": [
    "life_exp = pd.read_csv(all_life)"
   ]
  },
  {
   "cell_type": "code",
   "execution_count": 100,
   "metadata": {},
   "outputs": [
    {
     "data": {
      "text/html": [
       "<div>\n",
       "<style scoped>\n",
       "    .dataframe tbody tr th:only-of-type {\n",
       "        vertical-align: middle;\n",
       "    }\n",
       "\n",
       "    .dataframe tbody tr th {\n",
       "        vertical-align: top;\n",
       "    }\n",
       "\n",
       "    .dataframe thead th {\n",
       "        text-align: right;\n",
       "    }\n",
       "</style>\n",
       "<table border=\"1\" class=\"dataframe\">\n",
       "  <thead>\n",
       "    <tr style=\"text-align: right;\">\n",
       "      <th></th>\n",
       "      <th>country</th>\n",
       "      <th>1800</th>\n",
       "      <th>1801</th>\n",
       "      <th>1802</th>\n",
       "      <th>1803</th>\n",
       "      <th>1804</th>\n",
       "      <th>1805</th>\n",
       "      <th>1806</th>\n",
       "      <th>1807</th>\n",
       "      <th>1808</th>\n",
       "      <th>...</th>\n",
       "      <th>2009</th>\n",
       "      <th>2010</th>\n",
       "      <th>2011</th>\n",
       "      <th>2012</th>\n",
       "      <th>2013</th>\n",
       "      <th>2014</th>\n",
       "      <th>2015</th>\n",
       "      <th>2016</th>\n",
       "      <th>2017</th>\n",
       "      <th>2018</th>\n",
       "    </tr>\n",
       "  </thead>\n",
       "  <tbody>\n",
       "    <tr>\n",
       "      <th>0</th>\n",
       "      <td>Afghanistan</td>\n",
       "      <td>28.2</td>\n",
       "      <td>28.2</td>\n",
       "      <td>28.2</td>\n",
       "      <td>28.2</td>\n",
       "      <td>28.2</td>\n",
       "      <td>28.2</td>\n",
       "      <td>28.1</td>\n",
       "      <td>28.1</td>\n",
       "      <td>28.1</td>\n",
       "      <td>...</td>\n",
       "      <td>55.7</td>\n",
       "      <td>56.2</td>\n",
       "      <td>56.7</td>\n",
       "      <td>57.2</td>\n",
       "      <td>57.7</td>\n",
       "      <td>57.8</td>\n",
       "      <td>57.9</td>\n",
       "      <td>58.0</td>\n",
       "      <td>58.4</td>\n",
       "      <td>58.7</td>\n",
       "    </tr>\n",
       "    <tr>\n",
       "      <th>1</th>\n",
       "      <td>Albania</td>\n",
       "      <td>35.4</td>\n",
       "      <td>35.4</td>\n",
       "      <td>35.4</td>\n",
       "      <td>35.4</td>\n",
       "      <td>35.4</td>\n",
       "      <td>35.4</td>\n",
       "      <td>35.4</td>\n",
       "      <td>35.4</td>\n",
       "      <td>35.4</td>\n",
       "      <td>...</td>\n",
       "      <td>75.9</td>\n",
       "      <td>76.3</td>\n",
       "      <td>76.7</td>\n",
       "      <td>77.0</td>\n",
       "      <td>77.2</td>\n",
       "      <td>77.4</td>\n",
       "      <td>77.6</td>\n",
       "      <td>77.7</td>\n",
       "      <td>77.9</td>\n",
       "      <td>78.0</td>\n",
       "    </tr>\n",
       "    <tr>\n",
       "      <th>2</th>\n",
       "      <td>Algeria</td>\n",
       "      <td>28.8</td>\n",
       "      <td>28.8</td>\n",
       "      <td>28.8</td>\n",
       "      <td>28.8</td>\n",
       "      <td>28.8</td>\n",
       "      <td>28.8</td>\n",
       "      <td>28.8</td>\n",
       "      <td>28.8</td>\n",
       "      <td>28.8</td>\n",
       "      <td>...</td>\n",
       "      <td>76.3</td>\n",
       "      <td>76.5</td>\n",
       "      <td>76.7</td>\n",
       "      <td>76.8</td>\n",
       "      <td>77.0</td>\n",
       "      <td>77.1</td>\n",
       "      <td>77.3</td>\n",
       "      <td>77.4</td>\n",
       "      <td>77.6</td>\n",
       "      <td>77.9</td>\n",
       "    </tr>\n",
       "    <tr>\n",
       "      <th>3</th>\n",
       "      <td>Andorra</td>\n",
       "      <td>NaN</td>\n",
       "      <td>NaN</td>\n",
       "      <td>NaN</td>\n",
       "      <td>NaN</td>\n",
       "      <td>NaN</td>\n",
       "      <td>NaN</td>\n",
       "      <td>NaN</td>\n",
       "      <td>NaN</td>\n",
       "      <td>NaN</td>\n",
       "      <td>...</td>\n",
       "      <td>82.7</td>\n",
       "      <td>82.7</td>\n",
       "      <td>82.6</td>\n",
       "      <td>82.6</td>\n",
       "      <td>82.6</td>\n",
       "      <td>82.6</td>\n",
       "      <td>82.5</td>\n",
       "      <td>82.5</td>\n",
       "      <td>NaN</td>\n",
       "      <td>NaN</td>\n",
       "    </tr>\n",
       "    <tr>\n",
       "      <th>4</th>\n",
       "      <td>Angola</td>\n",
       "      <td>27.0</td>\n",
       "      <td>27.0</td>\n",
       "      <td>27.0</td>\n",
       "      <td>27.0</td>\n",
       "      <td>27.0</td>\n",
       "      <td>27.0</td>\n",
       "      <td>27.0</td>\n",
       "      <td>27.0</td>\n",
       "      <td>27.0</td>\n",
       "      <td>...</td>\n",
       "      <td>59.3</td>\n",
       "      <td>60.1</td>\n",
       "      <td>60.9</td>\n",
       "      <td>61.7</td>\n",
       "      <td>62.5</td>\n",
       "      <td>63.3</td>\n",
       "      <td>64.0</td>\n",
       "      <td>64.7</td>\n",
       "      <td>64.9</td>\n",
       "      <td>65.2</td>\n",
       "    </tr>\n",
       "  </tbody>\n",
       "</table>\n",
       "<p>5 rows × 220 columns</p>\n",
       "</div>"
      ],
      "text/plain": [
       "       country  1800  1801  1802  1803  1804  1805  1806  1807  1808  ...   \\\n",
       "0  Afghanistan  28.2  28.2  28.2  28.2  28.2  28.2  28.1  28.1  28.1  ...    \n",
       "1      Albania  35.4  35.4  35.4  35.4  35.4  35.4  35.4  35.4  35.4  ...    \n",
       "2      Algeria  28.8  28.8  28.8  28.8  28.8  28.8  28.8  28.8  28.8  ...    \n",
       "3      Andorra   NaN   NaN   NaN   NaN   NaN   NaN   NaN   NaN   NaN  ...    \n",
       "4       Angola  27.0  27.0  27.0  27.0  27.0  27.0  27.0  27.0  27.0  ...    \n",
       "\n",
       "   2009  2010  2011  2012  2013  2014  2015  2016  2017  2018  \n",
       "0  55.7  56.2  56.7  57.2  57.7  57.8  57.9  58.0  58.4  58.7  \n",
       "1  75.9  76.3  76.7  77.0  77.2  77.4  77.6  77.7  77.9  78.0  \n",
       "2  76.3  76.5  76.7  76.8  77.0  77.1  77.3  77.4  77.6  77.9  \n",
       "3  82.7  82.7  82.6  82.6  82.6  82.6  82.5  82.5   NaN   NaN  \n",
       "4  59.3  60.1  60.9  61.7  62.5  63.3  64.0  64.7  64.9  65.2  \n",
       "\n",
       "[5 rows x 220 columns]"
      ]
     },
     "execution_count": 100,
     "metadata": {},
     "output_type": "execute_result"
    }
   ],
   "source": [
    "life_exp.head()"
   ]
  },
  {
   "cell_type": "code",
   "execution_count": 101,
   "metadata": {},
   "outputs": [],
   "source": [
    "life_exp = life_exp.T"
   ]
  },
  {
   "cell_type": "code",
   "execution_count": 102,
   "metadata": {},
   "outputs": [
    {
     "data": {
      "text/html": [
       "<div>\n",
       "<style scoped>\n",
       "    .dataframe tbody tr th:only-of-type {\n",
       "        vertical-align: middle;\n",
       "    }\n",
       "\n",
       "    .dataframe tbody tr th {\n",
       "        vertical-align: top;\n",
       "    }\n",
       "\n",
       "    .dataframe thead th {\n",
       "        text-align: right;\n",
       "    }\n",
       "</style>\n",
       "<table border=\"1\" class=\"dataframe\">\n",
       "  <thead>\n",
       "    <tr style=\"text-align: right;\">\n",
       "      <th></th>\n",
       "      <th>0</th>\n",
       "      <th>1</th>\n",
       "      <th>2</th>\n",
       "      <th>3</th>\n",
       "      <th>4</th>\n",
       "      <th>5</th>\n",
       "      <th>6</th>\n",
       "      <th>7</th>\n",
       "      <th>8</th>\n",
       "      <th>9</th>\n",
       "      <th>...</th>\n",
       "      <th>177</th>\n",
       "      <th>178</th>\n",
       "      <th>179</th>\n",
       "      <th>180</th>\n",
       "      <th>181</th>\n",
       "      <th>182</th>\n",
       "      <th>183</th>\n",
       "      <th>184</th>\n",
       "      <th>185</th>\n",
       "      <th>186</th>\n",
       "    </tr>\n",
       "  </thead>\n",
       "  <tbody>\n",
       "    <tr>\n",
       "      <th>country</th>\n",
       "      <td>Afghanistan</td>\n",
       "      <td>Albania</td>\n",
       "      <td>Algeria</td>\n",
       "      <td>Andorra</td>\n",
       "      <td>Angola</td>\n",
       "      <td>Antigua and Barbuda</td>\n",
       "      <td>Argentina</td>\n",
       "      <td>Armenia</td>\n",
       "      <td>Australia</td>\n",
       "      <td>Austria</td>\n",
       "      <td>...</td>\n",
       "      <td>United Kingdom</td>\n",
       "      <td>United States</td>\n",
       "      <td>Uruguay</td>\n",
       "      <td>Uzbekistan</td>\n",
       "      <td>Vanuatu</td>\n",
       "      <td>Venezuela</td>\n",
       "      <td>Vietnam</td>\n",
       "      <td>Yemen</td>\n",
       "      <td>Zambia</td>\n",
       "      <td>Zimbabwe</td>\n",
       "    </tr>\n",
       "    <tr>\n",
       "      <th>1800</th>\n",
       "      <td>28.2</td>\n",
       "      <td>35.4</td>\n",
       "      <td>28.8</td>\n",
       "      <td>NaN</td>\n",
       "      <td>27</td>\n",
       "      <td>33.5</td>\n",
       "      <td>33.2</td>\n",
       "      <td>34</td>\n",
       "      <td>34</td>\n",
       "      <td>34.4</td>\n",
       "      <td>...</td>\n",
       "      <td>38.6</td>\n",
       "      <td>39.4</td>\n",
       "      <td>32.9</td>\n",
       "      <td>26.9</td>\n",
       "      <td>24.3</td>\n",
       "      <td>32.2</td>\n",
       "      <td>32</td>\n",
       "      <td>23.4</td>\n",
       "      <td>32.6</td>\n",
       "      <td>33.7</td>\n",
       "    </tr>\n",
       "    <tr>\n",
       "      <th>1801</th>\n",
       "      <td>28.2</td>\n",
       "      <td>35.4</td>\n",
       "      <td>28.8</td>\n",
       "      <td>NaN</td>\n",
       "      <td>27</td>\n",
       "      <td>33.5</td>\n",
       "      <td>33.2</td>\n",
       "      <td>34</td>\n",
       "      <td>34</td>\n",
       "      <td>34.4</td>\n",
       "      <td>...</td>\n",
       "      <td>37.4</td>\n",
       "      <td>39.4</td>\n",
       "      <td>32.9</td>\n",
       "      <td>26.9</td>\n",
       "      <td>24.3</td>\n",
       "      <td>32.2</td>\n",
       "      <td>32</td>\n",
       "      <td>23.4</td>\n",
       "      <td>32.6</td>\n",
       "      <td>33.7</td>\n",
       "    </tr>\n",
       "    <tr>\n",
       "      <th>1802</th>\n",
       "      <td>28.2</td>\n",
       "      <td>35.4</td>\n",
       "      <td>28.8</td>\n",
       "      <td>NaN</td>\n",
       "      <td>27</td>\n",
       "      <td>33.5</td>\n",
       "      <td>33.2</td>\n",
       "      <td>34</td>\n",
       "      <td>34</td>\n",
       "      <td>34.4</td>\n",
       "      <td>...</td>\n",
       "      <td>38.6</td>\n",
       "      <td>39.4</td>\n",
       "      <td>32.9</td>\n",
       "      <td>26.9</td>\n",
       "      <td>24.3</td>\n",
       "      <td>32.2</td>\n",
       "      <td>32</td>\n",
       "      <td>23.4</td>\n",
       "      <td>32.6</td>\n",
       "      <td>33.7</td>\n",
       "    </tr>\n",
       "    <tr>\n",
       "      <th>1803</th>\n",
       "      <td>28.2</td>\n",
       "      <td>35.4</td>\n",
       "      <td>28.8</td>\n",
       "      <td>NaN</td>\n",
       "      <td>27</td>\n",
       "      <td>33.5</td>\n",
       "      <td>33.2</td>\n",
       "      <td>34</td>\n",
       "      <td>34</td>\n",
       "      <td>34.4</td>\n",
       "      <td>...</td>\n",
       "      <td>37.3</td>\n",
       "      <td>39.4</td>\n",
       "      <td>32.9</td>\n",
       "      <td>26.9</td>\n",
       "      <td>24.3</td>\n",
       "      <td>32.2</td>\n",
       "      <td>32</td>\n",
       "      <td>23.4</td>\n",
       "      <td>32.6</td>\n",
       "      <td>33.7</td>\n",
       "    </tr>\n",
       "  </tbody>\n",
       "</table>\n",
       "<p>5 rows × 187 columns</p>\n",
       "</div>"
      ],
      "text/plain": [
       "                 0        1        2        3       4                    5    \\\n",
       "country  Afghanistan  Albania  Algeria  Andorra  Angola  Antigua and Barbuda   \n",
       "1800            28.2     35.4     28.8      NaN      27                 33.5   \n",
       "1801            28.2     35.4     28.8      NaN      27                 33.5   \n",
       "1802            28.2     35.4     28.8      NaN      27                 33.5   \n",
       "1803            28.2     35.4     28.8      NaN      27                 33.5   \n",
       "\n",
       "               6        7          8        9      ...                177  \\\n",
       "country  Argentina  Armenia  Australia  Austria    ...     United Kingdom   \n",
       "1800          33.2       34         34     34.4    ...               38.6   \n",
       "1801          33.2       34         34     34.4    ...               37.4   \n",
       "1802          33.2       34         34     34.4    ...               38.6   \n",
       "1803          33.2       34         34     34.4    ...               37.3   \n",
       "\n",
       "                   178      179         180      181        182      183  \\\n",
       "country  United States  Uruguay  Uzbekistan  Vanuatu  Venezuela  Vietnam   \n",
       "1800              39.4     32.9        26.9     24.3       32.2       32   \n",
       "1801              39.4     32.9        26.9     24.3       32.2       32   \n",
       "1802              39.4     32.9        26.9     24.3       32.2       32   \n",
       "1803              39.4     32.9        26.9     24.3       32.2       32   \n",
       "\n",
       "           184     185       186  \n",
       "country  Yemen  Zambia  Zimbabwe  \n",
       "1800      23.4    32.6      33.7  \n",
       "1801      23.4    32.6      33.7  \n",
       "1802      23.4    32.6      33.7  \n",
       "1803      23.4    32.6      33.7  \n",
       "\n",
       "[5 rows x 187 columns]"
      ]
     },
     "execution_count": 102,
     "metadata": {},
     "output_type": "execute_result"
    }
   ],
   "source": [
    "life_exp.head()"
   ]
  },
  {
   "cell_type": "code",
   "execution_count": 103,
   "metadata": {},
   "outputs": [
    {
     "data": {
      "text/html": [
       "<div>\n",
       "<style scoped>\n",
       "    .dataframe tbody tr th:only-of-type {\n",
       "        vertical-align: middle;\n",
       "    }\n",
       "\n",
       "    .dataframe tbody tr th {\n",
       "        vertical-align: top;\n",
       "    }\n",
       "\n",
       "    .dataframe thead th {\n",
       "        text-align: right;\n",
       "    }\n",
       "</style>\n",
       "<table border=\"1\" class=\"dataframe\">\n",
       "  <thead>\n",
       "    <tr style=\"text-align: right;\">\n",
       "      <th>country</th>\n",
       "      <th>Year</th>\n",
       "      <th>Afghanistan</th>\n",
       "      <th>Albania</th>\n",
       "      <th>Algeria</th>\n",
       "      <th>Andorra</th>\n",
       "      <th>Angola</th>\n",
       "      <th>Antigua and Barbuda</th>\n",
       "      <th>Argentina</th>\n",
       "      <th>Armenia</th>\n",
       "      <th>Australia</th>\n",
       "      <th>...</th>\n",
       "      <th>United Kingdom</th>\n",
       "      <th>United States</th>\n",
       "      <th>Uruguay</th>\n",
       "      <th>Uzbekistan</th>\n",
       "      <th>Vanuatu</th>\n",
       "      <th>Venezuela</th>\n",
       "      <th>Vietnam</th>\n",
       "      <th>Yemen</th>\n",
       "      <th>Zambia</th>\n",
       "      <th>Zimbabwe</th>\n",
       "    </tr>\n",
       "  </thead>\n",
       "  <tbody>\n",
       "    <tr>\n",
       "      <th>1</th>\n",
       "      <td>1800</td>\n",
       "      <td>28.2</td>\n",
       "      <td>35.4</td>\n",
       "      <td>28.8</td>\n",
       "      <td>NaN</td>\n",
       "      <td>27</td>\n",
       "      <td>33.5</td>\n",
       "      <td>33.2</td>\n",
       "      <td>34</td>\n",
       "      <td>34</td>\n",
       "      <td>...</td>\n",
       "      <td>38.6</td>\n",
       "      <td>39.4</td>\n",
       "      <td>32.9</td>\n",
       "      <td>26.9</td>\n",
       "      <td>24.3</td>\n",
       "      <td>32.2</td>\n",
       "      <td>32</td>\n",
       "      <td>23.4</td>\n",
       "      <td>32.6</td>\n",
       "      <td>33.7</td>\n",
       "    </tr>\n",
       "    <tr>\n",
       "      <th>2</th>\n",
       "      <td>1801</td>\n",
       "      <td>28.2</td>\n",
       "      <td>35.4</td>\n",
       "      <td>28.8</td>\n",
       "      <td>NaN</td>\n",
       "      <td>27</td>\n",
       "      <td>33.5</td>\n",
       "      <td>33.2</td>\n",
       "      <td>34</td>\n",
       "      <td>34</td>\n",
       "      <td>...</td>\n",
       "      <td>37.4</td>\n",
       "      <td>39.4</td>\n",
       "      <td>32.9</td>\n",
       "      <td>26.9</td>\n",
       "      <td>24.3</td>\n",
       "      <td>32.2</td>\n",
       "      <td>32</td>\n",
       "      <td>23.4</td>\n",
       "      <td>32.6</td>\n",
       "      <td>33.7</td>\n",
       "    </tr>\n",
       "    <tr>\n",
       "      <th>3</th>\n",
       "      <td>1802</td>\n",
       "      <td>28.2</td>\n",
       "      <td>35.4</td>\n",
       "      <td>28.8</td>\n",
       "      <td>NaN</td>\n",
       "      <td>27</td>\n",
       "      <td>33.5</td>\n",
       "      <td>33.2</td>\n",
       "      <td>34</td>\n",
       "      <td>34</td>\n",
       "      <td>...</td>\n",
       "      <td>38.6</td>\n",
       "      <td>39.4</td>\n",
       "      <td>32.9</td>\n",
       "      <td>26.9</td>\n",
       "      <td>24.3</td>\n",
       "      <td>32.2</td>\n",
       "      <td>32</td>\n",
       "      <td>23.4</td>\n",
       "      <td>32.6</td>\n",
       "      <td>33.7</td>\n",
       "    </tr>\n",
       "    <tr>\n",
       "      <th>4</th>\n",
       "      <td>1803</td>\n",
       "      <td>28.2</td>\n",
       "      <td>35.4</td>\n",
       "      <td>28.8</td>\n",
       "      <td>NaN</td>\n",
       "      <td>27</td>\n",
       "      <td>33.5</td>\n",
       "      <td>33.2</td>\n",
       "      <td>34</td>\n",
       "      <td>34</td>\n",
       "      <td>...</td>\n",
       "      <td>37.3</td>\n",
       "      <td>39.4</td>\n",
       "      <td>32.9</td>\n",
       "      <td>26.9</td>\n",
       "      <td>24.3</td>\n",
       "      <td>32.2</td>\n",
       "      <td>32</td>\n",
       "      <td>23.4</td>\n",
       "      <td>32.6</td>\n",
       "      <td>33.7</td>\n",
       "    </tr>\n",
       "    <tr>\n",
       "      <th>5</th>\n",
       "      <td>1804</td>\n",
       "      <td>28.2</td>\n",
       "      <td>35.4</td>\n",
       "      <td>28.8</td>\n",
       "      <td>NaN</td>\n",
       "      <td>27</td>\n",
       "      <td>33.5</td>\n",
       "      <td>33.2</td>\n",
       "      <td>34</td>\n",
       "      <td>34</td>\n",
       "      <td>...</td>\n",
       "      <td>41.4</td>\n",
       "      <td>39.4</td>\n",
       "      <td>32.9</td>\n",
       "      <td>26.9</td>\n",
       "      <td>24.3</td>\n",
       "      <td>32.2</td>\n",
       "      <td>32</td>\n",
       "      <td>23.4</td>\n",
       "      <td>32.6</td>\n",
       "      <td>33.7</td>\n",
       "    </tr>\n",
       "  </tbody>\n",
       "</table>\n",
       "<p>5 rows × 188 columns</p>\n",
       "</div>"
      ],
      "text/plain": [
       "country  Year Afghanistan Albania Algeria Andorra Angola Antigua and Barbuda  \\\n",
       "1        1800        28.2    35.4    28.8     NaN     27                33.5   \n",
       "2        1801        28.2    35.4    28.8     NaN     27                33.5   \n",
       "3        1802        28.2    35.4    28.8     NaN     27                33.5   \n",
       "4        1803        28.2    35.4    28.8     NaN     27                33.5   \n",
       "5        1804        28.2    35.4    28.8     NaN     27                33.5   \n",
       "\n",
       "country Argentina Armenia Australia   ...    United Kingdom United States  \\\n",
       "1            33.2      34        34   ...              38.6          39.4   \n",
       "2            33.2      34        34   ...              37.4          39.4   \n",
       "3            33.2      34        34   ...              38.6          39.4   \n",
       "4            33.2      34        34   ...              37.3          39.4   \n",
       "5            33.2      34        34   ...              41.4          39.4   \n",
       "\n",
       "country Uruguay Uzbekistan Vanuatu Venezuela Vietnam Yemen Zambia Zimbabwe  \n",
       "1          32.9       26.9    24.3      32.2      32  23.4   32.6     33.7  \n",
       "2          32.9       26.9    24.3      32.2      32  23.4   32.6     33.7  \n",
       "3          32.9       26.9    24.3      32.2      32  23.4   32.6     33.7  \n",
       "4          32.9       26.9    24.3      32.2      32  23.4   32.6     33.7  \n",
       "5          32.9       26.9    24.3      32.2      32  23.4   32.6     33.7  \n",
       "\n",
       "[5 rows x 188 columns]"
      ]
     },
     "execution_count": 103,
     "metadata": {},
     "output_type": "execute_result"
    }
   ],
   "source": [
    "life_exp.columns = life_exp.iloc[0]\n",
    "life_exp = life_exp.reset_index()\n",
    "life_exp = life_exp.drop(life_exp.index[0])\n",
    "life_exp.rename(columns={'index':'Year'}, inplace=True)\n",
    "life_exp.head()"
   ]
  },
  {
   "cell_type": "code",
   "execution_count": 104,
   "metadata": {},
   "outputs": [],
   "source": [
    "# 1. check life expentancy against population - fit linear reg\n",
    "# 2. check life exp against income - fit linear reg\n",
    "# 3. predict future values - done\n",
    "# 4. check if more men means more income X\n",
    "# 5. check if more life exp means more population - also do this in motion chart X\n",
    "# 6. which country has min max life exp\n",
    "# 7. check if life exp has increased over years - done\n",
    "# 8. motion chart"
   ]
  },
  {
   "cell_type": "markdown",
   "metadata": {},
   "source": [
    "<b>1. In Python plot the life expectancy in Australia over time.<br></b>\n",
    "o Are the life expectancy values increasing or decreasing over time?"
   ]
  },
  {
   "cell_type": "code",
   "execution_count": 105,
   "metadata": {},
   "outputs": [
    {
     "data": {
      "image/png": "[encoded data removed]",
      "text/plain": [
       "<Figure size 1080x720 with 1 Axes>"
      ]
     },
     "metadata": {},
     "output_type": "display_data"
    }
   ],
   "source": [
    "plt.figure(figsize=(15,10))\n",
    "plt.plot(life_exp['Year'], life_exp.Australia) # plotting life expectancy of the country with respect to year\n",
    "plt.legend()\n",
    "plt.xlabel('Year')\n",
    "plt.ylabel('Life expectancy in Australia')\n",
    "plt.show()"
   ]
  },
  {
   "cell_type": "markdown",
   "metadata": {},
   "source": [
    "<b>2. In Python plot the life expectancy of Australia, India and United States over time.<br></b>\n",
    "o Are the population values increasing or decreasing over time?"
   ]
  },
  {
   "cell_type": "code",
   "execution_count": 106,
   "metadata": {},
   "outputs": [
    {
     "data": {
      "image/png": "[encoded data removed]",
      "text/plain": [
       "<Figure size 1080x720 with 1 Axes>"
      ]
     },
     "metadata": {},
     "output_type": "display_data"
    }
   ],
   "source": [
    "plt.figure(figsize=(15,10))\n",
    "plt.plot(life_exp['Year'], life_exp['Australia'], color='red')\n",
    "plt.plot(life_exp['Year'], life_exp['India'], color='green')\n",
    "plt.plot(life_exp['Year'], life_exp['United States'], color='blue')\n",
    "plt.legend()\n",
    "plt.xlabel('Year')\n",
    "plt.ylabel('Life expectancy in years')\n",
    "plt.show()"
   ]
  },
  {
   "cell_type": "code",
   "execution_count": null,
   "metadata": {},
   "outputs": [],
   "source": []
  },
  {
   "cell_type": "markdown",
   "metadata": {},
   "source": [
    "<b>3. Fit a linear regression using Python to the Australian life expectancy data and plot the linear fit.<br></b>\n",
    "o Does the linear fit look good?<br>\n",
    "o Use the linear fit to predict the resident life expectancy in Australia in 2020 and 2100."
   ]
  },
  {
   "cell_type": "code",
   "execution_count": 107,
   "metadata": {},
   "outputs": [],
   "source": [
    "life_exp = life_exp.apply(pd.to_numeric)"
   ]
  },
  {
   "cell_type": "code",
   "execution_count": 108,
   "metadata": {},
   "outputs": [],
   "source": [
    "slope, intercept, r_value, p_value, std_err = linregress(life_exp['Year'], life_exp['Australia'])\n",
    "line = [slope*xi + intercept for xi in life_exp['Year']]"
   ]
  },
  {
   "cell_type": "code",
   "execution_count": 109,
   "metadata": {},
   "outputs": [
    {
     "data": {
      "image/png": "[encoded data removed]",
      "text/plain": [
       "<Figure size 1080x720 with 1 Axes>"
      ]
     },
     "metadata": {},
     "output_type": "display_data"
    },
    {
     "name": "stdout",
     "output_type": "stream",
     "text": [
      "The r_value is: 0.9714048246856087\n",
      "Life expectancy in Australia for year 2020 is: 85 years\n",
      "Life expectancy in Australia for year 2100 is: 107 years\n"
     ]
    }
   ],
   "source": [
    "plt.figure(figsize=(15,10))\n",
    "plt.plot(life_exp['Year'], line,'r-', linewidth=5) # plotting linear line regression\n",
    "plt.scatter(life_exp['Year'], life_exp['Australia']) # plotting life expectancy of Australia\n",
    "plt.legend()\n",
    "plt.xlabel('Year')\n",
    "plt.ylabel('Life expectancy')\n",
    "plt.show()\n",
    "print(\"The r_value is:\", r_value) # printing r_value\n",
    "for i in [2020,2100]:\n",
    "    print(\"Life expectancy in Australia for year\", i, \"is:\", int(slope*i+intercept), \"years\") # predicting life expectancy of Australia"
   ]
  },
  {
   "cell_type": "code",
   "execution_count": 110,
   "metadata": {},
   "outputs": [
    {
     "name": "stdout",
     "output_type": "stream",
     "text": [
      "Life expectancy in Australia for year 2150 is: 121 years\n"
     ]
    }
   ],
   "source": [
    "print(\"Life expectancy in Australia for year\", 2150, \"is:\", int(slope*2150+intercept), \"years\")"
   ]
  },
  {
   "cell_type": "code",
   "execution_count": 111,
   "metadata": {},
   "outputs": [
    {
     "data": {
      "text/html": [
       "<div>\n",
       "<style scoped>\n",
       "    .dataframe tbody tr th:only-of-type {\n",
       "        vertical-align: middle;\n",
       "    }\n",
       "\n",
       "    .dataframe tbody tr th {\n",
       "        vertical-align: top;\n",
       "    }\n",
       "\n",
       "    .dataframe thead th {\n",
       "        text-align: right;\n",
       "    }\n",
       "</style>\n",
       "<table border=\"1\" class=\"dataframe\">\n",
       "  <thead>\n",
       "    <tr style=\"text-align: right;\">\n",
       "      <th>country</th>\n",
       "      <th>Year</th>\n",
       "      <th>Afghanistan</th>\n",
       "      <th>Albania</th>\n",
       "      <th>Algeria</th>\n",
       "      <th>Andorra</th>\n",
       "      <th>Angola</th>\n",
       "      <th>Antigua and Barbuda</th>\n",
       "      <th>Argentina</th>\n",
       "      <th>Armenia</th>\n",
       "      <th>Australia</th>\n",
       "      <th>...</th>\n",
       "      <th>United Kingdom</th>\n",
       "      <th>United States</th>\n",
       "      <th>Uruguay</th>\n",
       "      <th>Uzbekistan</th>\n",
       "      <th>Vanuatu</th>\n",
       "      <th>Venezuela</th>\n",
       "      <th>Vietnam</th>\n",
       "      <th>Yemen</th>\n",
       "      <th>Zambia</th>\n",
       "      <th>Zimbabwe</th>\n",
       "    </tr>\n",
       "  </thead>\n",
       "  <tbody>\n",
       "    <tr>\n",
       "      <th>1</th>\n",
       "      <td>1800</td>\n",
       "      <td>28.2</td>\n",
       "      <td>35.4</td>\n",
       "      <td>28.8</td>\n",
       "      <td>NaN</td>\n",
       "      <td>27.0</td>\n",
       "      <td>33.5</td>\n",
       "      <td>33.2</td>\n",
       "      <td>34.0</td>\n",
       "      <td>34.0</td>\n",
       "      <td>...</td>\n",
       "      <td>38.6</td>\n",
       "      <td>39.4</td>\n",
       "      <td>32.9</td>\n",
       "      <td>26.9</td>\n",
       "      <td>24.3</td>\n",
       "      <td>32.2</td>\n",
       "      <td>32.0</td>\n",
       "      <td>23.4</td>\n",
       "      <td>32.6</td>\n",
       "      <td>33.7</td>\n",
       "    </tr>\n",
       "    <tr>\n",
       "      <th>2</th>\n",
       "      <td>1801</td>\n",
       "      <td>28.2</td>\n",
       "      <td>35.4</td>\n",
       "      <td>28.8</td>\n",
       "      <td>NaN</td>\n",
       "      <td>27.0</td>\n",
       "      <td>33.5</td>\n",
       "      <td>33.2</td>\n",
       "      <td>34.0</td>\n",
       "      <td>34.0</td>\n",
       "      <td>...</td>\n",
       "      <td>37.4</td>\n",
       "      <td>39.4</td>\n",
       "      <td>32.9</td>\n",
       "      <td>26.9</td>\n",
       "      <td>24.3</td>\n",
       "      <td>32.2</td>\n",
       "      <td>32.0</td>\n",
       "      <td>23.4</td>\n",
       "      <td>32.6</td>\n",
       "      <td>33.7</td>\n",
       "    </tr>\n",
       "    <tr>\n",
       "      <th>3</th>\n",
       "      <td>1802</td>\n",
       "      <td>28.2</td>\n",
       "      <td>35.4</td>\n",
       "      <td>28.8</td>\n",
       "      <td>NaN</td>\n",
       "      <td>27.0</td>\n",
       "      <td>33.5</td>\n",
       "      <td>33.2</td>\n",
       "      <td>34.0</td>\n",
       "      <td>34.0</td>\n",
       "      <td>...</td>\n",
       "      <td>38.6</td>\n",
       "      <td>39.4</td>\n",
       "      <td>32.9</td>\n",
       "      <td>26.9</td>\n",
       "      <td>24.3</td>\n",
       "      <td>32.2</td>\n",
       "      <td>32.0</td>\n",
       "      <td>23.4</td>\n",
       "      <td>32.6</td>\n",
       "      <td>33.7</td>\n",
       "    </tr>\n",
       "    <tr>\n",
       "      <th>4</th>\n",
       "      <td>1803</td>\n",
       "      <td>28.2</td>\n",
       "      <td>35.4</td>\n",
       "      <td>28.8</td>\n",
       "      <td>NaN</td>\n",
       "      <td>27.0</td>\n",
       "      <td>33.5</td>\n",
       "      <td>33.2</td>\n",
       "      <td>34.0</td>\n",
       "      <td>34.0</td>\n",
       "      <td>...</td>\n",
       "      <td>37.3</td>\n",
       "      <td>39.4</td>\n",
       "      <td>32.9</td>\n",
       "      <td>26.9</td>\n",
       "      <td>24.3</td>\n",
       "      <td>32.2</td>\n",
       "      <td>32.0</td>\n",
       "      <td>23.4</td>\n",
       "      <td>32.6</td>\n",
       "      <td>33.7</td>\n",
       "    </tr>\n",
       "    <tr>\n",
       "      <th>5</th>\n",
       "      <td>1804</td>\n",
       "      <td>28.2</td>\n",
       "      <td>35.4</td>\n",
       "      <td>28.8</td>\n",
       "      <td>NaN</td>\n",
       "      <td>27.0</td>\n",
       "      <td>33.5</td>\n",
       "      <td>33.2</td>\n",
       "      <td>34.0</td>\n",
       "      <td>34.0</td>\n",
       "      <td>...</td>\n",
       "      <td>41.4</td>\n",
       "      <td>39.4</td>\n",
       "      <td>32.9</td>\n",
       "      <td>26.9</td>\n",
       "      <td>24.3</td>\n",
       "      <td>32.2</td>\n",
       "      <td>32.0</td>\n",
       "      <td>23.4</td>\n",
       "      <td>32.6</td>\n",
       "      <td>33.7</td>\n",
       "    </tr>\n",
       "  </tbody>\n",
       "</table>\n",
       "<p>5 rows × 188 columns</p>\n",
       "</div>"
      ],
      "text/plain": [
       "country  Year  Afghanistan  Albania  Algeria  Andorra  Angola  \\\n",
       "1        1800         28.2     35.4     28.8      NaN    27.0   \n",
       "2        1801         28.2     35.4     28.8      NaN    27.0   \n",
       "3        1802         28.2     35.4     28.8      NaN    27.0   \n",
       "4        1803         28.2     35.4     28.8      NaN    27.0   \n",
       "5        1804         28.2     35.4     28.8      NaN    27.0   \n",
       "\n",
       "country  Antigua and Barbuda  Argentina  Armenia  Australia    ...     \\\n",
       "1                       33.5       33.2     34.0       34.0    ...      \n",
       "2                       33.5       33.2     34.0       34.0    ...      \n",
       "3                       33.5       33.2     34.0       34.0    ...      \n",
       "4                       33.5       33.2     34.0       34.0    ...      \n",
       "5                       33.5       33.2     34.0       34.0    ...      \n",
       "\n",
       "country  United Kingdom  United States  Uruguay  Uzbekistan  Vanuatu  \\\n",
       "1                  38.6           39.4     32.9        26.9     24.3   \n",
       "2                  37.4           39.4     32.9        26.9     24.3   \n",
       "3                  38.6           39.4     32.9        26.9     24.3   \n",
       "4                  37.3           39.4     32.9        26.9     24.3   \n",
       "5                  41.4           39.4     32.9        26.9     24.3   \n",
       "\n",
       "country  Venezuela  Vietnam  Yemen  Zambia  Zimbabwe  \n",
       "1             32.2     32.0   23.4    32.6      33.7  \n",
       "2             32.2     32.0   23.4    32.6      33.7  \n",
       "3             32.2     32.0   23.4    32.6      33.7  \n",
       "4             32.2     32.0   23.4    32.6      33.7  \n",
       "5             32.2     32.0   23.4    32.6      33.7  \n",
       "\n",
       "[5 rows x 188 columns]"
      ]
     },
     "execution_count": 111,
     "metadata": {},
     "output_type": "execute_result"
    }
   ],
   "source": [
    "life_exp.head()"
   ]
  },
  {
   "cell_type": "code",
   "execution_count": null,
   "metadata": {},
   "outputs": [],
   "source": []
  },
  {
   "cell_type": "markdown",
   "metadata": {},
   "source": [
    "<b>4. What is the maximum and minimum life expectancy of Australia from years 1800 to 2018 are? And compare these values against India, China and United States</b>"
   ]
  },
  {
   "cell_type": "code",
   "execution_count": 112,
   "metadata": {},
   "outputs": [
    {
     "name": "stdout",
     "output_type": "stream",
     "text": [
      "Maximum life expectancy of Australia from years 1800 to 2018 is 82.9 years\n"
     ]
    }
   ],
   "source": [
    "print(\"Maximum life expectancy of Australia from years 1800 to 2018 is\", np.max(life_exp['Australia']), \"years\") "
   ]
  },
  {
   "cell_type": "code",
   "execution_count": 113,
   "metadata": {},
   "outputs": [
    {
     "name": "stdout",
     "output_type": "stream",
     "text": [
      "Minimum life expectancy of Australia from years 1800 to 2018 is 34.0 years\n"
     ]
    }
   ],
   "source": [
    "print(\"Minimum life expectancy of Australia from years 1800 to 2018 is\", np.min(life_exp['Australia']), \"years\")"
   ]
  },
  {
   "cell_type": "code",
   "execution_count": 114,
   "metadata": {},
   "outputs": [],
   "source": [
    "life_exp_in = life_exp.loc[:, ['Year', 'China', 'Australia', 'United States', 'India']]"
   ]
  },
  {
   "cell_type": "code",
   "execution_count": 115,
   "metadata": {},
   "outputs": [
    {
     "data": {
      "text/plain": [
       "country\n",
       "Year             1800.0\n",
       "China              32.0\n",
       "Australia          34.0\n",
       "United States      39.4\n",
       "India              25.4\n",
       "Name: 1, dtype: float64"
      ]
     },
     "execution_count": 115,
     "metadata": {},
     "output_type": "execute_result"
    }
   ],
   "source": [
    "life_exp_in.loc[life_exp_in['Australia'].idxmin()] "
   ]
  },
  {
   "cell_type": "code",
   "execution_count": 116,
   "metadata": {},
   "outputs": [
    {
     "data": {
      "text/plain": [
       "country\n",
       "Year             2018.0\n",
       "China              76.9\n",
       "Australia          82.9\n",
       "United States      79.1\n",
       "India              69.1\n",
       "Name: 219, dtype: float64"
      ]
     },
     "execution_count": 116,
     "metadata": {},
     "output_type": "execute_result"
    }
   ],
   "source": [
    "life_exp_in.loc[life_exp_in['Australia'].idxmax()] "
   ]
  },
  {
   "cell_type": "code",
   "execution_count": 117,
   "metadata": {},
   "outputs": [
    {
     "data": {
      "text/plain": [
       "country\n",
       "Year             1918.00\n",
       "China              22.10\n",
       "Australia          55.00\n",
       "United States      47.20\n",
       "India               8.12\n",
       "Name: 119, dtype: float64"
      ]
     },
     "execution_count": 117,
     "metadata": {},
     "output_type": "execute_result"
    }
   ],
   "source": [
    "life_exp_in.loc[life_exp_in['India'].idxmin()] "
   ]
  },
  {
   "cell_type": "code",
   "execution_count": null,
   "metadata": {},
   "outputs": [],
   "source": []
  },
  {
   "cell_type": "code",
   "execution_count": 118,
   "metadata": {},
   "outputs": [],
   "source": [
    "life_melt = pd.melt(life_exp, id_vars=['Year'], var_name='Country', value_name='Life Expectancy')"
   ]
  },
  {
   "cell_type": "code",
   "execution_count": 119,
   "metadata": {},
   "outputs": [
    {
     "data": {
      "text/html": [
       "<div>\n",
       "<style scoped>\n",
       "    .dataframe tbody tr th:only-of-type {\n",
       "        vertical-align: middle;\n",
       "    }\n",
       "\n",
       "    .dataframe tbody tr th {\n",
       "        vertical-align: top;\n",
       "    }\n",
       "\n",
       "    .dataframe thead th {\n",
       "        text-align: right;\n",
       "    }\n",
       "</style>\n",
       "<table border=\"1\" class=\"dataframe\">\n",
       "  <thead>\n",
       "    <tr style=\"text-align: right;\">\n",
       "      <th></th>\n",
       "      <th>Year</th>\n",
       "      <th>Country</th>\n",
       "      <th>Life Expectancy</th>\n",
       "    </tr>\n",
       "  </thead>\n",
       "  <tbody>\n",
       "    <tr>\n",
       "      <th>0</th>\n",
       "      <td>1800</td>\n",
       "      <td>Afghanistan</td>\n",
       "      <td>28.2</td>\n",
       "    </tr>\n",
       "    <tr>\n",
       "      <th>1</th>\n",
       "      <td>1801</td>\n",
       "      <td>Afghanistan</td>\n",
       "      <td>28.2</td>\n",
       "    </tr>\n",
       "    <tr>\n",
       "      <th>2</th>\n",
       "      <td>1802</td>\n",
       "      <td>Afghanistan</td>\n",
       "      <td>28.2</td>\n",
       "    </tr>\n",
       "    <tr>\n",
       "      <th>3</th>\n",
       "      <td>1803</td>\n",
       "      <td>Afghanistan</td>\n",
       "      <td>28.2</td>\n",
       "    </tr>\n",
       "    <tr>\n",
       "      <th>4</th>\n",
       "      <td>1804</td>\n",
       "      <td>Afghanistan</td>\n",
       "      <td>28.2</td>\n",
       "    </tr>\n",
       "  </tbody>\n",
       "</table>\n",
       "</div>"
      ],
      "text/plain": [
       "   Year      Country  Life Expectancy\n",
       "0  1800  Afghanistan             28.2\n",
       "1  1801  Afghanistan             28.2\n",
       "2  1802  Afghanistan             28.2\n",
       "3  1803  Afghanistan             28.2\n",
       "4  1804  Afghanistan             28.2"
      ]
     },
     "execution_count": 119,
     "metadata": {},
     "output_type": "execute_result"
    }
   ],
   "source": [
    "life_melt.head()"
   ]
  },
  {
   "cell_type": "code",
   "execution_count": 120,
   "metadata": {},
   "outputs": [],
   "source": [
    "pop_inc_life = pd.merge(pop_inc, life_melt, on=['Year','Country'], how='left')"
   ]
  },
  {
   "cell_type": "code",
   "execution_count": 121,
   "metadata": {},
   "outputs": [
    {
     "data": {
      "text/html": [
       "<div>\n",
       "<style scoped>\n",
       "    .dataframe tbody tr th:only-of-type {\n",
       "        vertical-align: middle;\n",
       "    }\n",
       "\n",
       "    .dataframe tbody tr th {\n",
       "        vertical-align: top;\n",
       "    }\n",
       "\n",
       "    .dataframe thead th {\n",
       "        text-align: right;\n",
       "    }\n",
       "</style>\n",
       "<table border=\"1\" class=\"dataframe\">\n",
       "  <thead>\n",
       "    <tr style=\"text-align: right;\">\n",
       "      <th></th>\n",
       "      <th>Year</th>\n",
       "      <th>Country</th>\n",
       "      <th>Population</th>\n",
       "      <th>Income</th>\n",
       "      <th>Life Expectancy</th>\n",
       "    </tr>\n",
       "  </thead>\n",
       "  <tbody>\n",
       "    <tr>\n",
       "      <th>0</th>\n",
       "      <td>1800</td>\n",
       "      <td>Afghanistan</td>\n",
       "      <td>3280000</td>\n",
       "      <td>603.0</td>\n",
       "      <td>28.2</td>\n",
       "    </tr>\n",
       "    <tr>\n",
       "      <th>1</th>\n",
       "      <td>1801</td>\n",
       "      <td>Afghanistan</td>\n",
       "      <td>3280000</td>\n",
       "      <td>603.0</td>\n",
       "      <td>28.2</td>\n",
       "    </tr>\n",
       "    <tr>\n",
       "      <th>2</th>\n",
       "      <td>1802</td>\n",
       "      <td>Afghanistan</td>\n",
       "      <td>3280000</td>\n",
       "      <td>603.0</td>\n",
       "      <td>28.2</td>\n",
       "    </tr>\n",
       "    <tr>\n",
       "      <th>3</th>\n",
       "      <td>1803</td>\n",
       "      <td>Afghanistan</td>\n",
       "      <td>3280000</td>\n",
       "      <td>603.0</td>\n",
       "      <td>28.2</td>\n",
       "    </tr>\n",
       "    <tr>\n",
       "      <th>4</th>\n",
       "      <td>1804</td>\n",
       "      <td>Afghanistan</td>\n",
       "      <td>3280000</td>\n",
       "      <td>603.0</td>\n",
       "      <td>28.2</td>\n",
       "    </tr>\n",
       "  </tbody>\n",
       "</table>\n",
       "</div>"
      ],
      "text/plain": [
       "   Year      Country  Population  Income  Life Expectancy\n",
       "0  1800  Afghanistan     3280000   603.0             28.2\n",
       "1  1801  Afghanistan     3280000   603.0             28.2\n",
       "2  1802  Afghanistan     3280000   603.0             28.2\n",
       "3  1803  Afghanistan     3280000   603.0             28.2\n",
       "4  1804  Afghanistan     3280000   603.0             28.2"
      ]
     },
     "execution_count": 121,
     "metadata": {},
     "output_type": "execute_result"
    }
   ],
   "source": [
    "pop_inc_life.head()"
   ]
  },
  {
   "cell_type": "code",
   "execution_count": null,
   "metadata": {},
   "outputs": [],
   "source": []
  },
  {
   "cell_type": "code",
   "execution_count": null,
   "metadata": {},
   "outputs": [],
   "source": []
  },
  {
   "cell_type": "code",
   "execution_count": 122,
   "metadata": {},
   "outputs": [
    {
     "data": {
      "image/png": "[encoded data removed]",
      "text/plain": [
       "<Figure size 1080x720 with 1 Axes>"
      ]
     },
     "metadata": {},
     "output_type": "display_data"
    }
   ],
   "source": [
    "plt.figure(figsize=(15,10))\n",
    "plt.plot(pop_inc_life['Life Expectancy'], pop_inc_life['Income'], color='red')\n",
    "plt.legend()\n",
    "plt.xlabel('Population')\n",
    "plt.ylabel('CO2 emission')\n",
    "plt.show()"
   ]
  },
  {
   "cell_type": "code",
   "execution_count": 123,
   "metadata": {},
   "outputs": [],
   "source": [
    "df_pic_auchus = df_pop_inc_co2[df_pop_inc_co2['Country'].isin(['Australia', 'China','United States'])]"
   ]
  },
  {
   "cell_type": "code",
   "execution_count": 124,
   "metadata": {},
   "outputs": [],
   "source": [
    "pop_inc_life_aus = pop_inc_life[pop_inc_life['Country'].isin(['Australia'])]"
   ]
  },
  {
   "cell_type": "code",
   "execution_count": 125,
   "metadata": {},
   "outputs": [
    {
     "data": {
      "text/html": [
       "<div>\n",
       "<style scoped>\n",
       "    .dataframe tbody tr th:only-of-type {\n",
       "        vertical-align: middle;\n",
       "    }\n",
       "\n",
       "    .dataframe tbody tr th {\n",
       "        vertical-align: top;\n",
       "    }\n",
       "\n",
       "    .dataframe thead th {\n",
       "        text-align: right;\n",
       "    }\n",
       "</style>\n",
       "<table border=\"1\" class=\"dataframe\">\n",
       "  <thead>\n",
       "    <tr style=\"text-align: right;\">\n",
       "      <th></th>\n",
       "      <th>Year</th>\n",
       "      <th>Country</th>\n",
       "      <th>Population</th>\n",
       "      <th>Income</th>\n",
       "      <th>Life Expectancy</th>\n",
       "    </tr>\n",
       "  </thead>\n",
       "  <tbody>\n",
       "    <tr>\n",
       "      <th>1752</th>\n",
       "      <td>1800</td>\n",
       "      <td>Australia</td>\n",
       "      <td>351000</td>\n",
       "      <td>814.0</td>\n",
       "      <td>34.0</td>\n",
       "    </tr>\n",
       "    <tr>\n",
       "      <th>1753</th>\n",
       "      <td>1801</td>\n",
       "      <td>Australia</td>\n",
       "      <td>350000</td>\n",
       "      <td>816.0</td>\n",
       "      <td>34.0</td>\n",
       "    </tr>\n",
       "    <tr>\n",
       "      <th>1754</th>\n",
       "      <td>1802</td>\n",
       "      <td>Australia</td>\n",
       "      <td>349000</td>\n",
       "      <td>818.0</td>\n",
       "      <td>34.0</td>\n",
       "    </tr>\n",
       "    <tr>\n",
       "      <th>1755</th>\n",
       "      <td>1803</td>\n",
       "      <td>Australia</td>\n",
       "      <td>348000</td>\n",
       "      <td>820.0</td>\n",
       "      <td>34.0</td>\n",
       "    </tr>\n",
       "    <tr>\n",
       "      <th>1756</th>\n",
       "      <td>1804</td>\n",
       "      <td>Australia</td>\n",
       "      <td>348000</td>\n",
       "      <td>822.0</td>\n",
       "      <td>34.0</td>\n",
       "    </tr>\n",
       "  </tbody>\n",
       "</table>\n",
       "</div>"
      ],
      "text/plain": [
       "      Year    Country  Population  Income  Life Expectancy\n",
       "1752  1800  Australia      351000   814.0             34.0\n",
       "1753  1801  Australia      350000   816.0             34.0\n",
       "1754  1802  Australia      349000   818.0             34.0\n",
       "1755  1803  Australia      348000   820.0             34.0\n",
       "1756  1804  Australia      348000   822.0             34.0"
      ]
     },
     "execution_count": 125,
     "metadata": {},
     "output_type": "execute_result"
    }
   ],
   "source": [
    "pop_inc_life_aus.head()"
   ]
  },
  {
   "cell_type": "markdown",
   "metadata": {},
   "source": [
    "<b>5. We can see whether there is a relationship between Income and the life expectancy. Plot the values against each other for Australia.</b>\n"
   ]
  },
  {
   "cell_type": "code",
   "execution_count": 126,
   "metadata": {},
   "outputs": [
    {
     "data": {
      "image/png": "[encoded data removed]",
      "text/plain": [
       "<Figure size 1080x720 with 1 Axes>"
      ]
     },
     "metadata": {},
     "output_type": "display_data"
    }
   ],
   "source": [
    "plt.figure(figsize=(15,10))\n",
    "plt.plot(pop_inc_life_aus['Life Expectancy'], pop_inc_life_aus['Income'], color='red')\n",
    "plt.legend()\n",
    "plt.xlabel('Income - in thousand of dollars')\n",
    "plt.ylabel('Life expectancy')\n",
    "plt.show()"
   ]
  },
  {
   "cell_type": "code",
   "execution_count": 127,
   "metadata": {},
   "outputs": [
    {
     "data": {
      "text/html": [
       "\n",
       "        <iframe\n",
       "            width=\"900\"\n",
       "            height=\"700\"\n",
       "            src=\"mc_temp.html\"\n",
       "            frameborder=\"0\"\n",
       "            allowfullscreen\n",
       "        ></iframe>\n",
       "        "
      ],
      "text/plain": [
       "<IPython.lib.display.IFrame at 0x18b0a8adeb8>"
      ]
     },
     "metadata": {},
     "output_type": "display_data"
    }
   ],
   "source": [
    "mchart3 = MotionChart(pop_inc_life, key='Year', x='Life Expectancy', y='Income', xscale='linear', yscale='linear', size='Population', color='Country', category='Country')\n",
    "\n",
    "mchart3.to_notebook()"
   ]
  },
  {
   "cell_type": "markdown",
   "metadata": {},
   "source": [
    "Not much activity until 1970 so slicing the dataframe for better analysis."
   ]
  },
  {
   "cell_type": "code",
   "execution_count": 128,
   "metadata": {},
   "outputs": [],
   "source": [
    "pop_inc_life_o = pop_inc_life[(pop_inc_life['Year']>=1970)]\n"
   ]
  },
  {
   "cell_type": "code",
   "execution_count": 129,
   "metadata": {},
   "outputs": [
    {
     "data": {
      "text/html": [
       "<div>\n",
       "<style scoped>\n",
       "    .dataframe tbody tr th:only-of-type {\n",
       "        vertical-align: middle;\n",
       "    }\n",
       "\n",
       "    .dataframe tbody tr th {\n",
       "        vertical-align: top;\n",
       "    }\n",
       "\n",
       "    .dataframe thead th {\n",
       "        text-align: right;\n",
       "    }\n",
       "</style>\n",
       "<table border=\"1\" class=\"dataframe\">\n",
       "  <thead>\n",
       "    <tr style=\"text-align: right;\">\n",
       "      <th></th>\n",
       "      <th>Year</th>\n",
       "      <th>Country</th>\n",
       "      <th>Population</th>\n",
       "      <th>Income</th>\n",
       "      <th>Life Expectancy</th>\n",
       "    </tr>\n",
       "  </thead>\n",
       "  <tbody>\n",
       "    <tr>\n",
       "      <th>170</th>\n",
       "      <td>1970</td>\n",
       "      <td>Afghanistan</td>\n",
       "      <td>11100000</td>\n",
       "      <td>1180.0</td>\n",
       "      <td>45.8</td>\n",
       "    </tr>\n",
       "    <tr>\n",
       "      <th>171</th>\n",
       "      <td>1971</td>\n",
       "      <td>Afghanistan</td>\n",
       "      <td>11400000</td>\n",
       "      <td>1100.0</td>\n",
       "      <td>45.9</td>\n",
       "    </tr>\n",
       "    <tr>\n",
       "      <th>172</th>\n",
       "      <td>1972</td>\n",
       "      <td>Afghanistan</td>\n",
       "      <td>11700000</td>\n",
       "      <td>1050.0</td>\n",
       "      <td>45.9</td>\n",
       "    </tr>\n",
       "    <tr>\n",
       "      <th>173</th>\n",
       "      <td>1973</td>\n",
       "      <td>Afghanistan</td>\n",
       "      <td>12000000</td>\n",
       "      <td>1150.0</td>\n",
       "      <td>46.0</td>\n",
       "    </tr>\n",
       "    <tr>\n",
       "      <th>174</th>\n",
       "      <td>1974</td>\n",
       "      <td>Afghanistan</td>\n",
       "      <td>12300000</td>\n",
       "      <td>1180.0</td>\n",
       "      <td>46.1</td>\n",
       "    </tr>\n",
       "  </tbody>\n",
       "</table>\n",
       "</div>"
      ],
      "text/plain": [
       "     Year      Country  Population  Income  Life Expectancy\n",
       "170  1970  Afghanistan    11100000  1180.0             45.8\n",
       "171  1971  Afghanistan    11400000  1100.0             45.9\n",
       "172  1972  Afghanistan    11700000  1050.0             45.9\n",
       "173  1973  Afghanistan    12000000  1150.0             46.0\n",
       "174  1974  Afghanistan    12300000  1180.0             46.1"
      ]
     },
     "execution_count": 129,
     "metadata": {},
     "output_type": "execute_result"
    }
   ],
   "source": [
    "pop_inc_life_o.head()"
   ]
  },
  {
   "cell_type": "code",
   "execution_count": 130,
   "metadata": {},
   "outputs": [],
   "source": [
    "pop_inc_life_o = pop_inc_life_o[pop_inc_life_o['Country'].isin(['Australia', 'India', 'China', 'United States', 'Germany', 'United Kingdom', 'Russia', 'South Africa', 'Zimbabwe', 'Qatar', 'Brunei', 'United Arab Emirates', 'Italy', 'Brazil', 'Singapore', 'South Sudan', 'Japan', 'Afghanistan'])]"
   ]
  },
  {
   "cell_type": "code",
   "execution_count": 131,
   "metadata": {},
   "outputs": [
    {
     "data": {
      "text/html": [
       "\n",
       "        <iframe\n",
       "            width=\"900\"\n",
       "            height=\"700\"\n",
       "            src=\"mc_temp.html\"\n",
       "            frameborder=\"0\"\n",
       "            allowfullscreen\n",
       "        ></iframe>\n",
       "        "
      ],
      "text/plain": [
       "<IPython.lib.display.IFrame at 0x18b0a8970f0>"
      ]
     },
     "metadata": {},
     "output_type": "display_data"
    }
   ],
   "source": [
    "mchart4 = MotionChart(pop_inc_life_o, key='Year', x='Life Expectancy', y='Income', xscale='linear', yscale='linear', size='Population', color='Country', category='Country')\n",
    "\n",
    "mchart4.to_notebook()"
   ]
  },
  {
   "cell_type": "code",
   "execution_count": null,
   "metadata": {},
   "outputs": [],
   "source": []
  }
 ],
 "metadata": {
  "kernelspec": {
   "display_name": "Python 3",
   "language": "python",
   "name": "python3"
  },
  "language_info": {
   "codemirror_mode": {
    "name": "ipython",
    "version": 3
   },
   "file_extension": ".py",
   "mimetype": "text/x-python",
   "name": "python",
   "nbconvert_exporter": "python",
   "pygments_lexer": "ipython3",
   "version": "3.6.5"
  }
 },
 "nbformat": 4,
 "nbformat_minor": 2
}
